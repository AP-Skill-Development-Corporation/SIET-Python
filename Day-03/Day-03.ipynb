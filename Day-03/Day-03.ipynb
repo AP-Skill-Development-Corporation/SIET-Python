{
 "cells": [
  {
   "cell_type": "markdown",
   "id": "feef9b00",
   "metadata": {},
   "source": [
    "```\n",
    "    Addition of 4 and 5 is: ?\n",
    "    Substraction of '4' and '5' is: '?'\n",
    "    Division of 4.0 and 5.00 is: '?'\n",
    "    Modulus of '4.0' and 5.0 is: '?.00'\n",
    "```"
   ]
  },
  {
   "cell_type": "code",
   "execution_count": 15,
   "id": "a586fb62",
   "metadata": {},
   "outputs": [
    {
     "name": "stdout",
     "output_type": "stream",
     "text": [
      "6\n",
      "7\n",
      "Addition of 6 and 7 is: 13\n",
      "Addition of '6' and '7' is: '-1'\n",
      "Division of 6.0 and 7.00 is: '0'\n",
      "Modulus of '6.0' and 7.0 is: '6.00'\n"
     ]
    }
   ],
   "source": [
    "t,y = int(input()),int(input())\n",
    "print(f\"Addition of {t} and {y} is: {t+y}\")\n",
    "print(f\"Addition of '{t}' and '{y}' is: '{t-y}'\")\n",
    "print(f\"Division of {t:.01f} and {y:.02f} is: '{int(t/y)}'\")\n",
    "print(f\"Modulus of '{t:.01f}' and {y:.01f} is: '{float(t%y):.02f}'\")"
   ]
  },
  {
   "cell_type": "code",
   "execution_count": 9,
   "id": "9be91b57",
   "metadata": {},
   "outputs": [
    {
     "name": "stdout",
     "output_type": "stream",
     "text": [
      "45.6\n",
      "45.6\n"
     ]
    }
   ],
   "source": [
    "h = 45.5678\n",
    "print(\"{:.01f}\".format(h))\n",
    "print(f\"{h:.01f}\")"
   ]
  },
  {
   "cell_type": "markdown",
   "id": "8ca31438",
   "metadata": {},
   "source": [
    "## Conditional statements:\n",
    "    - To check whether a given condition is either True or False\n",
    "    - for checking purpose\n",
    "    - if => single case\n",
    "    - if-else => two cases\n",
    "    - elif => 3 or more n number cases\n",
    "    - nested if => 3 or more cases"
   ]
  },
  {
   "cell_type": "markdown",
   "id": "1c732829",
   "metadata": {},
   "source": [
    "# if\n",
    "    Syntax:\n",
    "        if (condition):\n",
    "            //stmnts"
   ]
  },
  {
   "cell_type": "code",
   "execution_count": 18,
   "id": "d0650198",
   "metadata": {},
   "outputs": [
    {
     "name": "stdout",
     "output_type": "stream",
     "text": [
      "Enter a number to fix: 45\n",
      "Enter a number to guess: 34\n"
     ]
    }
   ],
   "source": [
    "m = int(input(\"Enter a number to fix: \"))\n",
    "n = int(input(\"Enter a number to guess: \"))\n",
    "if n == m:\n",
    "    print(f\"Given number {n} is equal to 90\")"
   ]
  },
  {
   "cell_type": "code",
   "execution_count": 20,
   "id": "a4048114",
   "metadata": {},
   "outputs": [
    {
     "name": "stdout",
     "output_type": "stream",
     "text": [
      "Enter a number: 800\n"
     ]
    }
   ],
   "source": [
    "k = int(input(\"Enter a number: \"))\n",
    "if k<=300:\n",
    "    print(f\"Given number {k} is lesser than 300\")"
   ]
  },
  {
   "cell_type": "markdown",
   "id": "18c3a937",
   "metadata": {},
   "source": [
    "# if-else\n",
    "    Syntax:\n",
    "        if (condition):\n",
    "            //stmnt-1\n",
    "        else:\n",
    "            //stmnt-2"
   ]
  },
  {
   "cell_type": "code",
   "execution_count": 22,
   "id": "99d5f5ff",
   "metadata": {},
   "outputs": [
    {
     "name": "stdout",
     "output_type": "stream",
     "text": [
      "Enter a number: 6\n",
      "Given number 6 is Even\n"
     ]
    }
   ],
   "source": [
    "g = int(input(\"Enter a number: \"))\n",
    "if g%2==0:\n",
    "    print(f\"Given number {g} is Even\")\n",
    "else:\n",
    "    print(f\"Given number {g} is Odd\")"
   ]
  },
  {
   "cell_type": "markdown",
   "id": "7295a2b3",
   "metadata": {},
   "source": [
    "```\n",
    "Input-1:\n",
    "    16\n",
    "Output-1:\n",
    "    Entered age is 16 you need to wait still 2 years for voting\n",
    "\n",
    "Input-2:\n",
    "    20\n",
    "Output-2:\n",
    "    Entered age is 20 you had voting eligible from past 2 years\n",
    "```"
   ]
  },
  {
   "cell_type": "code",
   "execution_count": 29,
   "id": "f722f106",
   "metadata": {},
   "outputs": [
    {
     "name": "stdout",
     "output_type": "stream",
     "text": [
      "10\n",
      "Entered age is 10 you need to wait still 8 years for voting\n"
     ]
    }
   ],
   "source": [
    "a = int(input())\n",
    "if a>=18:\n",
    "    print(f\"Entered age is {a} you had voting eligible\" \n",
    "          f\" from past {a-18} years\")\n",
    "else:\n",
    "    print(f\"Entered age is {a} you need to wait still \"\n",
    "          f\"{18-a} years for voting\")"
   ]
  },
  {
   "cell_type": "markdown",
   "id": "1b5773ee",
   "metadata": {},
   "source": [
    "## elif:\n",
    "    Syntax:\n",
    "        if condition-1:\n",
    "            //stmnt-1\n",
    "        elif condition-2:\n",
    "            //stmnt-2\n",
    "            |        |\n",
    "        elif condition-(n):\n",
    "            //stmnt-n\n",
    "        else:\n",
    "            //stmnt-(n-2)"
   ]
  },
  {
   "cell_type": "code",
   "execution_count": 51,
   "id": "3073bee9",
   "metadata": {},
   "outputs": [
    {
     "name": "stdout",
     "output_type": "stream",
     "text": [
      "Enter a number: 905\n",
      "Given number is 905\n"
     ]
    }
   ],
   "source": [
    "n = int(input(\"Enter a number: \"))\n",
    "if n%2==0:\n",
    "    print(\"Given number is {} Even\".format(n))\n",
    "elif n>=300 and n<=500:\n",
    "    print(\"Given number is {} and it is greater than 300\"\n",
    "          .format(n))\n",
    "elif n<=600 and n<=800:\n",
    "    print(\"Given number is {} and it is Lesser than 600\"\n",
    "          .format(n))\n",
    "else:\n",
    "    print(\"Given number is {}\".format(n))"
   ]
  },
  {
   "cell_type": "markdown",
   "id": "33bca35f",
   "metadata": {},
   "source": [
    "## Nested if:\n",
    "    Syntax:\n",
    "        if condition-1:\n",
    "            if condition-2:\n",
    "                //stmnt-1\n",
    "            else:\n",
    "                //stmnt-2\n",
    "        else:\n",
    "            //stmnt-n"
   ]
  },
  {
   "cell_type": "code",
   "execution_count": 58,
   "id": "ef2f8f96",
   "metadata": {},
   "outputs": [
    {
     "name": "stdout",
     "output_type": "stream",
     "text": [
      "Enter username: sample@gmail.com\n",
      "Enter password: 656\n",
      "p Invalid username/password\n"
     ]
    }
   ],
   "source": [
    "user=input(\"Enter username: \")\n",
    "pwd = input(\"Enter password: \")\n",
    "if user == \"sample@gmail.com\":\n",
    "    if pwd == \"900\":\n",
    "        print(\"Welcome User {}!!\".format(user))\n",
    "    else:\n",
    "        print(\"Invalid username/password\")\n",
    "else:\n",
    "    print(\"Invalid username/password\")"
   ]
  },
  {
   "cell_type": "code",
   "execution_count": 65,
   "id": "4d4268b2",
   "metadata": {},
   "outputs": [
    {
     "name": "stdout",
     "output_type": "stream",
     "text": [
      "Enter username: asdasd\n",
      "Enter password: 123123\n",
      "Invalid username/password\n"
     ]
    }
   ],
   "source": [
    "user=input(\"Enter username: \")\n",
    "pwd = input(\"Enter password: \")\n",
    "if user == \"sample@gmail.com\" and pwd == \"900\":\n",
    "    print(\"Welcome User {}!!\".format(user))\n",
    "else:\n",
    "    print(\"Invalid username/password\")"
   ]
  },
  {
   "cell_type": "code",
   "execution_count": 60,
   "id": "927c4415",
   "metadata": {},
   "outputs": [
    {
     "name": "stdout",
     "output_type": "stream",
     "text": [
      "----------Registration-----------\n",
      "Create username: tarun@gmail.com\n",
      "Create password: 234\n",
      "tarun@gmail.com Created Successfully\n",
      "----------Login------------\n",
      "Enter username: tarun@gmail.com\n",
      "Enter password: 234\n",
      "Welcome User tarun@gmail.com!!\n"
     ]
    }
   ],
   "source": [
    "print(\"----------Registration-----------\")\n",
    "u = input(\"Create username: \")\n",
    "p = input(\"Create password: \")\n",
    "print(f\"{u} Created Successfully\")\n",
    "print(\"----------Login------------\")\n",
    "user=input(\"Enter username: \")\n",
    "pwd = input(\"Enter password: \")\n",
    "if user == u:\n",
    "    if pwd == p:\n",
    "        print(\"Welcome User {}!!\".format(user))\n",
    "    else:\n",
    "        print(\"Invalid username/password\")\n",
    "else:\n",
    "    print(\"Invalid username/password\")"
   ]
  },
  {
   "cell_type": "code",
   "execution_count": 63,
   "id": "eaf24cd0",
   "metadata": {},
   "outputs": [
    {
     "name": "stdout",
     "output_type": "stream",
     "text": [
      "Enter username: demo@gmail.com\n",
      "Enter password: 890\n",
      "Welcome user demo@gmail.com!!!!\n"
     ]
    }
   ],
   "source": [
    "t = input(\"Enter username: \")\n",
    "if t == \"demo@gmail.com\":\n",
    "    y = input(\"Enter password: \")\n",
    "    if y == \"890\":\n",
    "        print(\"Welcome user {}!!!!\".format(t))\n",
    "    else:\n",
    "        print(\"Incorrect Password!!\")\n",
    "else:\n",
    "    print(\"Invalid username {}!!\".format(t))"
   ]
  },
  {
   "cell_type": "markdown",
   "id": "8651ab9d",
   "metadata": {},
   "source": [
    "# Control Statements:\n",
    "## Loops or Iterations or Repitions\n",
    "    - To control the flow of execuiton\n",
    "    - To control the flow of statements\n",
    "    - for => For particular range [Known ranges]\n",
    "    - while => For infinity and for ranges [unknown and known ranges]"
   ]
  },
  {
   "cell_type": "markdown",
   "id": "44355a0d",
   "metadata": {},
   "source": [
    "## for \n",
    "    Syntax:\n",
    "        for iterationvariablename in iterator:\n",
    "            //stmnts\n",
    "        \n",
    "        for iterationvariablename in range(start,stop,step):\n",
    "            //stmnts"
   ]
  },
  {
   "cell_type": "markdown",
   "id": "7e3f6a88",
   "metadata": {},
   "source": [
    "# range\n",
    "    => range(stop):\n",
    "        - By default it starts with exactly \"0\"\n",
    "        - It ends with stop-1\n",
    "        - By default it increments with \"+1\"\n",
    "        Ex:\n",
    "            range(6)\n",
    "            0 1 2 3 4 5\n",
    "    => range(start,stop):\n",
    "        - By default it increments with \"+1\"\n",
    "        - It starts with exactly start value\n",
    "        - It stops with stop-1\n",
    "        Ex:\n",
    "            range(10,15)\n",
    "            10 11 12 13 14\n",
    "    => range(start,stop,step):\n",
    "        - It starts with exactly start value\n",
    "        - It stops with stop-1\n",
    "        - It steps[incr/decr] with step value\n",
    "        Ex:\n",
    "            range(10,20,5)\n",
    "            10 15"
   ]
  },
  {
   "cell_type": "code",
   "execution_count": 70,
   "id": "723ca2ed",
   "metadata": {},
   "outputs": [
    {
     "name": "stdout",
     "output_type": "stream",
     "text": [
      "10\n",
      "0 1 2 3 4 5 6 7 8 9 "
     ]
    }
   ],
   "source": [
    "n = int(input())\n",
    "for i in range(n):\n",
    "    print(i,end=\" \")"
   ]
  },
  {
   "cell_type": "markdown",
   "id": "cf3229df",
   "metadata": {},
   "source": [
    "```\n",
    "Input:\n",
    "    5\n",
    "Output:\n",
    "    5 4 3 2 1 0\n",
    "```"
   ]
  },
  {
   "cell_type": "code",
   "execution_count": 71,
   "id": "db8d0491",
   "metadata": {},
   "outputs": [
    {
     "name": "stdout",
     "output_type": "stream",
     "text": [
      "Enter starting range: 10\n",
      "Enter Ending range: 20\n",
      "10 11 12 13 14 15 16 17 18 19 "
     ]
    }
   ],
   "source": [
    "s = int(input(\"Enter starting range: \"))\n",
    "st = int(input(\"Enter Ending range: \"))\n",
    "for i in range(s,st):\n",
    "    print(i,end=\" \")"
   ]
  },
  {
   "cell_type": "code",
   "execution_count": null,
   "id": "10ff9cd0",
   "metadata": {},
   "outputs": [],
   "source": [
    "Input:\n",
    "    1\n",
    "    20\n",
    "Output:\n",
    "    21EM1A0501\n",
    "    21EM1A0502\n",
    "    | | | | | |\n",
    "    21EM1A0509\n",
    "    21EM1A0510\n",
    "    | | | | | |\n",
    "    21EM1A0519"
   ]
  },
  {
   "cell_type": "code",
   "execution_count": 75,
   "id": "61c6c183",
   "metadata": {},
   "outputs": [
    {
     "name": "stdout",
     "output_type": "stream",
     "text": [
      "1\n",
      "12\n",
      "21EM1A0501\n",
      "21EM1A0502\n",
      "21EM1A0503\n",
      "21EM1A0504\n",
      "21EM1A0505\n",
      "21EM1A0506\n",
      "21EM1A0507\n",
      "21EM1A0508\n",
      "21EM1A0509\n",
      "21EM1A0510\n",
      "21EM1A0511\n"
     ]
    }
   ],
   "source": [
    "n = int(input())\n",
    "m = int(input())\n",
    "for i in range(n,m):\n",
    "    print(f\"21EM1A05{i:02d}\")"
   ]
  },
  {
   "cell_type": "code",
   "execution_count": 82,
   "id": "1afbffba",
   "metadata": {},
   "outputs": [
    {
     "name": "stdout",
     "output_type": "stream",
     "text": [
      "Enter starting range: -30\n",
      "Enter ending range: -10\n",
      "Enter step value: 5\n",
      "-30 -25 -20 -15 "
     ]
    }
   ],
   "source": [
    "s = int(input(\"Enter starting range: \"))\n",
    "e = int(input(\"Enter ending range: \"))\n",
    "t = int(input(\"Enter step value: \"))\n",
    "for i in range(s,e,t):\n",
    "    print(i,end=\" \")"
   ]
  },
  {
   "cell_type": "markdown",
   "id": "f7557cbc",
   "metadata": {},
   "source": [
    "# While:\n",
    "    Syntax:\n",
    "        initialization\n",
    "        while condition:\n",
    "            //stmnts\n",
    "            incr/decr"
   ]
  },
  {
   "cell_type": "code",
   "execution_count": 83,
   "id": "568cdbaa",
   "metadata": {},
   "outputs": [
    {
     "name": "stdout",
     "output_type": "stream",
     "text": [
      "10\n",
      "0 1 2 3 4 5 6 7 8 9 "
     ]
    }
   ],
   "source": [
    "n = int(input())\n",
    "i = 0\n",
    "while i!=n:\n",
    "    print(i,end=\" \")\n",
    "    i+=1"
   ]
  },
  {
   "cell_type": "code",
   "execution_count": 85,
   "id": "ae51b398",
   "metadata": {},
   "outputs": [
    {
     "name": "stdout",
     "output_type": "stream",
     "text": [
      "10\n",
      "9 8 7 6 5 4 3 2 1 0 "
     ]
    }
   ],
   "source": [
    "n = int(input())\n",
    "i = 0\n",
    "while n!=i:\n",
    "    n-=1\n",
    "    print(n,end=\" \")"
   ]
  },
  {
   "cell_type": "code",
   "execution_count": null,
   "id": "cc9bccb1",
   "metadata": {},
   "outputs": [],
   "source": []
  }
 ],
 "metadata": {
  "kernelspec": {
   "display_name": "Python 3 (ipykernel)",
   "language": "python",
   "name": "python3"
  },
  "language_info": {
   "codemirror_mode": {
    "name": "ipython",
    "version": 3
   },
   "file_extension": ".py",
   "mimetype": "text/x-python",
   "name": "python",
   "nbconvert_exporter": "python",
   "pygments_lexer": "ipython3",
   "version": "3.7.5"
  }
 },
 "nbformat": 4,
 "nbformat_minor": 5
}
