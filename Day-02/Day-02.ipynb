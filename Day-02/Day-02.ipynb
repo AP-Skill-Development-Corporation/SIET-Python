{
 "cells": [
  {
   "cell_type": "code",
   "execution_count": 6,
   "id": "283db4f3",
   "metadata": {},
   "outputs": [
    {
     "data": {
      "text/plain": [
       "10"
      ]
     },
     "execution_count": 6,
     "metadata": {},
     "output_type": "execute_result"
    }
   ],
   "source": [
    "a"
   ]
  },
  {
   "cell_type": "markdown",
   "id": "4e0335f3",
   "metadata": {},
   "source": [
    "# Shortcuts for jupyter notebook\n",
    "    - esc + m => coding format => markdown\n",
    "    - esc + y => Mardown => Coding\n",
    "    - alt + enter => preset cell execution and creates new cell \n",
    "    - cntrl+ enter => present cell execution\n",
    "    - shift + enter => present cell execution and shifts to below cell\n",
    "    - cntrl + ? => comment / uncomment\n",
    "    - esc + d d => present cell will be delete\n",
    "    - esc + a => insert cell above\n",
    "    - esc + b => insert cell below"
   ]
  },
  {
   "cell_type": "markdown",
   "id": "373a5aa6",
   "metadata": {},
   "source": [
    "# Variables\n",
    "    - To store a value \n",
    "    - To change a value"
   ]
  },
  {
   "cell_type": "code",
   "execution_count": 5,
   "id": "593757e4",
   "metadata": {},
   "outputs": [
    {
     "data": {
      "text/plain": [
       "10"
      ]
     },
     "execution_count": 5,
     "metadata": {},
     "output_type": "execute_result"
    }
   ],
   "source": [
    "a = 10\n",
    "a"
   ]
  },
  {
   "cell_type": "code",
   "execution_count": 2,
   "id": "da4e7c16",
   "metadata": {},
   "outputs": [],
   "source": [
    "a = 200"
   ]
  },
  {
   "cell_type": "code",
   "execution_count": 3,
   "id": "732c90c7",
   "metadata": {},
   "outputs": [
    {
     "data": {
      "text/plain": [
       "200"
      ]
     },
     "execution_count": 3,
     "metadata": {},
     "output_type": "execute_result"
    }
   ],
   "source": [
    "a"
   ]
  },
  {
   "cell_type": "code",
   "execution_count": 8,
   "id": "51653378",
   "metadata": {},
   "outputs": [
    {
     "data": {
      "text/plain": [
       "500"
      ]
     },
     "execution_count": 8,
     "metadata": {},
     "output_type": "execute_result"
    }
   ],
   "source": [
    "b"
   ]
  },
  {
   "cell_type": "code",
   "execution_count": 7,
   "id": "a6d50145",
   "metadata": {},
   "outputs": [],
   "source": [
    "b = 500"
   ]
  },
  {
   "cell_type": "code",
   "execution_count": 10,
   "id": "6dc67347",
   "metadata": {},
   "outputs": [
    {
     "data": {
      "text/plain": [
       "10"
      ]
     },
     "execution_count": 10,
     "metadata": {},
     "output_type": "execute_result"
    }
   ],
   "source": [
    "b\n",
    "a"
   ]
  },
  {
   "cell_type": "code",
   "execution_count": 11,
   "id": "76dca629",
   "metadata": {},
   "outputs": [
    {
     "data": {
      "text/plain": [
       "(10, 500)"
      ]
     },
     "execution_count": 11,
     "metadata": {},
     "output_type": "execute_result"
    }
   ],
   "source": [
    "a,b"
   ]
  },
  {
   "cell_type": "code",
   "execution_count": 15,
   "id": "f4676b94",
   "metadata": {},
   "outputs": [
    {
     "ename": "ValueError",
     "evalue": "not enough values to unpack (expected 5, got 4)",
     "output_type": "error",
     "traceback": [
      "\u001b[1;31m---------------------------------------------------------------------------\u001b[0m",
      "\u001b[1;31mValueError\u001b[0m                                Traceback (most recent call last)",
      "\u001b[1;32m~\\AppData\\Local\\Temp\\ipykernel_2104\\594193968.py\u001b[0m in \u001b[0;36m<module>\u001b[1;34m\u001b[0m\n\u001b[1;32m----> 1\u001b[1;33m \u001b[0mm\u001b[0m\u001b[1;33m,\u001b[0m\u001b[0mn\u001b[0m\u001b[1;33m,\u001b[0m\u001b[0mp\u001b[0m\u001b[1;33m,\u001b[0m\u001b[0mt\u001b[0m\u001b[1;33m,\u001b[0m\u001b[0my\u001b[0m \u001b[1;33m=\u001b[0m \u001b[1;36m12\u001b[0m\u001b[1;33m,\u001b[0m\u001b[1;36m6\u001b[0m\u001b[1;33m,\u001b[0m\u001b[1;36m78.00\u001b[0m\u001b[1;33m,\u001b[0m\u001b[1;36m78\u001b[0m\u001b[1;33m\u001b[0m\u001b[1;33m\u001b[0m\u001b[0m\n\u001b[0m",
      "\u001b[1;31mValueError\u001b[0m: not enough values to unpack (expected 5, got 4)"
     ]
    }
   ],
   "source": [
    "m,n,p,t,y = 12,6,78.00,78"
   ]
  },
  {
   "cell_type": "code",
   "execution_count": 16,
   "id": "f9dc1bac",
   "metadata": {},
   "outputs": [
    {
     "data": {
      "text/plain": [
       "(34, 90)"
      ]
     },
     "execution_count": 16,
     "metadata": {},
     "output_type": "execute_result"
    }
   ],
   "source": [
    "r,t = 34,90\n",
    "(r,t)"
   ]
  },
  {
   "cell_type": "code",
   "execution_count": 17,
   "id": "ede7d11c",
   "metadata": {},
   "outputs": [
    {
     "data": {
      "text/plain": [
       "(90, 90)"
      ]
     },
     "execution_count": 17,
     "metadata": {},
     "output_type": "execute_result"
    }
   ],
   "source": [
    "f = g = 90\n",
    "f,g"
   ]
  },
  {
   "cell_type": "code",
   "execution_count": 19,
   "id": "d772f046",
   "metadata": {},
   "outputs": [
    {
     "name": "stdout",
     "output_type": "stream",
     "text": [
      "34 67.00\n"
     ]
    },
    {
     "data": {
      "text/plain": [
       "(34, '67.00')"
      ]
     },
     "execution_count": 19,
     "metadata": {},
     "output_type": "execute_result"
    }
   ],
   "source": [
    "v,k = 34,'67.00'\n",
    "print(v,k)\n",
    "v,k"
   ]
  },
  {
   "cell_type": "markdown",
   "id": "253dd934",
   "metadata": {},
   "source": [
    "# Data Types:\n",
    "    - int => only integer values\n",
    "    - float => it stores decimal values\n",
    "    - str => enclosed with ' or \"\n",
    "    - boolean => True or False\n",
    "    - All Data Structures [list,tuple,set and dictionary,string]"
   ]
  },
  {
   "cell_type": "markdown",
   "id": "be03d350",
   "metadata": {},
   "source": [
    "## Typecasting:\n",
    "    - To change one data type to another data type\n",
    "    - int()\n",
    "    - float()\n",
    "    - str()\n",
    "    - All Data structures [list(),tuple(),set() and dict()]"
   ]
  },
  {
   "cell_type": "markdown",
   "id": "fd23968b",
   "metadata": {},
   "source": [
    "# input():\n",
    "    - By default it stores string data type values\n",
    "    - It will displays an info to an user\n",
    "    Syntax:\n",
    "        variable_name = input(\"info\")"
   ]
  },
  {
   "cell_type": "code",
   "execution_count": null,
   "id": "87d6cf92",
   "metadata": {},
   "outputs": [],
   "source": [
    "5 * 4 * 3 * 2 * 1\n",
    "5 * 4 * 3 * 2\n",
    "5 * 4 * 6\n",
    "5 * 24\n",
    "120\n",
    "\n",
    "5 * 4 * 3 * 2 * 1\n",
    "20 * 3 * 2 * 1\n",
    "60 * 2 * 1\n",
    "120 * 1\n",
    "120\n"
   ]
  },
  {
   "cell_type": "code",
   "execution_count": 5,
   "id": "c69d6eae",
   "metadata": {},
   "outputs": [
    {
     "name": "stdout",
     "output_type": "stream",
     "text": [
      "enter a value: 34\n",
      "34\n"
     ]
    }
   ],
   "source": [
    "d = input(\"enter a value: \")\n",
    "print(d)"
   ]
  },
  {
   "cell_type": "code",
   "execution_count": 3,
   "id": "d974745d",
   "metadata": {},
   "outputs": [
    {
     "data": {
      "text/plain": [
       "34"
      ]
     },
     "execution_count": 3,
     "metadata": {},
     "output_type": "execute_result"
    }
   ],
   "source": [
    "h = 34\n",
    "h"
   ]
  },
  {
   "cell_type": "code",
   "execution_count": 4,
   "id": "1565dcca",
   "metadata": {},
   "outputs": [
    {
     "data": {
      "text/plain": [
       "34"
      ]
     },
     "execution_count": 4,
     "metadata": {},
     "output_type": "execute_result"
    }
   ],
   "source": [
    "h"
   ]
  },
  {
   "cell_type": "code",
   "execution_count": 6,
   "id": "0003001a",
   "metadata": {},
   "outputs": [
    {
     "name": "stdout",
     "output_type": "stream",
     "text": [
      "Enter a value: 34\n",
      "Enter b value: 67\n",
      "34 67\n"
     ]
    }
   ],
   "source": [
    "r = input(\"Enter a value: \")\n",
    "b = input(\"Enter b value: \")\n",
    "print(r,b)"
   ]
  },
  {
   "cell_type": "code",
   "execution_count": 7,
   "id": "39226526",
   "metadata": {},
   "outputs": [
    {
     "name": "stdout",
     "output_type": "stream",
     "text": [
      "Enter a value: 45\n",
      "Enter b value: 67\n",
      "45 67\n"
     ]
    }
   ],
   "source": [
    "a,g = input(\"Enter a value: \"),input(\"Enter b value: \")\n",
    "print(a,g)"
   ]
  },
  {
   "cell_type": "markdown",
   "id": "9d6286cf",
   "metadata": {},
   "source": [
    "## type():\n",
    "    - To known the data type of a varaible\n",
    "    Syntax:\n",
    "        type(variable_name)"
   ]
  },
  {
   "cell_type": "code",
   "execution_count": 8,
   "id": "1bdcb8cd",
   "metadata": {},
   "outputs": [
    {
     "data": {
      "text/plain": [
       "int"
      ]
     },
     "execution_count": 8,
     "metadata": {},
     "output_type": "execute_result"
    }
   ],
   "source": [
    "y = 45\n",
    "type(y)"
   ]
  },
  {
   "cell_type": "code",
   "execution_count": 9,
   "id": "c8aa06f5",
   "metadata": {},
   "outputs": [
    {
     "name": "stdout",
     "output_type": "stream",
     "text": [
      "<class 'int'>\n"
     ]
    }
   ],
   "source": [
    "print(type(y))"
   ]
  },
  {
   "cell_type": "code",
   "execution_count": 10,
   "id": "27989aa2",
   "metadata": {},
   "outputs": [
    {
     "name": "stdout",
     "output_type": "stream",
     "text": [
      "Enter a name: raju\n",
      "Enter age: 45\n",
      "raju <class 'str'>\n",
      "45 <class 'str'>\n"
     ]
    }
   ],
   "source": [
    "e,u = input(\"Enter a name: \"),input(\"Enter age: \")\n",
    "print(e,type(e))\n",
    "print(u,type(u))"
   ]
  },
  {
   "cell_type": "code",
   "execution_count": 14,
   "id": "3d08591c",
   "metadata": {},
   "outputs": [
    {
     "data": {
      "text/plain": [
       "2"
      ]
     },
     "execution_count": 14,
     "metadata": {},
     "output_type": "execute_result"
    }
   ],
   "source": [
    "m = 2\n",
    "n = 3\n",
    "m & n"
   ]
  },
  {
   "cell_type": "code",
   "execution_count": 12,
   "id": "3a407d66",
   "metadata": {},
   "outputs": [
    {
     "data": {
      "text/plain": [
       "30"
      ]
     },
     "execution_count": 12,
     "metadata": {},
     "output_type": "execute_result"
    }
   ],
   "source": [
    "m | n"
   ]
  },
  {
   "cell_type": "code",
   "execution_count": null,
   "id": "6e3b8bb9",
   "metadata": {},
   "outputs": [],
   "source": [
    "30\\2=\n",
    "15\\2=0\n",
    "7\\2=1\n",
    "3\\2=1\n",
    "1=1\n",
    "11110\n"
   ]
  },
  {
   "cell_type": "code",
   "execution_count": null,
   "id": "ecad6eae",
   "metadata": {},
   "outputs": [],
   "source": [
    "40=110000\n",
    "2^3+2^2+2^1+2^0\n",
    "0+0+0+0+32+64\n",
    "96\n",
    "\n",
    "64 32 16 8 4 2 1\n"
   ]
  },
  {
   "cell_type": "code",
   "execution_count": 15,
   "id": "7aa98a91",
   "metadata": {},
   "outputs": [
    {
     "name": "stdout",
     "output_type": "stream",
     "text": [
      "5\n",
      "80\n"
     ]
    }
   ],
   "source": [
    "a = 20\n",
    "print(a>>2)\n",
    "print(a<<2)"
   ]
  },
  {
   "cell_type": "code",
   "execution_count": 18,
   "id": "9df07db3",
   "metadata": {},
   "outputs": [
    {
     "name": "stdout",
     "output_type": "stream",
     "text": [
      "enter first value: 3\n",
      "enter second value: 5\n",
      "35\n",
      "8\n",
      "<class 'str'> <class 'str'>\n"
     ]
    }
   ],
   "source": [
    "t,m = input(\"enter first value: \"),input(\"enter second value: \")\n",
    "print(t+m)\n",
    "print(int(t)+int(m))\n",
    "print(type(t),type(m))"
   ]
  },
  {
   "cell_type": "markdown",
   "id": "34fdb971",
   "metadata": {},
   "source": [
    "# Operators:\n",
    "    - Arithmetic => +,-,*,/,%,(floor //),power(**)\n",
    "    - Logical => AND,NOT,OR,XOR\n",
    "    - Bitwise => &,|,!,^,>>,<<\n",
    "    - Relational => !=,==,>=,<=,\n",
    "    - Assignment => +=,-=,/=,//=,%=\n",
    "    - Identity => is,is not\n",
    "    - Membership => in, not in"
   ]
  },
  {
   "cell_type": "markdown",
   "id": "82449bd5",
   "metadata": {},
   "source": [
    "## Ouput formatting:\n",
    "    - ,\n",
    "    - .format\n",
    "    - %\n",
    "    - f"
   ]
  },
  {
   "cell_type": "code",
   "execution_count": 25,
   "id": "a6725315",
   "metadata": {},
   "outputs": [
    {
     "name": "stdout",
     "output_type": "stream",
     "text": [
      "enter a number: 4\n",
      "enter b number: 9\n",
      "Addition of 4 and 9 is:  13\n",
      "Substraction of 4 and 9 is: -5\n",
      "Division of 9 and 4 is: 0.4444444444444444\n",
      "Modulus of 4 and 9 is: 4\n"
     ]
    }
   ],
   "source": [
    "a = int(input(\"enter a number: \"))\n",
    "b = int(input(\"enter b number: \"))\n",
    "print(\"Addition of\",a,\"and\",b,\"is: \",a+b)\n",
    "print(\"Substraction of %d and %d is: %d\"%(a,b,a-b))\n",
    "print(\"Division of {1} and {0} is: {2}\".format(a,b,a/b))\n",
    "print(f\"Modulus of {a} and {b} is: {a%b}\")"
   ]
  },
  {
   "cell_type": "markdown",
   "id": "5890aa8e",
   "metadata": {},
   "source": [
    "```\n",
    "Input:\n",
    "    4\n",
    "    5\n",
    "Output:\n",
    "    Addition of 4 and 5 is: ?\n",
    "    Substraction of '4' and '5' is: '?'\n",
    "    Division of 4.0 and 5.00 is: '?'\n",
    "    Modulus of '4.0' and 5.0 is: '?.00'\n",
    "```"
   ]
  },
  {
   "cell_type": "code",
   "execution_count": null,
   "id": "bd6f8670",
   "metadata": {},
   "outputs": [],
   "source": []
  }
 ],
 "metadata": {
  "kernelspec": {
   "display_name": "Python 3 (ipykernel)",
   "language": "python",
   "name": "python3"
  },
  "language_info": {
   "codemirror_mode": {
    "name": "ipython",
    "version": 3
   },
   "file_extension": ".py",
   "mimetype": "text/x-python",
   "name": "python",
   "nbconvert_exporter": "python",
   "pygments_lexer": "ipython3",
   "version": "3.7.5"
  }
 },
 "nbformat": 4,
 "nbformat_minor": 5
}
