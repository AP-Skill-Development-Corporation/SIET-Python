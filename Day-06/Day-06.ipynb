{
 "cells": [
  {
   "cell_type": "markdown",
   "id": "8a45d6ad",
   "metadata": {},
   "source": [
    "## Set:\n",
    "    - It stores all data type elements\n",
    "    - It stores the dayta in order format in kernel and unorder format by using print statement\n",
    "    - It can changes the items in a set\n",
    "    - It cant allows the duplicate values\n",
    "    - Slicing cant be done becuase of no index in a set\n",
    "    - It can be represented with \"{}\" with single item value\n",
    "    - It can be typecasted as set()"
   ]
  },
  {
   "cell_type": "code",
   "execution_count": 4,
   "id": "31b2f784",
   "metadata": {},
   "outputs": [
    {
     "name": "stdout",
     "output_type": "stream",
     "text": [
      "{False, 1.45, 2, '56', 45.56, None, 'manjusha'} <class 'set'>\n"
     ]
    }
   ],
   "source": [
    "d = {2,45.56,\"manjusha\",False,None,'56',2,2,2,1.45}\n",
    "print(d,type(d))"
   ]
  },
  {
   "cell_type": "code",
   "execution_count": 2,
   "id": "12113e5b",
   "metadata": {},
   "outputs": [
    {
     "name": "stdout",
     "output_type": "stream",
     "text": [
      "{} <class 'dict'>\n",
      "{89} <class 'set'>\n"
     ]
    }
   ],
   "source": [
    "t,m = {},{89}\n",
    "print(t,type(t))\n",
    "print(m,type(m))"
   ]
  },
  {
   "cell_type": "code",
   "execution_count": 6,
   "id": "5c701304",
   "metadata": {},
   "outputs": [
    {
     "name": "stdout",
     "output_type": "stream",
     "text": [
      "{False, 1.45, 2, '56', 45.56, None, 'manjusha'}\n"
     ]
    },
    {
     "data": {
      "text/plain": [
       "{1.45, 2, 45.56, '56', False, None, 'manjusha'}"
      ]
     },
     "execution_count": 6,
     "metadata": {},
     "output_type": "execute_result"
    }
   ],
   "source": [
    "print(d)\n",
    "d"
   ]
  },
  {
   "cell_type": "code",
   "execution_count": 8,
   "id": "b0f7e5b4",
   "metadata": {},
   "outputs": [
    {
     "ename": "TypeError",
     "evalue": "'set' object is not subscriptable",
     "output_type": "error",
     "traceback": [
      "\u001b[1;31m---------------------------------------------------------------------------\u001b[0m",
      "\u001b[1;31mTypeError\u001b[0m                                 Traceback (most recent call last)",
      "\u001b[1;32m~\\AppData\\Local\\Temp\\ipykernel_6992\\2175660898.py\u001b[0m in \u001b[0;36m<module>\u001b[1;34m\u001b[0m\n\u001b[0;32m      1\u001b[0m \u001b[1;32mfor\u001b[0m \u001b[0mi\u001b[0m \u001b[1;32min\u001b[0m \u001b[0mrange\u001b[0m\u001b[1;33m(\u001b[0m\u001b[0mlen\u001b[0m\u001b[1;33m(\u001b[0m\u001b[0md\u001b[0m\u001b[1;33m)\u001b[0m\u001b[1;33m)\u001b[0m\u001b[1;33m:\u001b[0m\u001b[1;33m\u001b[0m\u001b[1;33m\u001b[0m\u001b[0m\n\u001b[1;32m----> 2\u001b[1;33m     \u001b[0mprint\u001b[0m\u001b[1;33m(\u001b[0m\u001b[0md\u001b[0m\u001b[1;33m[\u001b[0m\u001b[0mi\u001b[0m\u001b[1;33m]\u001b[0m\u001b[1;33m,\u001b[0m\u001b[0mend\u001b[0m\u001b[1;33m=\u001b[0m\u001b[1;34m\" \"\u001b[0m\u001b[1;33m)\u001b[0m\u001b[1;33m\u001b[0m\u001b[1;33m\u001b[0m\u001b[0m\n\u001b[0m",
      "\u001b[1;31mTypeError\u001b[0m: 'set' object is not subscriptable"
     ]
    }
   ],
   "source": [
    "for i in range(len(d)):\n",
    "    print(d[i],end=\" \")"
   ]
  },
  {
   "cell_type": "code",
   "execution_count": 9,
   "id": "5c2e0012",
   "metadata": {},
   "outputs": [
    {
     "name": "stdout",
     "output_type": "stream",
     "text": [
      "False 1.45 2 56 45.56 None manjusha "
     ]
    }
   ],
   "source": [
    "for i in d:\n",
    "    print(i,end=\" \")"
   ]
  },
  {
   "cell_type": "code",
   "execution_count": 10,
   "id": "bd1a4792",
   "metadata": {},
   "outputs": [
    {
     "name": "stdout",
     "output_type": "stream",
     "text": [
      "['__and__', '__class__', '__contains__', '__delattr__', '__dir__', '__doc__', '__eq__', '__format__', '__ge__', '__getattribute__', '__gt__', '__hash__', '__iand__', '__init__', '__init_subclass__', '__ior__', '__isub__', '__iter__', '__ixor__', '__le__', '__len__', '__lt__', '__ne__', '__new__', '__or__', '__rand__', '__reduce__', '__reduce_ex__', '__repr__', '__ror__', '__rsub__', '__rxor__', '__setattr__', '__sizeof__', '__str__', '__sub__', '__subclasshook__', '__xor__', 'add', 'clear', 'copy', 'difference', 'difference_update', 'discard', 'intersection', 'intersection_update', 'isdisjoint', 'issubset', 'issuperset', 'pop', 'remove', 'symmetric_difference', 'symmetric_difference_update', 'union', 'update']\n"
     ]
    }
   ],
   "source": [
    "print(dir(set))"
   ]
  },
  {
   "cell_type": "code",
   "execution_count": 11,
   "id": "dc9007b2",
   "metadata": {},
   "outputs": [
    {
     "name": "stdout",
     "output_type": "stream",
     "text": [
      "{34, 4, 78, 79, 56, 345}\n"
     ]
    }
   ],
   "source": [
    "s1 = {34,56,78,79,345,345,4}\n",
    "print(s1)"
   ]
  },
  {
   "cell_type": "code",
   "execution_count": 13,
   "id": "4c8dd127",
   "metadata": {},
   "outputs": [
    {
     "name": "stdout",
     "output_type": "stream",
     "text": [
      "{34, 4, 78, 79, 56, 345}\n",
      "{34, 4, 78, 79, 343, 56, 345}\n"
     ]
    }
   ],
   "source": [
    "print(s1)\n",
    "s1.add(343)\n",
    "print(s1)"
   ]
  },
  {
   "cell_type": "code",
   "execution_count": 14,
   "id": "698e763d",
   "metadata": {},
   "outputs": [
    {
     "name": "stdout",
     "output_type": "stream",
     "text": [
      "{34, 4, 78, 79, 343, 56, 345}\n"
     ]
    },
    {
     "ename": "TypeError",
     "evalue": "add() takes exactly one argument (2 given)",
     "output_type": "error",
     "traceback": [
      "\u001b[1;31m---------------------------------------------------------------------------\u001b[0m",
      "\u001b[1;31mTypeError\u001b[0m                                 Traceback (most recent call last)",
      "\u001b[1;32m~\\AppData\\Local\\Temp\\ipykernel_6992\\3015065191.py\u001b[0m in \u001b[0;36m<module>\u001b[1;34m\u001b[0m\n\u001b[0;32m      1\u001b[0m \u001b[0mprint\u001b[0m\u001b[1;33m(\u001b[0m\u001b[0ms1\u001b[0m\u001b[1;33m)\u001b[0m\u001b[1;33m\u001b[0m\u001b[1;33m\u001b[0m\u001b[0m\n\u001b[1;32m----> 2\u001b[1;33m \u001b[0ms1\u001b[0m\u001b[1;33m.\u001b[0m\u001b[0madd\u001b[0m\u001b[1;33m(\u001b[0m\u001b[1;36m3\u001b[0m\u001b[1;33m,\u001b[0m\u001b[1;36m56\u001b[0m\u001b[1;33m)\u001b[0m\u001b[1;33m\u001b[0m\u001b[1;33m\u001b[0m\u001b[0m\n\u001b[0m\u001b[0;32m      3\u001b[0m \u001b[0mprint\u001b[0m\u001b[1;33m(\u001b[0m\u001b[0ms1\u001b[0m\u001b[1;33m)\u001b[0m\u001b[1;33m\u001b[0m\u001b[1;33m\u001b[0m\u001b[0m\n",
      "\u001b[1;31mTypeError\u001b[0m: add() takes exactly one argument (2 given)"
     ]
    }
   ],
   "source": [
    "print(s1)\n",
    "s1.add(3,56)\n",
    "print(s1)"
   ]
  },
  {
   "cell_type": "code",
   "execution_count": 15,
   "id": "ad8484a7",
   "metadata": {},
   "outputs": [
    {
     "name": "stdout",
     "output_type": "stream",
     "text": [
      "{34, 4, 78, 79, 343, 56, 345}\n"
     ]
    },
    {
     "ename": "TypeError",
     "evalue": "unhashable type: 'list'",
     "output_type": "error",
     "traceback": [
      "\u001b[1;31m---------------------------------------------------------------------------\u001b[0m",
      "\u001b[1;31mTypeError\u001b[0m                                 Traceback (most recent call last)",
      "\u001b[1;32m~\\AppData\\Local\\Temp\\ipykernel_6992\\4086320850.py\u001b[0m in \u001b[0;36m<module>\u001b[1;34m\u001b[0m\n\u001b[0;32m      1\u001b[0m \u001b[0mprint\u001b[0m\u001b[1;33m(\u001b[0m\u001b[0ms1\u001b[0m\u001b[1;33m)\u001b[0m\u001b[1;33m\u001b[0m\u001b[1;33m\u001b[0m\u001b[0m\n\u001b[1;32m----> 2\u001b[1;33m \u001b[0ms1\u001b[0m\u001b[1;33m.\u001b[0m\u001b[0madd\u001b[0m\u001b[1;33m(\u001b[0m\u001b[1;33m[\u001b[0m\u001b[1;36m3\u001b[0m\u001b[1;33m,\u001b[0m\u001b[1;36m56\u001b[0m\u001b[1;33m]\u001b[0m\u001b[1;33m)\u001b[0m\u001b[1;33m\u001b[0m\u001b[1;33m\u001b[0m\u001b[0m\n\u001b[0m\u001b[0;32m      3\u001b[0m \u001b[0mprint\u001b[0m\u001b[1;33m(\u001b[0m\u001b[0ms1\u001b[0m\u001b[1;33m)\u001b[0m\u001b[1;33m\u001b[0m\u001b[1;33m\u001b[0m\u001b[0m\n",
      "\u001b[1;31mTypeError\u001b[0m: unhashable type: 'list'"
     ]
    }
   ],
   "source": [
    "print(s1)\n",
    "s1.add([3,56])\n",
    "print(s1)"
   ]
  },
  {
   "cell_type": "code",
   "execution_count": 16,
   "id": "e388bc6c",
   "metadata": {},
   "outputs": [
    {
     "name": "stdout",
     "output_type": "stream",
     "text": [
      "{34, 4, 78, 79, 343, 56, 345}\n"
     ]
    },
    {
     "ename": "TypeError",
     "evalue": "unhashable type: 'set'",
     "output_type": "error",
     "traceback": [
      "\u001b[1;31m---------------------------------------------------------------------------\u001b[0m",
      "\u001b[1;31mTypeError\u001b[0m                                 Traceback (most recent call last)",
      "\u001b[1;32m~\\AppData\\Local\\Temp\\ipykernel_6992\\893565273.py\u001b[0m in \u001b[0;36m<module>\u001b[1;34m\u001b[0m\n\u001b[0;32m      1\u001b[0m \u001b[0mprint\u001b[0m\u001b[1;33m(\u001b[0m\u001b[0ms1\u001b[0m\u001b[1;33m)\u001b[0m\u001b[1;33m\u001b[0m\u001b[1;33m\u001b[0m\u001b[0m\n\u001b[1;32m----> 2\u001b[1;33m \u001b[0ms1\u001b[0m\u001b[1;33m.\u001b[0m\u001b[0madd\u001b[0m\u001b[1;33m(\u001b[0m\u001b[1;33m{\u001b[0m\u001b[1;36m3\u001b[0m\u001b[1;33m,\u001b[0m\u001b[1;36m56\u001b[0m\u001b[1;33m}\u001b[0m\u001b[1;33m)\u001b[0m\u001b[1;33m\u001b[0m\u001b[1;33m\u001b[0m\u001b[0m\n\u001b[0m\u001b[0;32m      3\u001b[0m \u001b[0mprint\u001b[0m\u001b[1;33m(\u001b[0m\u001b[0ms1\u001b[0m\u001b[1;33m)\u001b[0m\u001b[1;33m\u001b[0m\u001b[1;33m\u001b[0m\u001b[0m\n",
      "\u001b[1;31mTypeError\u001b[0m: unhashable type: 'set'"
     ]
    }
   ],
   "source": [
    "print(s1)\n",
    "s1.add({3,56})\n",
    "print(s1)"
   ]
  },
  {
   "cell_type": "code",
   "execution_count": 26,
   "id": "3bf05d91",
   "metadata": {},
   "outputs": [
    {
     "name": "stdout",
     "output_type": "stream",
     "text": [
      "{34, 3, 100, 5, 6}\n",
      "{34, 67, 3, 5, 12, 340}\n"
     ]
    }
   ],
   "source": [
    "s1 = {3,5,6,100,34}\n",
    "s2 = {34,5,67,340,12,3}\n",
    "print(s1)\n",
    "print(s2)"
   ]
  },
  {
   "cell_type": "code",
   "execution_count": 19,
   "id": "cda88995",
   "metadata": {},
   "outputs": [
    {
     "name": "stdout",
     "output_type": "stream",
     "text": [
      "{34, 3, 100, 5, 6}\n",
      "{34, 67, 3, 5, 12, 340}\n",
      "{34, 3, 100, 5, 6, 67, 12, 340}\n",
      "{34, 3, 100, 5, 6}\n",
      "{34, 67, 3, 5, 12, 340}\n"
     ]
    }
   ],
   "source": [
    "print(s1)\n",
    "print(s2)\n",
    "print(s1.union(s2))\n",
    "print(s1)\n",
    "print(s2)"
   ]
  },
  {
   "cell_type": "code",
   "execution_count": 20,
   "id": "f98e166b",
   "metadata": {},
   "outputs": [
    {
     "name": "stdout",
     "output_type": "stream",
     "text": [
      "{34, 3, 100, 5, 6}\n",
      "{34, 67, 3, 5, 12, 340}\n",
      "{34, 3, 5}\n",
      "{34, 3, 100, 5, 6}\n",
      "{34, 67, 3, 5, 12, 340}\n"
     ]
    }
   ],
   "source": [
    "print(s1)\n",
    "print(s2)\n",
    "print(s1.intersection(s2))\n",
    "print(s1)\n",
    "print(s2)"
   ]
  },
  {
   "cell_type": "code",
   "execution_count": 22,
   "id": "33e10a02",
   "metadata": {},
   "outputs": [
    {
     "name": "stdout",
     "output_type": "stream",
     "text": [
      "{34, 3, 100, 5, 6}\n",
      "{34, 67, 3, 5, 12, 340}\n",
      "{100, 6}\n",
      "{67, 12, 340}\n",
      "{34, 3, 100, 5, 6}\n",
      "{34, 67, 3, 5, 12, 340}\n"
     ]
    }
   ],
   "source": [
    "print(s1)\n",
    "print(s2)\n",
    "print(s1.difference(s2))\n",
    "print(s2.difference(s1))\n",
    "print(s1)\n",
    "print(s2)"
   ]
  },
  {
   "cell_type": "code",
   "execution_count": 23,
   "id": "877321c2",
   "metadata": {},
   "outputs": [
    {
     "name": "stdout",
     "output_type": "stream",
     "text": [
      "{34, 3, 100, 5, 6}\n",
      "{34, 67, 3, 5, 12, 340}\n",
      "{67, 100, 340, 6, 12}\n",
      "{34, 3, 100, 5, 6}\n",
      "{34, 67, 3, 5, 12, 340}\n"
     ]
    }
   ],
   "source": [
    "print(s1)\n",
    "print(s2)\n",
    "print(s1.symmetric_difference(s2))\n",
    "print(s1)\n",
    "print(s2)"
   ]
  },
  {
   "cell_type": "code",
   "execution_count": 24,
   "id": "0270a8e0",
   "metadata": {},
   "outputs": [
    {
     "name": "stdout",
     "output_type": "stream",
     "text": [
      "{34, 3, 100, 5, 6}\n",
      "{34, 67, 3, 5, 12, 340}\n",
      "{34, 3, 5}\n",
      "{34, 67, 3, 5, 12, 340}\n"
     ]
    }
   ],
   "source": [
    "print(s1)\n",
    "print(s2)\n",
    "s1.intersection_update(s2)\n",
    "print(s1)\n",
    "print(s2)"
   ]
  },
  {
   "cell_type": "code",
   "execution_count": 27,
   "id": "1986cb7a",
   "metadata": {},
   "outputs": [
    {
     "name": "stdout",
     "output_type": "stream",
     "text": [
      "{34, 3, 100, 5, 6}\n",
      "{34, 67, 3, 5, 12, 340}\n",
      "{34, 3, 100, 5, 6}\n",
      "{67, 12, 340}\n"
     ]
    }
   ],
   "source": [
    "print(s1)\n",
    "print(s2)\n",
    "s2.difference_update(s1)\n",
    "print(s1)\n",
    "print(s2)"
   ]
  },
  {
   "cell_type": "code",
   "execution_count": 28,
   "id": "23edf871",
   "metadata": {},
   "outputs": [
    {
     "name": "stdout",
     "output_type": "stream",
     "text": [
      "{34, 3, 100, 5, 6}\n",
      "{67, 12, 340}\n",
      "{34, 3, 100, 5, 6, 67, 12, 340}\n",
      "{67, 12, 340}\n"
     ]
    }
   ],
   "source": [
    "print(s1)\n",
    "print(s2)\n",
    "s1.symmetric_difference_update(s2)\n",
    "print(s1)\n",
    "print(s2)"
   ]
  },
  {
   "cell_type": "code",
   "execution_count": 29,
   "id": "db9fade1",
   "metadata": {},
   "outputs": [
    {
     "name": "stdout",
     "output_type": "stream",
     "text": [
      "{34, 3, 100, 5, 6, 67, 12, 340}\n",
      "{3, 100, 5, 6, 67, 12, 340}\n"
     ]
    }
   ],
   "source": [
    "print(s1)\n",
    "s1.pop()\n",
    "print(s1)"
   ]
  },
  {
   "cell_type": "code",
   "execution_count": 30,
   "id": "73177e5b",
   "metadata": {},
   "outputs": [
    {
     "name": "stdout",
     "output_type": "stream",
     "text": [
      "{3, 100, 5, 6, 67, 12, 340}\n"
     ]
    },
    {
     "ename": "TypeError",
     "evalue": "pop() takes no arguments (1 given)",
     "output_type": "error",
     "traceback": [
      "\u001b[1;31m---------------------------------------------------------------------------\u001b[0m",
      "\u001b[1;31mTypeError\u001b[0m                                 Traceback (most recent call last)",
      "\u001b[1;32m~\\AppData\\Local\\Temp\\ipykernel_6992\\756552567.py\u001b[0m in \u001b[0;36m<module>\u001b[1;34m\u001b[0m\n\u001b[0;32m      1\u001b[0m \u001b[0mprint\u001b[0m\u001b[1;33m(\u001b[0m\u001b[0ms1\u001b[0m\u001b[1;33m)\u001b[0m\u001b[1;33m\u001b[0m\u001b[1;33m\u001b[0m\u001b[0m\n\u001b[1;32m----> 2\u001b[1;33m \u001b[0ms1\u001b[0m\u001b[1;33m.\u001b[0m\u001b[0mpop\u001b[0m\u001b[1;33m(\u001b[0m\u001b[1;36m6\u001b[0m\u001b[1;33m)\u001b[0m\u001b[1;33m\u001b[0m\u001b[1;33m\u001b[0m\u001b[0m\n\u001b[0m\u001b[0;32m      3\u001b[0m \u001b[0mprint\u001b[0m\u001b[1;33m(\u001b[0m\u001b[0ms1\u001b[0m\u001b[1;33m)\u001b[0m\u001b[1;33m\u001b[0m\u001b[1;33m\u001b[0m\u001b[0m\n",
      "\u001b[1;31mTypeError\u001b[0m: pop() takes no arguments (1 given)"
     ]
    }
   ],
   "source": [
    "print(s1)\n",
    "s1.pop(6)\n",
    "print(s1)"
   ]
  },
  {
   "cell_type": "code",
   "execution_count": 31,
   "id": "61570a67",
   "metadata": {},
   "outputs": [
    {
     "name": "stdout",
     "output_type": "stream",
     "text": [
      "{3, 100, 5, 6, 67, 12, 340}\n",
      "{3, 100, 5, 67, 12, 340}\n"
     ]
    }
   ],
   "source": [
    "print(s1)\n",
    "s1.remove(6)\n",
    "print(s1)"
   ]
  },
  {
   "cell_type": "code",
   "execution_count": 39,
   "id": "9f85b24f",
   "metadata": {},
   "outputs": [
    {
     "name": "stdout",
     "output_type": "stream",
     "text": [
      "{45, 6, 7}\n",
      "{2}\n",
      "{45, 6, 7}\n",
      "{2, 45, 6, 7}\n"
     ]
    }
   ],
   "source": [
    "s1 = {45,6,7}\n",
    "s2 = {2}\n",
    "print(s1)\n",
    "print(s2)\n",
    "s2.update(s1)\n",
    "print(s1)\n",
    "print(s2)"
   ]
  },
  {
   "cell_type": "code",
   "execution_count": 40,
   "id": "aedb4a10",
   "metadata": {},
   "outputs": [
    {
     "name": "stdout",
     "output_type": "stream",
     "text": [
      "{45, 6, 7}\n",
      "{6, 7}\n"
     ]
    }
   ],
   "source": [
    "print(s1)\n",
    "s1.discard(45)\n",
    "print(s1)"
   ]
  },
  {
   "cell_type": "code",
   "execution_count": 41,
   "id": "2910cba4",
   "metadata": {},
   "outputs": [
    {
     "data": {
      "text/plain": [
       "{6, 7}"
      ]
     },
     "execution_count": 41,
     "metadata": {},
     "output_type": "execute_result"
    }
   ],
   "source": [
    "s1"
   ]
  },
  {
   "cell_type": "code",
   "execution_count": 44,
   "id": "46e37c5a",
   "metadata": {},
   "outputs": [
    {
     "name": "stdout",
     "output_type": "stream",
     "text": [
      "Enter a range: 5\n",
      "Enter 1 number: 2\n",
      "Enter 2 number: 2\n",
      "Enter 3 number: 2\n",
      "Enter 4 number: 1\n",
      "Enter 5 number: 5\n",
      "{1: 1, 2: 3, 5: 1}\n"
     ]
    }
   ],
   "source": [
    "g = int(input(\"Enter a range: \"))\n",
    "f,n = [],{}\n",
    "for i in range(g):\n",
    "    k = int(input(f\"Enter {i+1} number: \"))\n",
    "    f.append(k)\n",
    "h = list(set(f))\n",
    "for i in h:\n",
    "    n[i] = f.count(i)\n",
    "print(n)"
   ]
  },
  {
   "cell_type": "markdown",
   "id": "001c2a53",
   "metadata": {},
   "source": [
    "## Strings:\n",
    "    - It can be enclosed with ' or \"\n",
    "    - It can stores any data type values enclosed with ' or \"\n",
    "    - group of characters\n",
    "    - Slicing can be done because of index\n",
    "    - Duplicate values can be accessed\n",
    "    - It can changes the values when same variable is used but the memory is changed when it is changed.\n",
    "    - It can be typecasted with str()"
   ]
  },
  {
   "cell_type": "code",
   "execution_count": 45,
   "id": "9e72c939",
   "metadata": {},
   "outputs": [
    {
     "name": "stdout",
     "output_type": "stream",
     "text": [
      "python is an interprested language <class 'str'>\n"
     ]
    }
   ],
   "source": [
    "s = \"python is an interprested language\"\n",
    "print(s,type(s))"
   ]
  },
  {
   "cell_type": "code",
   "execution_count": 49,
   "id": "8dfcae0a",
   "metadata": {},
   "outputs": [
    {
     "data": {
      "text/plain": [
       "str"
      ]
     },
     "execution_count": 49,
     "metadata": {},
     "output_type": "execute_result"
    }
   ],
   "source": [
    "s = 'None'\n",
    "type(s)"
   ]
  },
  {
   "cell_type": "code",
   "execution_count": 51,
   "id": "bee72b97",
   "metadata": {},
   "outputs": [
    {
     "name": "stdout",
     "output_type": "stream",
     "text": [
      "45 2653835773040\n",
      "45 2653835773040\n"
     ]
    }
   ],
   "source": [
    "a = '45'\n",
    "b = a\n",
    "print(a,id(a))\n",
    "print(b,id(b))"
   ]
  },
  {
   "cell_type": "code",
   "execution_count": 52,
   "id": "06d7b4c2",
   "metadata": {},
   "outputs": [
    {
     "name": "stdout",
     "output_type": "stream",
     "text": [
      "89 2653851507440\n"
     ]
    }
   ],
   "source": [
    "b = '89'\n",
    "print(b,id(b))"
   ]
  },
  {
   "cell_type": "code",
   "execution_count": 53,
   "id": "0760f490",
   "metadata": {},
   "outputs": [
    {
     "name": "stdout",
     "output_type": "stream",
     "text": [
      "werewe 2653851537072\n",
      "ewerew 2653851732080\n"
     ]
    }
   ],
   "source": [
    "s = 'werewe'\n",
    "print(s,id(s))\n",
    "s = s[::-1]\n",
    "print(s,id(s))"
   ]
  },
  {
   "cell_type": "code",
   "execution_count": 54,
   "id": "0b69d208",
   "metadata": {},
   "outputs": [
    {
     "name": "stdout",
     "output_type": "stream",
     "text": [
      "sakjhjdd 2653851534768\n",
      "ddjhjkas 2653851732080\n",
      "sakjhjdd 2653851534768\n"
     ]
    }
   ],
   "source": [
    "s = 'sakjhjdd'\n",
    "print(s,id(s))\n",
    "d = s[::-1]\n",
    "print(d,id(d))\n",
    "print(s,id(s))"
   ]
  },
  {
   "cell_type": "code",
   "execution_count": 55,
   "id": "4375b59d",
   "metadata": {},
   "outputs": [
    {
     "name": "stdout",
     "output_type": "stream",
     "text": [
      "['__add__', '__class__', '__contains__', '__delattr__', '__dir__', '__doc__', '__eq__', '__format__', '__ge__', '__getattribute__', '__getitem__', '__getnewargs__', '__gt__', '__hash__', '__init__', '__init_subclass__', '__iter__', '__le__', '__len__', '__lt__', '__mod__', '__mul__', '__ne__', '__new__', '__reduce__', '__reduce_ex__', '__repr__', '__rmod__', '__rmul__', '__setattr__', '__sizeof__', '__str__', '__subclasshook__', 'capitalize', 'casefold', 'center', 'count', 'encode', 'endswith', 'expandtabs', 'find', 'format', 'format_map', 'index', 'isalnum', 'isalpha', 'isascii', 'isdecimal', 'isdigit', 'isidentifier', 'islower', 'isnumeric', 'isprintable', 'isspace', 'istitle', 'isupper', 'join', 'ljust', 'lower', 'lstrip', 'maketrans', 'partition', 'replace', 'rfind', 'rindex', 'rjust', 'rpartition', 'rsplit', 'rstrip', 'split', 'splitlines', 'startswith', 'strip', 'swapcase', 'title', 'translate', 'upper', 'zfill']\n"
     ]
    }
   ],
   "source": [
    "print(dir(str))"
   ]
  },
  {
   "cell_type": "code",
   "execution_count": 57,
   "id": "fbfb9a8b",
   "metadata": {},
   "outputs": [
    {
     "name": "stdout",
     "output_type": "stream",
     "text": [
      "pytHon ProgRamMing\n",
      "Python Programming\n",
      "PYThON pROGrAMmING\n",
      "python programming\n",
      "Python programming\n",
      "PYTHON PROGRAMMING\n",
      "python programming\n"
     ]
    }
   ],
   "source": [
    "d = \"pytHon ProgRamMing\"\n",
    "print(d)\n",
    "print(d.title())\n",
    "print(d.swapcase())\n",
    "print(d.casefold())\n",
    "print(d.capitalize())\n",
    "print(d.upper())\n",
    "print(d.lower())"
   ]
  },
  {
   "cell_type": "code",
   "execution_count": 67,
   "id": "8d70cb2e",
   "metadata": {},
   "outputs": [
    {
     "name": "stdout",
     "output_type": "stream",
     "text": [
      "pytHon ProgRamMing\n",
      "2\n",
      "-1\n",
      "9\n",
      "-1\n",
      "10\n",
      "17\n"
     ]
    }
   ],
   "source": [
    "print(d)\n",
    "print(d.find('t'))\n",
    "print(d.find('z'))\n",
    "print(d.rfind('o'))\n",
    "print(d.rfind('c'))\n",
    "print(d.index('g'))\n",
    "# print(d.index('l')) # it displays an error as substring not found\n",
    "print(d.rindex('g'))\n",
    "# print(d.rindex('f')) # it displays an error as substring not found"
   ]
  },
  {
   "cell_type": "code",
   "execution_count": 80,
   "id": "a406e0f1",
   "metadata": {},
   "outputs": [
    {
     "name": "stdout",
     "output_type": "stream",
     "text": [
      "    Ramesh is good at programming\n",
      "Sita is good at dancing     \n",
      "Ramesh is good at programming\n",
      "Sita is good at dancing\n",
      "Sita is good at dancing\n",
      "Ramesh is good at programming\n",
      "           Ramesh is good at programming\n",
      "Sita is good at dancing                 \n",
      "            Ramesh is good at programming         \n",
      "0000000    Ramesh is good at programming\n"
     ]
    }
   ],
   "source": [
    "s = \"    Ramesh is good at programming\"\n",
    "c = \"Sita is good at dancing     \"\n",
    "print(s)\n",
    "print(c)\n",
    "print(s.strip())\n",
    "print(c.strip())\n",
    "print(c.rstrip())\n",
    "print(s.lstrip())\n",
    "print(s.rjust(40))\n",
    "print(c.ljust(40))\n",
    "print(s.center(50))\n",
    "print(s.zfill(40))"
   ]
  },
  {
   "cell_type": "code",
   "execution_count": 85,
   "id": "ad59dc83",
   "metadata": {},
   "outputs": [
    {
     "name": "stdout",
     "output_type": "stream",
     "text": [
      "    Ramesh is good at programming\n",
      "['Ramesh', 'is', 'good', 'at', 'programming']\n",
      "['    Ramesh is good at programming']\n",
      "['    Ramesh is good at p', 'og', 'amming']\n",
      "    Ramesh is good at p-og-amming\n",
      " - - - -R-a-m-e-s-h- -i-s- -g-o-o-d- -a-t- -p-r-o-g-r-a-m-m-i-n-g\n"
     ]
    }
   ],
   "source": [
    "print(s)\n",
    "print(s.split())\n",
    "print(s.split('z'))\n",
    "print(s.split('r'))\n",
    "print(s.replace('r','-'))\n",
    "print(\"-\".join(s))"
   ]
  },
  {
   "cell_type": "code",
   "execution_count": 90,
   "id": "8446a94a",
   "metadata": {},
   "outputs": [
    {
     "name": "stdout",
     "output_type": "stream",
     "text": [
      "Enter a character to find ascii value: a\n",
      "Given Character a and its ascii value is: 97\n"
     ]
    }
   ],
   "source": [
    "n = input(\"Enter a character to find ascii value: \")\n",
    "print(f\"Given Character {n} and its ascii value is: {ord(n)}\")"
   ]
  },
  {
   "cell_type": "code",
   "execution_count": 88,
   "id": "569d0a2d",
   "metadata": {},
   "outputs": [
    {
     "data": {
      "text/plain": [
       "65"
      ]
     },
     "execution_count": 88,
     "metadata": {},
     "output_type": "execute_result"
    }
   ],
   "source": [
    "ord('A')"
   ]
  },
  {
   "cell_type": "code",
   "execution_count": 105,
   "id": "e149c0b7",
   "metadata": {},
   "outputs": [
    {
     "name": "stdout",
     "output_type": "stream",
     "text": [
      "0 => \u0000 1 => \u0001 2 => \u0002 3 => \u0003 4 => \u0004 5 => \u0005 6 => \u0006 7 => \u0007 8 => \b 9 => \t 10 => \n",
      " 11 => \u000b",
      " 12 => \f",
      " 13 => \r",
      " 14 => \u000e 15 => \u000f 16 => \u0010 17 => \u0011 18 => \u0012 19 => \u0013 20 => \u0014 21 => \u0015 22 => \u0016 23 => \u0017 24 => \u0018 25 => \u0019 26 => \u001a 27 => \u001b 28 => \u001c",
      " 29 => \u001d",
      " 30 => \u001e",
      " 31 => \u001f 32 =>   33 => ! 34 => \" 35 => # 36 => $ 37 => % 38 => & 39 => ' 40 => ( 41 => ) 42 => * 43 => + 44 => , 45 => - 46 => . 47 => / 48 => 0 49 => 1 50 => 2 51 => 3 52 => 4 53 => 5 54 => 6 55 => 7 56 => 8 57 => 9 58 => : 59 => ; 60 => < 61 => = 62 => > 63 => ? 64 => @ 65 => A 66 => B 67 => C 68 => D 69 => E 70 => F 71 => G 72 => H 73 => I 74 => J 75 => K 76 => L 77 => M 78 => N 79 => O 80 => P 81 => Q 82 => R 83 => S 84 => T 85 => U 86 => V 87 => W 88 => X 89 => Y 90 => Z 91 => [ 92 => \\ 93 => ] 94 => ^ 95 => _ 96 => ` 97 => a 98 => b 99 => c 100 => d 101 => e 102 => f 103 => g 104 => h 105 => i 106 => j 107 => k 108 => l 109 => m 110 => n 111 => o 112 => p 113 => q 114 => r 115 => s 116 => t 117 => u 118 => v 119 => w 120 => x 121 => y 122 => z 123 => { 124 => | 125 => } 126 => ~ 127 =>  128 =>  129 =>  130 =>  131 =>  132 =>  133 => ",
      " 134 =>  135 =>  136 =>  137 =>  138 =>  139 =>  140 =>  141 =>  142 =>  143 =>  144 =>  145 =>  146 =>  147 =>  148 =>  149 =>  150 =>  151 =>  152 =>  153 =>  154 =>  155 =>  156 =>  157 =>  158 =>  159 =>  160 =>   161 => ¡ 162 => ¢ 163 => £ 164 => ¤ 165 => ¥ 166 => ¦ 167 => § 168 => ¨ 169 => © 170 => ª 171 => « 172 => ¬ 173 => ­ 174 => ® 175 => ¯ 176 => ° 177 => ± 178 => ² 179 => ³ 180 => ´ 181 => µ 182 => ¶ 183 => · 184 => ¸ 185 => ¹ 186 => º 187 => » 188 => ¼ 189 => ½ 190 => ¾ 191 => ¿ 192 => À 193 => Á 194 => Â 195 => Ã 196 => Ä 197 => Å 198 => Æ 199 => Ç 200 => È 201 => É 202 => Ê 203 => Ë 204 => Ì 205 => Í 206 => Î 207 => Ï 208 => Ð 209 => Ñ 210 => Ò 211 => Ó 212 => Ô 213 => Õ 214 => Ö 215 => × 216 => Ø 217 => Ù 218 => Ú 219 => Û 220 => Ü 221 => Ý 222 => Þ 223 => ß 224 => à 225 => á 226 => â 227 => ã 228 => ä 229 => å 230 => æ 231 => ç 232 => è 233 => é 234 => ê 235 => ë 236 => ì 237 => í 238 => î 239 => ï 240 => ð 241 => ñ 242 => ò 243 => ó 244 => ô 245 => õ 246 => ö 247 => ÷ 248 => ø 249 => ù 250 => ú 251 => û 252 => ü 253 => ý 254 => þ "
     ]
    }
   ],
   "source": [
    "for i in range(0,255):\n",
    "    print(f\"{i} => {chr(i)}\",end=\" \")"
   ]
  },
  {
   "cell_type": "code",
   "execution_count": 100,
   "id": "0048291e",
   "metadata": {},
   "outputs": [
    {
     "data": {
      "text/plain": [
       "49"
      ]
     },
     "execution_count": 100,
     "metadata": {},
     "output_type": "execute_result"
    }
   ],
   "source": [
    "ord('1')"
   ]
  },
  {
   "cell_type": "markdown",
   "id": "69ba3e12",
   "metadata": {},
   "source": [
    "## Comprehensions\n",
    "    - To reduce the number of lines of code\n",
    "    - list\n",
    "    - tuple\n",
    "    - set and \n",
    "    - dictionary"
   ]
  },
  {
   "cell_type": "code",
   "execution_count": 106,
   "id": "b8ae0d1f",
   "metadata": {},
   "outputs": [
    {
     "name": "stdout",
     "output_type": "stream",
     "text": [
      "4\n",
      "0 1 2 3 "
     ]
    }
   ],
   "source": [
    "n = int(input())\n",
    "for i in range(n):\n",
    "    print(i,end=\" \")"
   ]
  },
  {
   "cell_type": "code",
   "execution_count": 107,
   "id": "797f7cad",
   "metadata": {},
   "outputs": [
    {
     "name": "stdout",
     "output_type": "stream",
     "text": [
      "4\n",
      "0 1 2 3 "
     ]
    }
   ],
   "source": [
    "for i in range(int(input())):\n",
    "    print(i,end=\" \")"
   ]
  },
  {
   "cell_type": "code",
   "execution_count": 108,
   "id": "a6e4f82e",
   "metadata": {},
   "outputs": [
    {
     "name": "stdout",
     "output_type": "stream",
     "text": [
      "5\n",
      "[0, 1, 2, 3, 4] <class 'list'>\n"
     ]
    }
   ],
   "source": [
    "h = [i for i in range(int(input()))]\n",
    "print(h,type(h))"
   ]
  },
  {
   "cell_type": "code",
   "execution_count": 109,
   "id": "725a7b2f",
   "metadata": {},
   "outputs": [
    {
     "name": "stdout",
     "output_type": "stream",
     "text": [
      "5\n",
      "0 2 4 "
     ]
    }
   ],
   "source": [
    "for i in range(int(input())):\n",
    "    if i%2==0:\n",
    "        print(i,end=\" \")"
   ]
  },
  {
   "cell_type": "code",
   "execution_count": 111,
   "id": "4ed34731",
   "metadata": {},
   "outputs": [
    {
     "name": "stdout",
     "output_type": "stream",
     "text": [
      "5\n",
      "[0, 2, 4]\n"
     ]
    }
   ],
   "source": [
    "v = [i for i in range(int(input())) if i%2==0]\n",
    "print(v)"
   ]
  },
  {
   "cell_type": "code",
   "execution_count": 113,
   "id": "1643a316",
   "metadata": {},
   "outputs": [
    {
     "name": "stdout",
     "output_type": "stream",
     "text": [
      "4\n",
      "[0, -1, 2, -1]\n"
     ]
    }
   ],
   "source": [
    "c = [i if i%2==0 else -1 for i in range(int(input()))]\n",
    "print(c)"
   ]
  },
  {
   "cell_type": "code",
   "execution_count": 114,
   "id": "2bce391d",
   "metadata": {},
   "outputs": [
    {
     "name": "stdout",
     "output_type": "stream",
     "text": [
      "5\n",
      "{0, 1, 2, 3, 4} <class 'set'>\n"
     ]
    }
   ],
   "source": [
    "d = {i for i in range(int(input()))}\n",
    "print(d,type(d)) "
   ]
  },
  {
   "cell_type": "code",
   "execution_count": 117,
   "id": "63120fae",
   "metadata": {},
   "outputs": [
    {
     "name": "stdout",
     "output_type": "stream",
     "text": [
      "10\n",
      "{0, 2, 4, 6, 8, 10}\n"
     ]
    }
   ],
   "source": [
    "c = {i if i%2==0 else i+1 for i in range(int(input()))}\n",
    "print(c)"
   ]
  },
  {
   "cell_type": "code",
   "execution_count": 120,
   "id": "29feb111",
   "metadata": {},
   "outputs": [
    {
     "name": "stdout",
     "output_type": "stream",
     "text": [
      "5\n",
      "(0, -1, 2, -1, 4) <class 'tuple'>\n"
     ]
    }
   ],
   "source": [
    "c = tuple(i if i%2==0 else -1 for i in range(int(input())))\n",
    "print(c,type(c))"
   ]
  },
  {
   "cell_type": "code",
   "execution_count": 121,
   "id": "af932f5e",
   "metadata": {},
   "outputs": [
    {
     "name": "stdout",
     "output_type": "stream",
     "text": [
      "5\n",
      "{0: 0, 1: 1, 2: 4, 3: 9, 4: 16} <class 'dict'>\n"
     ]
    }
   ],
   "source": [
    "g = {i:i**2 for i in range(int(input()))}\n",
    "print(g,type(g))"
   ]
  },
  {
   "cell_type": "code",
   "execution_count": 125,
   "id": "7be4b85d",
   "metadata": {},
   "outputs": [
    {
     "name": "stdout",
     "output_type": "stream",
     "text": [
      "10\n",
      "['10'] <class 'list'>\n"
     ]
    }
   ],
   "source": [
    "b = input().split(',')\n",
    "print(b,type(b))"
   ]
  },
  {
   "cell_type": "code",
   "execution_count": 127,
   "id": "de1a5282",
   "metadata": {},
   "outputs": [
    {
     "name": "stdout",
     "output_type": "stream",
     "text": [
      "7 8 9 0\n"
     ]
    },
    {
     "ename": "ValueError",
     "evalue": "invalid literal for int() with base 10: '7 8 9 0'",
     "output_type": "error",
     "traceback": [
      "\u001b[1;31m---------------------------------------------------------------------------\u001b[0m",
      "\u001b[1;31mValueError\u001b[0m                                Traceback (most recent call last)",
      "\u001b[1;32m~\\AppData\\Local\\Temp\\ipykernel_6992\\2454992049.py\u001b[0m in \u001b[0;36m<module>\u001b[1;34m\u001b[0m\n\u001b[1;32m----> 1\u001b[1;33m \u001b[0mp\u001b[0m \u001b[1;33m=\u001b[0m \u001b[0mint\u001b[0m\u001b[1;33m(\u001b[0m\u001b[0minput\u001b[0m\u001b[1;33m(\u001b[0m\u001b[1;33m)\u001b[0m\u001b[1;33m)\u001b[0m\u001b[1;33m\u001b[0m\u001b[1;33m\u001b[0m\u001b[0m\n\u001b[0m\u001b[0;32m      2\u001b[0m \u001b[0mprint\u001b[0m\u001b[1;33m(\u001b[0m\u001b[0mp\u001b[0m\u001b[1;33m)\u001b[0m\u001b[1;33m\u001b[0m\u001b[1;33m\u001b[0m\u001b[0m\n",
      "\u001b[1;31mValueError\u001b[0m: invalid literal for int() with base 10: '7 8 9 0'"
     ]
    }
   ],
   "source": [
    "p = int(input())\n",
    "print(p)"
   ]
  },
  {
   "cell_type": "code",
   "execution_count": 129,
   "id": "7a7ce838",
   "metadata": {},
   "outputs": [
    {
     "name": "stdout",
     "output_type": "stream",
     "text": [
      "4 5 6 7 8 9\n",
      "['4', '5', '6', '7', '8', '9'] <class 'list'>\n",
      "[4, 5, 6, 7, 8, 9]\n"
     ]
    }
   ],
   "source": [
    "r = input().split()\n",
    "print(r,type(r))\n",
    "k = []\n",
    "for i in r:\n",
    "    k.append(int(i))\n",
    "print(k)"
   ]
  },
  {
   "cell_type": "markdown",
   "id": "ed7ad1c5",
   "metadata": {},
   "source": [
    "# Iterator:\n",
    "    - list,set,string,tuple and dictionary\n",
    "    - iter\n",
    "    - next"
   ]
  },
  {
   "cell_type": "code",
   "execution_count": 141,
   "id": "59648645",
   "metadata": {},
   "outputs": [
    {
     "name": "stdout",
     "output_type": "stream",
     "text": [
      "3\n",
      "4\n",
      "45\n"
     ]
    }
   ],
   "source": [
    "f = [3,4,45,6,6]\n",
    "g = iter(f)\n",
    "print(next(g))\n",
    "print(next(g))\n",
    "print(next(g))"
   ]
  },
  {
   "cell_type": "code",
   "execution_count": 144,
   "id": "2a5652d7",
   "metadata": {},
   "outputs": [
    {
     "ename": "TypeError",
     "evalue": "'list_iterator' object cannot be interpreted as an integer",
     "output_type": "error",
     "traceback": [
      "\u001b[1;31m---------------------------------------------------------------------------\u001b[0m",
      "\u001b[1;31mTypeError\u001b[0m                                 Traceback (most recent call last)",
      "\u001b[1;32m~\\AppData\\Local\\Temp\\ipykernel_6992\\612521663.py\u001b[0m in \u001b[0;36m<module>\u001b[1;34m\u001b[0m\n\u001b[1;32m----> 1\u001b[1;33m \u001b[1;32mfor\u001b[0m \u001b[0mi\u001b[0m \u001b[1;32min\u001b[0m \u001b[0mrange\u001b[0m\u001b[1;33m(\u001b[0m\u001b[0miter\u001b[0m\u001b[1;33m(\u001b[0m\u001b[0mf\u001b[0m\u001b[1;33m)\u001b[0m\u001b[1;33m)\u001b[0m\u001b[1;33m:\u001b[0m\u001b[1;33m\u001b[0m\u001b[1;33m\u001b[0m\u001b[0m\n\u001b[0m\u001b[0;32m      2\u001b[0m     \u001b[0mprint\u001b[0m\u001b[1;33m(\u001b[0m\u001b[0mi\u001b[0m\u001b[1;33m)\u001b[0m\u001b[1;33m\u001b[0m\u001b[1;33m\u001b[0m\u001b[0m\n",
      "\u001b[1;31mTypeError\u001b[0m: 'list_iterator' object cannot be interpreted as an integer"
     ]
    }
   ],
   "source": [
    "for i in range(iter(f)):\n",
    "    print(i)"
   ]
  },
  {
   "cell_type": "code",
   "execution_count": 159,
   "id": "29c0c1aa",
   "metadata": {},
   "outputs": [
    {
     "ename": "NameError",
     "evalue": "name '__iter__' is not defined",
     "output_type": "error",
     "traceback": [
      "\u001b[1;31m---------------------------------------------------------------------------\u001b[0m",
      "\u001b[1;31mNameError\u001b[0m                                 Traceback (most recent call last)",
      "\u001b[1;32m~\\AppData\\Local\\Temp\\ipykernel_6992\\1856346150.py\u001b[0m in \u001b[0;36m<module>\u001b[1;34m\u001b[0m\n\u001b[1;32m----> 1\u001b[1;33m \u001b[0mprint\u001b[0m\u001b[1;33m(\u001b[0m\u001b[0m__iter__\u001b[0m\u001b[1;33m(\u001b[0m\u001b[1;33m[\u001b[0m\u001b[1;36m90\u001b[0m\u001b[1;33m,\u001b[0m\u001b[1;36m78\u001b[0m\u001b[1;33m]\u001b[0m\u001b[1;33m)\u001b[0m\u001b[1;33m)\u001b[0m\u001b[1;33m\u001b[0m\u001b[1;33m\u001b[0m\u001b[0m\n\u001b[0m",
      "\u001b[1;31mNameError\u001b[0m: name '__iter__' is not defined"
     ]
    }
   ],
   "source": [
    "print(__iter__([90,78]))"
   ]
  },
  {
   "cell_type": "code",
   "execution_count": 174,
   "id": "15c67d7a",
   "metadata": {},
   "outputs": [
    {
     "name": "stdout",
     "output_type": "stream",
     "text": [
      "90\n",
      "89\n"
     ]
    },
    {
     "ename": "NameError",
     "evalue": "name '__iter__' is not defined",
     "output_type": "error",
     "traceback": [
      "\u001b[1;31m---------------------------------------------------------------------------\u001b[0m",
      "\u001b[1;31mNameError\u001b[0m                                 Traceback (most recent call last)",
      "\u001b[1;32m~\\AppData\\Local\\Temp\\ipykernel_6992\\2245605619.py\u001b[0m in \u001b[0;36m<module>\u001b[1;34m\u001b[0m\n\u001b[0;32m      3\u001b[0m \u001b[0mprint\u001b[0m\u001b[1;33m(\u001b[0m\u001b[0mnext\u001b[0m\u001b[1;33m(\u001b[0m\u001b[0ms\u001b[0m\u001b[1;33m)\u001b[0m\u001b[1;33m)\u001b[0m\u001b[1;33m\u001b[0m\u001b[1;33m\u001b[0m\u001b[0m\n\u001b[0;32m      4\u001b[0m \u001b[0mprint\u001b[0m\u001b[1;33m(\u001b[0m\u001b[0ms\u001b[0m\u001b[1;33m.\u001b[0m\u001b[0m__next__\u001b[0m\u001b[1;33m(\u001b[0m\u001b[1;33m)\u001b[0m\u001b[1;33m)\u001b[0m\u001b[1;33m\u001b[0m\u001b[1;33m\u001b[0m\u001b[0m\n\u001b[1;32m----> 5\u001b[1;33m \u001b[0mprint\u001b[0m\u001b[1;33m(\u001b[0m\u001b[0m__iter__\u001b[0m\u001b[1;33m.\u001b[0m\u001b[0m__next__\u001b[0m\u001b[1;33m(\u001b[0m\u001b[1;33m)\u001b[0m\u001b[1;33m)\u001b[0m\u001b[1;33m\u001b[0m\u001b[1;33m\u001b[0m\u001b[0m\n\u001b[0m",
      "\u001b[1;31mNameError\u001b[0m: name '__iter__' is not defined"
     ]
    }
   ],
   "source": [
    "mylist = [90,89,6]\n",
    "s = iter(mylist)\n",
    "print(next(s))\n",
    "print(s.__next__())\n",
    "print(__iter__.__next__())"
   ]
  },
  {
   "cell_type": "code",
   "execution_count": 181,
   "id": "d0574210",
   "metadata": {},
   "outputs": [
    {
     "name": "stdout",
     "output_type": "stream",
     "text": [
      "90\n",
      "8\n"
     ]
    }
   ],
   "source": [
    "g = [90,8]\n",
    "f=iter(g)\n",
    "print(f.__next__())\n",
    "print(f.__next__())"
   ]
  },
  {
   "cell_type": "code",
   "execution_count": null,
   "id": "47f05bf7",
   "metadata": {},
   "outputs": [],
   "source": [
    "__iter__()\n",
    "__next__()\n",
    "iter()\n",
    "next()"
   ]
  },
  {
   "cell_type": "code",
   "execution_count": 197,
   "id": "7996302f",
   "metadata": {},
   "outputs": [
    {
     "data": {
      "text/plain": [
       "[56, 78, 6]"
      ]
     },
     "execution_count": 197,
     "metadata": {},
     "output_type": "execute_result"
    }
   ],
   "source": [
    "g = [90,56,78,6]\n",
    "def sd(y):\n",
    "    for i in y:\n",
    "        if i != 90:\n",
    "            yield i\n",
    "\n",
    "list(sd(g))"
   ]
  },
  {
   "cell_type": "code",
   "execution_count": 203,
   "id": "c7874e7e",
   "metadata": {},
   "outputs": [
    {
     "name": "stdout",
     "output_type": "stream",
     "text": [
      "4\n",
      "5\n",
      "7\n",
      "17\n"
     ]
    }
   ],
   "source": [
    "def sv(u):\n",
    "    u+=1\n",
    "    yield u\n",
    "    u+=2\n",
    "    yield u\n",
    "    u+=10\n",
    "    yield(u)\n",
    "\n",
    "for i in sv(int(input())):\n",
    "    print(i)"
   ]
  },
  {
   "cell_type": "markdown",
   "id": "47f9a44c",
   "metadata": {},
   "source": [
    "## Functional Programming:\n",
    "    - map => it acts like typedcasting to a value or else like functions\n",
    "    - filter => It checks the values in a given conditino it return either True or False or directly only True Statements\n",
    "    - reduce => Final output will be displayed to a user"
   ]
  },
  {
   "cell_type": "markdown",
   "id": "3e621c6e",
   "metadata": {},
   "source": [
    "# Map:\n",
    "    Syntax:\n",
    "        map(datatype,iterators)\n",
    "        map(function,iterators)"
   ]
  },
  {
   "cell_type": "code",
   "execution_count": 205,
   "id": "85f1553c",
   "metadata": {},
   "outputs": [
    {
     "name": "stdout",
     "output_type": "stream",
     "text": [
      "3 5 6 7\n",
      "[3, 5, 6, 7] <class 'list'>\n"
     ]
    }
   ],
   "source": [
    "g = list(map(int,input().split()))\n",
    "print(g,type(g))"
   ]
  },
  {
   "cell_type": "code",
   "execution_count": 220,
   "id": "672cb584",
   "metadata": {},
   "outputs": [],
   "source": [
    "def sq(number):\n",
    "    return number*number"
   ]
  },
  {
   "cell_type": "code",
   "execution_count": 222,
   "id": "49b8772f",
   "metadata": {},
   "outputs": [
    {
     "name": "stdout",
     "output_type": "stream",
     "text": [
      "[25, 36, 49]\n"
     ]
    }
   ],
   "source": [
    "print(list(map(sq,[5,6,7])))"
   ]
  },
  {
   "cell_type": "code",
   "execution_count": 227,
   "id": "88da296a",
   "metadata": {},
   "outputs": [],
   "source": [
    "def echeck(j):\n",
    "    if j%2==0:\n",
    "        return j"
   ]
  },
  {
   "cell_type": "code",
   "execution_count": 228,
   "id": "c77f866a",
   "metadata": {},
   "outputs": [
    {
     "name": "stdout",
     "output_type": "stream",
     "text": [
      "4 5 3\n",
      "[4, None, None]\n"
     ]
    }
   ],
   "source": [
    "d = list(map(echeck,list(map(int,input().split()))))\n",
    "print(d)"
   ]
  },
  {
   "cell_type": "markdown",
   "id": "d6cf97d9",
   "metadata": {},
   "source": [
    "# Filter:\n",
    "    Syntax:\n",
    "        filter(function,iterator)"
   ]
  },
  {
   "cell_type": "code",
   "execution_count": 229,
   "id": "4d7c52fc",
   "metadata": {},
   "outputs": [],
   "source": [
    "def gn(h):\n",
    "    if h>=20:\n",
    "        return h"
   ]
  },
  {
   "cell_type": "code",
   "execution_count": 231,
   "id": "156fd9c4",
   "metadata": {},
   "outputs": [
    {
     "name": "stdout",
     "output_type": "stream",
     "text": [
      "2 4 5 6 23 34 12\n",
      "[23, 34]\n"
     ]
    }
   ],
   "source": [
    "w = list(filter(gn,list(map(int,input().split()))))\n",
    "print(w)"
   ]
  },
  {
   "cell_type": "markdown",
   "id": "bff73c10",
   "metadata": {},
   "source": [
    "# Anonymous Function:\n",
    "    - lambda\n",
    "    Syntax:\n",
    "        lambda argument:expression\n",
    "        "
   ]
  },
  {
   "cell_type": "code",
   "execution_count": 232,
   "id": "55a2f197",
   "metadata": {},
   "outputs": [
    {
     "name": "stdout",
     "output_type": "stream",
     "text": [
      "7\n"
     ]
    }
   ],
   "source": [
    "q = lambda r,t : r+t\n",
    "print(q(3,4))"
   ]
  },
  {
   "cell_type": "code",
   "execution_count": 234,
   "id": "523348aa",
   "metadata": {},
   "outputs": [
    {
     "name": "stdout",
     "output_type": "stream",
     "text": [
      "50\n",
      "-1\n"
     ]
    }
   ],
   "source": [
    "e = lambda t:t if t>=30 else -1\n",
    "print(e(50))\n",
    "print(e(20))"
   ]
  },
  {
   "cell_type": "code",
   "execution_count": 243,
   "id": "422888b2",
   "metadata": {},
   "outputs": [
    {
     "name": "stdout",
     "output_type": "stream",
     "text": [
      "34 3 56 78\n",
      "[None, None, 56, 78]\n"
     ]
    }
   ],
   "source": [
    "n = list(map(int,input().split()))\n",
    "c = lambda g:g if g>40 else None\n",
    "f = list(map(c,n))\n",
    "print(f)"
   ]
  },
  {
   "cell_type": "code",
   "execution_count": 242,
   "id": "ff58ee6c",
   "metadata": {},
   "outputs": [
    {
     "data": {
      "text/plain": [
       "56"
      ]
     },
     "execution_count": 242,
     "metadata": {},
     "output_type": "execute_result"
    }
   ],
   "source": [
    "c = lambda g:g if g>40 else None\n",
    "c(56)"
   ]
  },
  {
   "cell_type": "markdown",
   "id": "58df23b6",
   "metadata": {},
   "source": [
    "# Packages and Modules:\n",
    "    Package => folder\n",
    "    Module => file\n",
    "    => from packagename import modulename\n",
    "    => from packagename.subpackage import modulename\n",
    "    => from packagename.modulea]name import classname\n",
    "    => import module\n",
    "    => from packagename import *"
   ]
  },
  {
   "cell_type": "code",
   "execution_count": 244,
   "id": "05cfcbc1",
   "metadata": {},
   "outputs": [],
   "source": [
    "import random"
   ]
  },
  {
   "cell_type": "code",
   "execution_count": 245,
   "id": "f7c92bc4",
   "metadata": {},
   "outputs": [
    {
     "name": "stdout",
     "output_type": "stream",
     "text": [
      "['BPF', 'LOG4', 'NV_MAGICCONST', 'RECIP_BPF', 'Random', 'SG_MAGICCONST', 'SystemRandom', 'TWOPI', '_BuiltinMethodType', '_MethodType', '_Sequence', '_Set', '__all__', '__builtins__', '__cached__', '__doc__', '__file__', '__loader__', '__name__', '__package__', '__spec__', '_acos', '_bisect', '_ceil', '_cos', '_e', '_exp', '_inst', '_itertools', '_log', '_os', '_pi', '_random', '_sha512', '_sin', '_sqrt', '_test', '_test_generator', '_urandom', '_warn', 'betavariate', 'choice', 'choices', 'expovariate', 'gammavariate', 'gauss', 'getrandbits', 'getstate', 'lognormvariate', 'normalvariate', 'paretovariate', 'randint', 'random', 'randrange', 'sample', 'seed', 'setstate', 'shuffle', 'triangular', 'uniform', 'vonmisesvariate', 'weibullvariate']\n"
     ]
    }
   ],
   "source": [
    "print(dir(random))"
   ]
  },
  {
   "cell_type": "code",
   "execution_count": 248,
   "id": "f7596200",
   "metadata": {},
   "outputs": [
    {
     "name": "stdout",
     "output_type": "stream",
     "text": [
      "14\n"
     ]
    }
   ],
   "source": [
    "print(random.randint(0,100))"
   ]
  },
  {
   "cell_type": "code",
   "execution_count": 250,
   "id": "144b29c2",
   "metadata": {},
   "outputs": [
    {
     "name": "stdout",
     "output_type": "stream",
     "text": [
      "0.33357435865039986\n"
     ]
    }
   ],
   "source": [
    "print(random.random())"
   ]
  },
  {
   "cell_type": "code",
   "execution_count": 251,
   "id": "d55ada7c",
   "metadata": {},
   "outputs": [
    {
     "name": "stdout",
     "output_type": "stream",
     "text": [
      "66\n"
     ]
    }
   ],
   "source": [
    "print(random.randrange(100))"
   ]
  },
  {
   "cell_type": "code",
   "execution_count": 252,
   "id": "f470f054",
   "metadata": {},
   "outputs": [],
   "source": [
    "import demo\n"
   ]
  },
  {
   "cell_type": "code",
   "execution_count": 253,
   "id": "67fa9ec9",
   "metadata": {},
   "outputs": [
    {
     "name": "stdout",
     "output_type": "stream",
     "text": [
      "['__builtins__', '__cached__', '__doc__', '__file__', '__loader__', '__name__', '__package__', '__spec__', 'd', 'f']\n"
     ]
    }
   ],
   "source": [
    "print(dir(demo))"
   ]
  },
  {
   "cell_type": "code",
   "execution_count": 255,
   "id": "404912d2",
   "metadata": {},
   "outputs": [
    {
     "name": "stdout",
     "output_type": "stream",
     "text": [
      "90\n",
      "30\n"
     ]
    }
   ],
   "source": [
    "print(demo.d)\n",
    "print(demo.f)"
   ]
  },
  {
   "cell_type": "code",
   "execution_count": 1,
   "id": "672f5e4f",
   "metadata": {},
   "outputs": [],
   "source": [
    "from Data import sample"
   ]
  },
  {
   "cell_type": "code",
   "execution_count": 2,
   "id": "b8520bde",
   "metadata": {},
   "outputs": [
    {
     "name": "stdout",
     "output_type": "stream",
     "text": [
      "['__builtins__', '__cached__', '__doc__', '__file__', '__loader__', '__name__', '__package__', '__spec__', 'a', 'h']\n"
     ]
    }
   ],
   "source": [
    "print(dir(sample))"
   ]
  },
  {
   "cell_type": "code",
   "execution_count": 3,
   "id": "b755767f",
   "metadata": {},
   "outputs": [
    {
     "name": "stdout",
     "output_type": "stream",
     "text": [
      "34\n"
     ]
    }
   ],
   "source": [
    "print(sample.a)"
   ]
  },
  {
   "cell_type": "code",
   "execution_count": null,
   "id": "285215fd",
   "metadata": {},
   "outputs": [],
   "source": [
    "from packagename.modulename import classname as aliasname"
   ]
  },
  {
   "cell_type": "code",
   "execution_count": 4,
   "id": "2a9815ac",
   "metadata": {},
   "outputs": [],
   "source": [
    "from Data.sample import a"
   ]
  },
  {
   "cell_type": "code",
   "execution_count": 5,
   "id": "52b69281",
   "metadata": {},
   "outputs": [
    {
     "name": "stdout",
     "output_type": "stream",
     "text": [
      "34\n"
     ]
    }
   ],
   "source": [
    "print(a)"
   ]
  },
  {
   "cell_type": "code",
   "execution_count": 7,
   "id": "1f8454f8",
   "metadata": {},
   "outputs": [],
   "source": [
    "import math"
   ]
  },
  {
   "cell_type": "code",
   "execution_count": 8,
   "id": "4b5b0251",
   "metadata": {},
   "outputs": [
    {
     "name": "stdout",
     "output_type": "stream",
     "text": [
      "['__doc__', '__loader__', '__name__', '__package__', '__spec__', 'acos', 'acosh', 'asin', 'asinh', 'atan', 'atan2', 'atanh', 'ceil', 'copysign', 'cos', 'cosh', 'degrees', 'e', 'erf', 'erfc', 'exp', 'expm1', 'fabs', 'factorial', 'floor', 'fmod', 'frexp', 'fsum', 'gamma', 'gcd', 'hypot', 'inf', 'isclose', 'isfinite', 'isinf', 'isnan', 'ldexp', 'lgamma', 'log', 'log10', 'log1p', 'log2', 'modf', 'nan', 'pi', 'pow', 'radians', 'remainder', 'sin', 'sinh', 'sqrt', 'tan', 'tanh', 'tau', 'trunc']\n"
     ]
    }
   ],
   "source": [
    "print(dir(math))"
   ]
  },
  {
   "cell_type": "markdown",
   "id": "c0af8070",
   "metadata": {},
   "source": [
    "# Files:\n",
    "    - To store data in permanent way\n",
    "    - r => read => if file is not existing it will displays an error\n",
    "    - a => append => If file doesnt exist it will creates the file. If file exists it adds the data with existing data\n",
    "    - w => write => If file doesnt exist it will create a file. The file dat will be loss for everry execution of a file\n",
    "    - x => execute => If file doesnt exist it creates a file. If exists it displays an error"
   ]
  },
  {
   "cell_type": "code",
   "execution_count": 10,
   "id": "6440746b",
   "metadata": {},
   "outputs": [
    {
     "name": "stdout",
     "output_type": "stream",
     "text": [
      "EnterSome Text: Good Evening to All...\n"
     ]
    }
   ],
   "source": [
    "with open('Data/input.text','w') as fr:\n",
    "    n = input(\"EnterSome Text: \")\n",
    "    fr.write(n)"
   ]
  },
  {
   "cell_type": "code",
   "execution_count": 12,
   "id": "052111af",
   "metadata": {},
   "outputs": [
    {
     "name": "stdout",
     "output_type": "stream",
     "text": [
      "EnterSome Text: Sample\n"
     ]
    }
   ],
   "source": [
    "with open('Data/demo.text','a') as fr:\n",
    "    n = input(\"Enter Some Text: \")\n",
    "    fr.write(n)\n",
    "    fr.write(\"\\n\")"
   ]
  },
  {
   "cell_type": "code",
   "execution_count": 13,
   "id": "a4085dd6",
   "metadata": {},
   "outputs": [
    {
     "name": "stdout",
     "output_type": "stream",
     "text": [
      "['_CHUNK_SIZE', '__class__', '__del__', '__delattr__', '__dict__', '__dir__', '__doc__', '__enter__', '__eq__', '__exit__', '__format__', '__ge__', '__getattribute__', '__getstate__', '__gt__', '__hash__', '__init__', '__init_subclass__', '__iter__', '__le__', '__lt__', '__ne__', '__new__', '__next__', '__reduce__', '__reduce_ex__', '__repr__', '__setattr__', '__sizeof__', '__str__', '__subclasshook__', '_checkClosed', '_checkReadable', '_checkSeekable', '_checkWritable', '_finalizing', 'buffer', 'close', 'closed', 'detach', 'encoding', 'errors', 'fileno', 'flush', 'isatty', 'line_buffering', 'mode', 'name', 'newlines', 'read', 'readable', 'readline', 'readlines', 'reconfigure', 'seek', 'seekable', 'tell', 'truncate', 'writable', 'write', 'write_through', 'writelines']\n"
     ]
    }
   ],
   "source": [
    "print(dir(fr))"
   ]
  },
  {
   "cell_type": "code",
   "execution_count": 15,
   "id": "a015933b",
   "metadata": {},
   "outputs": [
    {
     "ename": "FileExistsError",
     "evalue": "[Errno 17] File exists: 'Data/input1.text'",
     "output_type": "error",
     "traceback": [
      "\u001b[1;31m---------------------------------------------------------------------------\u001b[0m",
      "\u001b[1;31mFileExistsError\u001b[0m                           Traceback (most recent call last)",
      "\u001b[1;32m~\\AppData\\Local\\Temp\\ipykernel_6740\\580083993.py\u001b[0m in \u001b[0;36m<module>\u001b[1;34m\u001b[0m\n\u001b[1;32m----> 1\u001b[1;33m \u001b[1;32mwith\u001b[0m \u001b[0mopen\u001b[0m\u001b[1;33m(\u001b[0m\u001b[1;34m'Data/input1.text'\u001b[0m\u001b[1;33m,\u001b[0m\u001b[1;34m'x'\u001b[0m\u001b[1;33m)\u001b[0m \u001b[1;32mas\u001b[0m \u001b[0mfr\u001b[0m\u001b[1;33m:\u001b[0m\u001b[1;33m\u001b[0m\u001b[1;33m\u001b[0m\u001b[0m\n\u001b[0m\u001b[0;32m      2\u001b[0m     \u001b[0mn\u001b[0m \u001b[1;33m=\u001b[0m \u001b[0minput\u001b[0m\u001b[1;33m(\u001b[0m\u001b[1;34m\"EnterSome Text: \"\u001b[0m\u001b[1;33m)\u001b[0m\u001b[1;33m\u001b[0m\u001b[1;33m\u001b[0m\u001b[0m\n\u001b[0;32m      3\u001b[0m     \u001b[0mfr\u001b[0m\u001b[1;33m.\u001b[0m\u001b[0mwrite\u001b[0m\u001b[1;33m(\u001b[0m\u001b[0mn\u001b[0m\u001b[1;33m)\u001b[0m\u001b[1;33m\u001b[0m\u001b[1;33m\u001b[0m\u001b[0m\n",
      "\u001b[1;31mFileExistsError\u001b[0m: [Errno 17] File exists: 'Data/input1.text'"
     ]
    }
   ],
   "source": [
    "with open('Data/input1.text','x') as fr:\n",
    "    n = input(\"EnterSome Text: \")\n",
    "    fr.write(n)"
   ]
  },
  {
   "cell_type": "code",
   "execution_count": 19,
   "id": "342f1363",
   "metadata": {},
   "outputs": [
    {
     "name": "stdout",
     "output_type": "stream",
     "text": [
      "['Demo Text\\n', 'Sample\\n']\n"
     ]
    }
   ],
   "source": [
    "with open('Data/demo.text','r') as fr:\n",
    "    print(fr.readlines())"
   ]
  },
  {
   "cell_type": "code",
   "execution_count": 22,
   "id": "b4b96672",
   "metadata": {},
   "outputs": [
    {
     "name": "stdout",
     "output_type": "stream",
     "text": [
      "Enter your roll number: 21EM1A0567\n",
      "Enter your name: Prasad\n",
      "Enter your age: 21\n"
     ]
    }
   ],
   "source": [
    "with open('Data/StudentsList.csv',\"a\") as fd:\n",
    "    roll = input(\"Enter your roll number: \")\n",
    "    name= input(\"Enter your name: \")\n",
    "    age = input(\"Enter your age: \")\n",
    "    c = roll+\",\"+name+\",\"+age+\"\\n\"\n",
    "    fd.write(c)"
   ]
  },
  {
   "cell_type": "code",
   "execution_count": null,
   "id": "c3e4715a",
   "metadata": {},
   "outputs": [],
   "source": [
    "raju,9878675645,M\n",
    "ramya,9675645342,F"
   ]
  },
  {
   "cell_type": "code",
   "execution_count": 25,
   "id": "8cf57aa8",
   "metadata": {},
   "outputs": [
    {
     "name": "stdout",
     "output_type": "stream",
     "text": [
      "Enter Contaact name: prassanna\n",
      "Enter Mobile Number: 9089786756\n",
      "Enter Gender: female\n"
     ]
    }
   ],
   "source": [
    "with open(\"Data/Contactlist.csv\",\"a\") as g:\n",
    "    name = input(\"Enter Contaact name: \")\n",
    "    mb = input(\"Enter Mobile Number: \")\n",
    "    ge = input(\"Enter Gender: \")\n",
    "    ge = ge[0].title()\n",
    "    v = name+\",\"+mb+\",\"+ge+\"\\n\"\n",
    "    g.write(v)"
   ]
  },
  {
   "cell_type": "code",
   "execution_count": null,
   "id": "a14fce34",
   "metadata": {},
   "outputs": [],
   "source": []
  }
 ],
 "metadata": {
  "kernelspec": {
   "display_name": "Python 3 (ipykernel)",
   "language": "python",
   "name": "python3"
  },
  "language_info": {
   "codemirror_mode": {
    "name": "ipython",
    "version": 3
   },
   "file_extension": ".py",
   "mimetype": "text/x-python",
   "name": "python",
   "nbconvert_exporter": "python",
   "pygments_lexer": "ipython3",
   "version": "3.7.5"
  }
 },
 "nbformat": 4,
 "nbformat_minor": 5
}
