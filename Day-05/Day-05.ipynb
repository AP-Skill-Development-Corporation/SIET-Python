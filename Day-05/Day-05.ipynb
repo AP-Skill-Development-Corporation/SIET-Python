{
 "cells": [
  {
   "cell_type": "markdown",
   "id": "e0d5d1f6",
   "metadata": {},
   "source": [
    "```\n",
    "Input:\n",
    "    175632\n",
    "Output:\n",
    "    Right half reverse is: 175236\n",
    "```"
   ]
  },
  {
   "cell_type": "code",
   "execution_count": 11,
   "id": "5dcf5771",
   "metadata": {},
   "outputs": [
    {
     "name": "stdout",
     "output_type": "stream",
     "text": [
      "123456\n",
      "123654\n"
     ]
    }
   ],
   "source": [
    "n = int(input())\n",
    "k = n\n",
    "m = r = le = 0\n",
    "while n!=0:\n",
    "    le+=1\n",
    "    n//=10\n",
    "c = le//2\n",
    "while le!=c:\n",
    "    r = r*10+k%10\n",
    "    k//=10\n",
    "    le -=1\n",
    "while r!=0:\n",
    "    m = m*10+r%10\n",
    "    r//=10\n",
    "while m!=0:\n",
    "    k = k*10+m%10\n",
    "    m//=10\n",
    "print(k)"
   ]
  },
  {
   "cell_type": "code",
   "execution_count": 1,
   "id": "bc5fc51d",
   "metadata": {},
   "outputs": [
    {
     "data": {
      "text/plain": [
       "3"
      ]
     },
     "execution_count": 1,
     "metadata": {},
     "output_type": "execute_result"
    }
   ],
   "source": [
    "b = 6\n",
    "b//2"
   ]
  },
  {
   "cell_type": "markdown",
   "id": "c110d071",
   "metadata": {},
   "source": [
    "# Function argument and its types\n",
    "    - Default\n",
    "    - Positional or required\n",
    "    - Keyword\n",
    "    - Variable Length"
   ]
  },
  {
   "cell_type": "markdown",
   "id": "46d69a7d",
   "metadata": {},
   "source": [
    "## Default argument"
   ]
  },
  {
   "cell_type": "code",
   "execution_count": 15,
   "id": "0087079b",
   "metadata": {},
   "outputs": [
    {
     "name": "stdout",
     "output_type": "stream",
     "text": [
      "Enter a name: lalitha\n",
      "Enter an age: 34\n",
      "Entered name is: lalitha and age is: 34\n"
     ]
    }
   ],
   "source": [
    "def stdnt(h,a=23):\n",
    "    print(f\"Entered name is: {h} and age is: {a}\")\n",
    "    return \n",
    "\n",
    "name = input(\"Enter a name: \")\n",
    "p = int(input(\"Enter an age: \"))\n",
    "stdnt(name,p)"
   ]
  },
  {
   "cell_type": "code",
   "execution_count": 14,
   "id": "5b652d47",
   "metadata": {},
   "outputs": [
    {
     "name": "stdout",
     "output_type": "stream",
     "text": [
      "Enter a name: tilak\n",
      "Enter an age: 34\n"
     ]
    },
    {
     "ename": "TypeError",
     "evalue": "stdnt() takes from 1 to 2 positional arguments but 3 were given",
     "output_type": "error",
     "traceback": [
      "\u001b[1;31m---------------------------------------------------------------------------\u001b[0m",
      "\u001b[1;31mTypeError\u001b[0m                                 Traceback (most recent call last)",
      "\u001b[1;32m~\\AppData\\Local\\Temp\\ipykernel_10532\\3981217918.py\u001b[0m in \u001b[0;36m<module>\u001b[1;34m\u001b[0m\n\u001b[0;32m      5\u001b[0m \u001b[0mname\u001b[0m \u001b[1;33m=\u001b[0m \u001b[0minput\u001b[0m\u001b[1;33m(\u001b[0m\u001b[1;34m\"Enter a name: \"\u001b[0m\u001b[1;33m)\u001b[0m\u001b[1;33m\u001b[0m\u001b[1;33m\u001b[0m\u001b[0m\n\u001b[0;32m      6\u001b[0m \u001b[0mp\u001b[0m \u001b[1;33m=\u001b[0m \u001b[0mint\u001b[0m\u001b[1;33m(\u001b[0m\u001b[0minput\u001b[0m\u001b[1;33m(\u001b[0m\u001b[1;34m\"Enter an age: \"\u001b[0m\u001b[1;33m)\u001b[0m\u001b[1;33m)\u001b[0m\u001b[1;33m\u001b[0m\u001b[1;33m\u001b[0m\u001b[0m\n\u001b[1;32m----> 7\u001b[1;33m \u001b[0mstdnt\u001b[0m\u001b[1;33m(\u001b[0m\u001b[0mname\u001b[0m\u001b[1;33m,\u001b[0m\u001b[0mp\u001b[0m\u001b[1;33m,\u001b[0m\u001b[0mk\u001b[0m\u001b[1;33m)\u001b[0m\u001b[1;33m\u001b[0m\u001b[1;33m\u001b[0m\u001b[0m\n\u001b[0m",
      "\u001b[1;31mTypeError\u001b[0m: stdnt() takes from 1 to 2 positional arguments but 3 were given"
     ]
    }
   ],
   "source": [
    "def stdnt(h,a=23):\n",
    "    print(f\"Entered name is: {h} and age is: {a}\")\n",
    "    return \n",
    "\n",
    "name = input(\"Enter a name: \")\n",
    "p = int(input(\"Enter an age: \"))\n",
    "stdnt(name,p,k)"
   ]
  },
  {
   "cell_type": "code",
   "execution_count": 16,
   "id": "bb7d648b",
   "metadata": {},
   "outputs": [
    {
     "ename": "SyntaxError",
     "evalue": "non-default argument follows default argument (1492302049.py, line 1)",
     "output_type": "error",
     "traceback": [
      "\u001b[1;36m  File \u001b[1;32m\"C:\\Users\\pc14\\AppData\\Local\\Temp\\ipykernel_10532\\1492302049.py\"\u001b[1;36m, line \u001b[1;32m1\u001b[0m\n\u001b[1;33m    def stdnt(h,a=23,y):\u001b[0m\n\u001b[1;37m             ^\u001b[0m\n\u001b[1;31mSyntaxError\u001b[0m\u001b[1;31m:\u001b[0m non-default argument follows default argument\n"
     ]
    }
   ],
   "source": [
    "def stdnt(h,a=23,y):\n",
    "    print(f\"Entered name is: {h} and age is: {a}\\n Year is: {y}\")\n",
    "    return \n",
    "\n",
    "name = input(\"Enter a name: \")\n",
    "p = int(input(\"Enter an age: \"))\n",
    "stdnt(name,p)"
   ]
  },
  {
   "cell_type": "code",
   "execution_count": 17,
   "id": "7a7cbb3c",
   "metadata": {},
   "outputs": [
    {
     "name": "stdout",
     "output_type": "stream",
     "text": [
      "Enter a name: tilak\n",
      "Enter an age: 25\n",
      "Entered name is: tilak and age is: 25\n",
      " Year is: 3\n"
     ]
    }
   ],
   "source": [
    "def stdnt(h,a,y=3):\n",
    "    print(f\"Entered name is: {h} and age is: {a}\\nYear is: {y}\")\n",
    "    return \n",
    "\n",
    "name = input(\"Enter a name: \")\n",
    "p = int(input(\"Enter an age: \"))\n",
    "stdnt(name,p)"
   ]
  },
  {
   "cell_type": "markdown",
   "id": "266697f6",
   "metadata": {},
   "source": [
    "## Required or Positional: "
   ]
  },
  {
   "cell_type": "code",
   "execution_count": 18,
   "id": "c007dd8c",
   "metadata": {},
   "outputs": [
    {
     "name": "stdout",
     "output_type": "stream",
     "text": [
      "Enter name: ramesh\n",
      "Enter id: e90\n"
     ]
    },
    {
     "ename": "TypeError",
     "evalue": "empdt() missing 1 required positional argument: 's'",
     "output_type": "error",
     "traceback": [
      "\u001b[1;31m---------------------------------------------------------------------------\u001b[0m",
      "\u001b[1;31mTypeError\u001b[0m                                 Traceback (most recent call last)",
      "\u001b[1;32m~\\AppData\\Local\\Temp\\ipykernel_10532\\2538506552.py\u001b[0m in \u001b[0;36m<module>\u001b[1;34m\u001b[0m\n\u001b[0;32m      6\u001b[0m \u001b[0mename\u001b[0m \u001b[1;33m=\u001b[0m \u001b[0minput\u001b[0m\u001b[1;33m(\u001b[0m\u001b[1;34m\"Enter name: \"\u001b[0m\u001b[1;33m)\u001b[0m\u001b[1;33m\u001b[0m\u001b[1;33m\u001b[0m\u001b[0m\n\u001b[0;32m      7\u001b[0m \u001b[0meid\u001b[0m \u001b[1;33m=\u001b[0m \u001b[0minput\u001b[0m\u001b[1;33m(\u001b[0m\u001b[1;34m\"Enter id: \"\u001b[0m\u001b[1;33m)\u001b[0m\u001b[1;33m\u001b[0m\u001b[1;33m\u001b[0m\u001b[0m\n\u001b[1;32m----> 8\u001b[1;33m \u001b[0mempdt\u001b[0m\u001b[1;33m(\u001b[0m\u001b[0mename\u001b[0m\u001b[1;33m,\u001b[0m\u001b[0meid\u001b[0m\u001b[1;33m)\u001b[0m\u001b[1;33m\u001b[0m\u001b[1;33m\u001b[0m\u001b[0m\n\u001b[0m",
      "\u001b[1;31mTypeError\u001b[0m: empdt() missing 1 required positional argument: 's'"
     ]
    }
   ],
   "source": [
    "def empdt(n,i,s):\n",
    "    print(f\"Entered name is: {n} and id is: {i}\")\n",
    "    print(f\"Salary is: {s}\")\n",
    "    return\n",
    "\n",
    "ename = input(\"Enter name: \")\n",
    "eid = input(\"Enter id: \")\n",
    "empdt(ename,eid)"
   ]
  },
  {
   "cell_type": "markdown",
   "id": "dd3928c0",
   "metadata": {},
   "source": [
    "# Keyword argument"
   ]
  },
  {
   "cell_type": "code",
   "execution_count": 19,
   "id": "69e1c825",
   "metadata": {},
   "outputs": [
    {
     "name": "stdout",
     "output_type": "stream",
     "text": [
      "Enter a name: giri prasad\n",
      "Enter an age: 23\n",
      "Enter a year: 2\n",
      "Entered name is: giri prasad\n",
      "Entered age is: 23\n",
      "Entered year is: 2\n"
     ]
    }
   ],
   "source": [
    "def stdn(year,name,age):\n",
    "    print(f\"Entered name is: {name}\")\n",
    "    print(f\"Entered age is: {age}\")\n",
    "    print(f\"Entered year is: {year}\")\n",
    "    return\n",
    "\n",
    "sn = input(\"Enter a name: \")\n",
    "sa = int(input(\"Enter an age: \"))\n",
    "sy = int(input(\"Enter a year: \"))\n",
    "stdn(name=sn,age=sa,year=sy)"
   ]
  },
  {
   "cell_type": "code",
   "execution_count": 22,
   "id": "2ba6d4c1",
   "metadata": {},
   "outputs": [
    {
     "name": "stdout",
     "output_type": "stream",
     "text": [
      "Enter a name: prasad\n",
      "Enter an age: 25\n",
      "Enter a year: 1\n",
      "<class 'dict'>\n",
      "Entered name is: prasad\n",
      "Entered age is: 25\n",
      "Entered year is: 1\n"
     ]
    }
   ],
   "source": [
    "def stdn(**sd):\n",
    "    print(type(sd))\n",
    "    print(f\"Entered name is: {sd['name']}\")\n",
    "    print(f\"Entered age is: {sd['age']}\")\n",
    "    print(f\"Entered year is: {sd['year']}\")\n",
    "    return\n",
    "\n",
    "sn = input(\"Enter a name: \")\n",
    "sa = int(input(\"Enter an age: \"))\n",
    "sy = int(input(\"Enter a year: \"))\n",
    "stdn(name=sn,age=sa,year=sy)"
   ]
  },
  {
   "cell_type": "markdown",
   "id": "4c3a2c21",
   "metadata": {},
   "source": [
    "## Variable Length argument:"
   ]
  },
  {
   "cell_type": "code",
   "execution_count": 26,
   "id": "47d92cb8",
   "metadata": {},
   "outputs": [
    {
     "ename": "SyntaxError",
     "evalue": "positional argument follows keyword argument (198757027.py, line 10)",
     "output_type": "error",
     "traceback": [
      "\u001b[1;36m  File \u001b[1;32m\"C:\\Users\\pc14\\AppData\\Local\\Temp\\ipykernel_10532\\198757027.py\"\u001b[1;36m, line \u001b[1;32m10\u001b[0m\n\u001b[1;33m    employee('prasad','somu',3,6,st='AP',1,2,7,8,area=\"Narsapur\",pin=54345)\u001b[0m\n\u001b[1;37m                                        ^\u001b[0m\n\u001b[1;31mSyntaxError\u001b[0m\u001b[1;31m:\u001b[0m positional argument follows keyword argument\n"
     ]
    }
   ],
   "source": [
    "def employee(name,*expr,**addr):\n",
    "    print(f\"Employee Name: {name}\")\n",
    "    print(f\"Employee Experiences: {expr}\")\n",
    "    print(\"Employee Address:\")\n",
    "    print(f\"Place {addr['area']}\")\n",
    "    print(f\"pincode {addr['pin']}\")\n",
    "    print(f\"state {addr['st']}\")\n",
    "    return\n",
    "\n",
    "employee('prasad','somu',3,6,st='AP',1,2,7,8,area=\"Narsapur\",pin=54345)"
   ]
  },
  {
   "cell_type": "code",
   "execution_count": 27,
   "id": "6d92b932",
   "metadata": {},
   "outputs": [
    {
     "name": "stdout",
     "output_type": "stream",
     "text": [
      "Employee Name: prasad\n",
      "Employee Experiences: ('somu', 3, 6, 1, 2, 7, 8)\n",
      "Employee Address:\n",
      "Place Narsapur\n",
      "pincode 54345\n",
      "state AP\n"
     ]
    }
   ],
   "source": [
    "def employee(name,*expr,**addr):\n",
    "    print(f\"Employee Name: {name}\")\n",
    "    print(f\"Employee Experiences: {expr}\")\n",
    "    print(\"Employee Address:\")\n",
    "    print(f\"Place {addr['area']}\")\n",
    "    print(f\"pincode {addr['pin']}\")\n",
    "    print(f\"state {addr['st']}\")\n",
    "    return\n",
    "\n",
    "employee('prasad','somu',3,6,1,2,7,8,area=\"Narsapur\",pin=54345,st='AP')"
   ]
  },
  {
   "cell_type": "code",
   "execution_count": 28,
   "id": "a91deb79",
   "metadata": {},
   "outputs": [
    {
     "name": "stdout",
     "output_type": "stream",
     "text": [
      "(3, 4, 6, 566, 3, 3, 23)\n"
     ]
    }
   ],
   "source": [
    "def smv(*y):\n",
    "    print(y)\n",
    "    return\n",
    "\n",
    "smv(3,4,6,566,3,3,23)"
   ]
  },
  {
   "cell_type": "markdown",
   "id": "1bc2db36",
   "metadata": {},
   "source": [
    "# Data Structures or Iterators or Repititor or Data types\n",
    "    - To organize the data in order or unorder format\n",
    "    - List\n",
    "    - Tuple\n",
    "    - Set\n",
    "    - Dictionary\n",
    "    - String"
   ]
  },
  {
   "cell_type": "markdown",
   "id": "c64bc29d",
   "metadata": {},
   "source": [
    "# List:\n",
    "    - It can be represented as \"[]\"\n",
    "    - It can be typecasted as list()\n",
    "    - Duplicate values can be allowed\n",
    "    - It can stores the data in order format\n",
    "    - Slicing can be done because of index positions\n",
    "    - It can changes the values in a list\n",
    "    - It stores different data type values\n",
    "    - List of items can be seperated by \"comma(,)\""
   ]
  },
  {
   "cell_type": "code",
   "execution_count": 30,
   "id": "404d4b8c",
   "metadata": {},
   "outputs": [
    {
     "name": "stdout",
     "output_type": "stream",
     "text": [
      "[2, 34.8789, 'Prasad', False, None, '56', 2, 2, 2, 2, 2, 2] <class 'list'>\n"
     ]
    }
   ],
   "source": [
    "g = [2,34.8789,'Prasad',False,None,'56',2,2,2,2,2,2]\n",
    "print(g,type(g))"
   ]
  },
  {
   "cell_type": "markdown",
   "id": "567550af",
   "metadata": {},
   "source": [
    "# Slicing:\n",
    "    - It works like a range method"
   ]
  },
  {
   "cell_type": "code",
   "execution_count": 32,
   "id": "d6c659b3",
   "metadata": {},
   "outputs": [
    {
     "name": "stdout",
     "output_type": "stream",
     "text": [
      "[2, 34.8789, 'Prasad', False, None, '56', 2, 2, 2, 2, 2, 2]\n",
      "56\n",
      "2\n"
     ]
    }
   ],
   "source": [
    "print(g)\n",
    "print(g[5])\n",
    "print(g[-1])"
   ]
  },
  {
   "cell_type": "code",
   "execution_count": 46,
   "id": "f00c36a6",
   "metadata": {},
   "outputs": [
    {
     "name": "stdout",
     "output_type": "stream",
     "text": [
      "[2, 34.8789, 'Prasad', False, None, '56', 2, 2, 2, 2, 2, 2] 12\n",
      "['Prasad', False, None, '56', 2, 2, 2, 2, 2, 2]\n",
      "[2, 2, 2]\n",
      "[2, 34.8789, 'Prasad', False, None]\n",
      "[2, 34.8789, 'Prasad', False, None, '56', 2, 2, 2]\n",
      "[None, '56', 2, 2]\n",
      "['Prasad', False, None, '56', 2]\n",
      "['56', 2, 2]\n",
      "[False, None]\n"
     ]
    }
   ],
   "source": [
    "print(g,len(g))\n",
    "print(g[2:])\n",
    "print(g[-3:])\n",
    "print(g[:5])\n",
    "print(g[:-3])\n",
    "print(g[4:8])\n",
    "print(g[2:-5])\n",
    "print(g[-7:8])\n",
    "print(g[-9:-7])"
   ]
  },
  {
   "cell_type": "code",
   "execution_count": 56,
   "id": "4c47ce04",
   "metadata": {},
   "outputs": [
    {
     "name": "stdout",
     "output_type": "stream",
     "text": [
      "[2, 34.8789, 'Prasad', False, None, '56', 2, 2, 2, 2, 2, 2]\n",
      "[2, 34.8789, 'Prasad', False, None, '56', 2, 2, 2, 2, 2, 2]\n",
      "[2, 34.8789, 'Prasad', False, None, '56', 2, 2, 2, 2, 2, 2]\n",
      "['56', 2, 2, 2, 2, 2, 2]\n",
      "[2, 2, 2]\n",
      "[False, None, '56', 2, 2]\n",
      "['Prasad', False, None]\n",
      "['56', 2, 2]\n",
      "['56', 2, 2, 2]\n"
     ]
    }
   ],
   "source": [
    "print(g)\n",
    "print(g[:])\n",
    "print(g[::])\n",
    "print(g[5::])\n",
    "print(g[-3::])\n",
    "print(g[3:8:])\n",
    "print(g[2:-7:])\n",
    "print(g[-7:8:])\n",
    "print(g[-7:-3:])"
   ]
  },
  {
   "cell_type": "code",
   "execution_count": 67,
   "id": "8bff8eb3",
   "metadata": {},
   "outputs": [
    {
     "name": "stdout",
     "output_type": "stream",
     "text": [
      "[2, 34.8789, 'Prasad', False, None, '56', 2, 2, 2, 2, 2, 2]\n",
      "['Prasad', '56', 2]\n",
      "[2]\n",
      "['Prasad', '56']\n",
      "[2, 2]\n",
      "[2, 34.8789, 'Prasad', False, None, '56']\n",
      "[2, 34.8789, 'Prasad', False, None, '56', 2]\n",
      "[2, False, 2, 2]\n",
      "[2, 2, 2, 2, 2, 2, '56', None, False, 'Prasad', 34.8789, 2]\n"
     ]
    }
   ],
   "source": [
    "print(g)\n",
    "print(g[2:10:3])\n",
    "print(g[-3:10:3])\n",
    "print(g[-10:-5:3])\n",
    "print(g[-4:-7:-2])\n",
    "print(g[:6:])\n",
    "print(g[:-5:])\n",
    "print(g[::3])\n",
    "print(g[::-1])"
   ]
  },
  {
   "cell_type": "code",
   "execution_count": 68,
   "id": "54d28bd1",
   "metadata": {},
   "outputs": [
    {
     "name": "stdout",
     "output_type": "stream",
     "text": [
      "['__abs__', '__add__', '__and__', '__bool__', '__ceil__', '__class__', '__delattr__', '__dir__', '__divmod__', '__doc__', '__eq__', '__float__', '__floor__', '__floordiv__', '__format__', '__ge__', '__getattribute__', '__getnewargs__', '__gt__', '__hash__', '__index__', '__init__', '__init_subclass__', '__int__', '__invert__', '__le__', '__lshift__', '__lt__', '__mod__', '__mul__', '__ne__', '__neg__', '__new__', '__or__', '__pos__', '__pow__', '__radd__', '__rand__', '__rdivmod__', '__reduce__', '__reduce_ex__', '__repr__', '__rfloordiv__', '__rlshift__', '__rmod__', '__rmul__', '__ror__', '__round__', '__rpow__', '__rrshift__', '__rshift__', '__rsub__', '__rtruediv__', '__rxor__', '__setattr__', '__sizeof__', '__str__', '__sub__', '__subclasshook__', '__truediv__', '__trunc__', '__xor__', 'bit_length', 'conjugate', 'denominator', 'from_bytes', 'imag', 'numerator', 'real', 'to_bytes']\n"
     ]
    }
   ],
   "source": [
    "print(dir(int))"
   ]
  },
  {
   "cell_type": "code",
   "execution_count": 69,
   "id": "b6085b08",
   "metadata": {},
   "outputs": [
    {
     "name": "stdout",
     "output_type": "stream",
     "text": [
      "<class 'list'>\n"
     ]
    }
   ],
   "source": [
    "print(type(g))"
   ]
  },
  {
   "cell_type": "code",
   "execution_count": 71,
   "id": "44ff5d72",
   "metadata": {},
   "outputs": [
    {
     "name": "stdout",
     "output_type": "stream",
     "text": [
      "['__add__', '__class__', '__contains__', '__delattr__', '__delitem__', '__dir__', '__doc__', '__eq__', '__format__', '__ge__', '__getattribute__', '__getitem__', '__gt__', '__hash__', '__iadd__', '__imul__', '__init__', '__init_subclass__', '__iter__', '__le__', '__len__', '__lt__', '__mul__', '__ne__', '__new__', '__reduce__', '__reduce_ex__', '__repr__', '__reversed__', '__rmul__', '__setattr__', '__setitem__', '__sizeof__', '__str__', '__subclasshook__', 'append', 'clear', 'copy', 'count', 'extend', 'index', 'insert', 'pop', 'remove', 'reverse', 'sort']\n"
     ]
    }
   ],
   "source": [
    "print(dir(list))"
   ]
  },
  {
   "cell_type": "code",
   "execution_count": 72,
   "id": "e5d3d605",
   "metadata": {},
   "outputs": [
    {
     "name": "stdout",
     "output_type": "stream",
     "text": [
      "[45, 45, 6, 7, 8, 9, 20]\n"
     ]
    }
   ],
   "source": [
    "s = [45,45,6,7,8,9,20]\n",
    "print(s)"
   ]
  },
  {
   "cell_type": "code",
   "execution_count": 73,
   "id": "c2bc3e25",
   "metadata": {},
   "outputs": [
    {
     "name": "stdout",
     "output_type": "stream",
     "text": [
      "[45, 45, 6, 7, 8, 9, 20]\n",
      "[45, 45, 6, 7, 8, 9, 20, 67]\n"
     ]
    }
   ],
   "source": [
    "print(s)\n",
    "s.append(67)\n",
    "print(s)"
   ]
  },
  {
   "cell_type": "code",
   "execution_count": 74,
   "id": "07b19753",
   "metadata": {},
   "outputs": [
    {
     "name": "stdout",
     "output_type": "stream",
     "text": [
      "[45, 45, 6, 7, 8, 9, 20, 67]\n"
     ]
    },
    {
     "ename": "TypeError",
     "evalue": "append() takes exactly one argument (2 given)",
     "output_type": "error",
     "traceback": [
      "\u001b[1;31m---------------------------------------------------------------------------\u001b[0m",
      "\u001b[1;31mTypeError\u001b[0m                                 Traceback (most recent call last)",
      "\u001b[1;32m~\\AppData\\Local\\Temp\\ipykernel_10532\\1157794932.py\u001b[0m in \u001b[0;36m<module>\u001b[1;34m\u001b[0m\n\u001b[0;32m      1\u001b[0m \u001b[0mprint\u001b[0m\u001b[1;33m(\u001b[0m\u001b[0ms\u001b[0m\u001b[1;33m)\u001b[0m\u001b[1;33m\u001b[0m\u001b[1;33m\u001b[0m\u001b[0m\n\u001b[1;32m----> 2\u001b[1;33m \u001b[0ms\u001b[0m\u001b[1;33m.\u001b[0m\u001b[0mappend\u001b[0m\u001b[1;33m(\u001b[0m\u001b[1;36m167\u001b[0m\u001b[1;33m,\u001b[0m\u001b[1;36m78\u001b[0m\u001b[1;33m)\u001b[0m\u001b[1;33m\u001b[0m\u001b[1;33m\u001b[0m\u001b[0m\n\u001b[0m\u001b[0;32m      3\u001b[0m \u001b[0mprint\u001b[0m\u001b[1;33m(\u001b[0m\u001b[0ms\u001b[0m\u001b[1;33m)\u001b[0m\u001b[1;33m\u001b[0m\u001b[1;33m\u001b[0m\u001b[0m\n",
      "\u001b[1;31mTypeError\u001b[0m: append() takes exactly one argument (2 given)"
     ]
    }
   ],
   "source": [
    "print(s)\n",
    "s.append(167,78)\n",
    "print(s)"
   ]
  },
  {
   "cell_type": "code",
   "execution_count": 76,
   "id": "cf99b1fe",
   "metadata": {},
   "outputs": [
    {
     "name": "stdout",
     "output_type": "stream",
     "text": [
      "[45, 45, 6, 7, 8, 9, 20, 67, (167, 78, 89)]\n",
      "[45, 45, 6, 7, 8, 9, 20, 67, (167, 78, 89), [167, 78, 89, 45, 56]]\n"
     ]
    }
   ],
   "source": [
    "print(s)\n",
    "s.append([167,78,89,45,56])\n",
    "print(s)"
   ]
  },
  {
   "cell_type": "code",
   "execution_count": 77,
   "id": "fa43d3ef",
   "metadata": {},
   "outputs": [
    {
     "name": "stdout",
     "output_type": "stream",
     "text": [
      "[45, 45, 6, 7, 8, 9, 20, 67, (167, 78, 89), [167, 78, 89, 45, 56]]\n"
     ]
    },
    {
     "ename": "TypeError",
     "evalue": "'int' object is not iterable",
     "output_type": "error",
     "traceback": [
      "\u001b[1;31m---------------------------------------------------------------------------\u001b[0m",
      "\u001b[1;31mTypeError\u001b[0m                                 Traceback (most recent call last)",
      "\u001b[1;32m~\\AppData\\Local\\Temp\\ipykernel_10532\\3511031955.py\u001b[0m in \u001b[0;36m<module>\u001b[1;34m\u001b[0m\n\u001b[0;32m      1\u001b[0m \u001b[0mprint\u001b[0m\u001b[1;33m(\u001b[0m\u001b[0ms\u001b[0m\u001b[1;33m)\u001b[0m\u001b[1;33m\u001b[0m\u001b[1;33m\u001b[0m\u001b[0m\n\u001b[1;32m----> 2\u001b[1;33m \u001b[0ms\u001b[0m\u001b[1;33m.\u001b[0m\u001b[0mextend\u001b[0m\u001b[1;33m(\u001b[0m\u001b[1;36m56\u001b[0m\u001b[1;33m)\u001b[0m\u001b[1;33m\u001b[0m\u001b[1;33m\u001b[0m\u001b[0m\n\u001b[0m\u001b[0;32m      3\u001b[0m \u001b[0mprint\u001b[0m\u001b[1;33m(\u001b[0m\u001b[0ms\u001b[0m\u001b[1;33m)\u001b[0m\u001b[1;33m\u001b[0m\u001b[1;33m\u001b[0m\u001b[0m\n",
      "\u001b[1;31mTypeError\u001b[0m: 'int' object is not iterable"
     ]
    }
   ],
   "source": [
    "print(s)\n",
    "s.extend(56)\n",
    "print(s)"
   ]
  },
  {
   "cell_type": "code",
   "execution_count": 78,
   "id": "8a123d28",
   "metadata": {},
   "outputs": [
    {
     "name": "stdout",
     "output_type": "stream",
     "text": [
      "[45, 45, 6, 7, 8, 9, 20, 67, (167, 78, 89), [167, 78, 89, 45, 56]]\n",
      "[45, 45, 6, 7, 8, 9, 20, 67, (167, 78, 89), [167, 78, 89, 45, 56], 56, 89, 67, 5]\n"
     ]
    }
   ],
   "source": [
    "print(s)\n",
    "s.extend((56,89,67,5))\n",
    "print(s)"
   ]
  },
  {
   "cell_type": "code",
   "execution_count": 79,
   "id": "3a03e83d",
   "metadata": {},
   "outputs": [
    {
     "name": "stdout",
     "output_type": "stream",
     "text": [
      "[45, 45, 6, 7, 8, 9, 20, 67, (167, 78, 89), [167, 78, 89, 45, 56], 56, 89, 67, 5]\n",
      "[45, 45, 6, 7, 8, 9, 20, 67, (167, 78, 89), [167, 78, 89, 45, 56], 56, 89, 67, 5, 56, 89]\n"
     ]
    }
   ],
   "source": [
    "print(s)\n",
    "s.extend([56,89])\n",
    "print(s)"
   ]
  },
  {
   "cell_type": "code",
   "execution_count": 80,
   "id": "255ad5ec",
   "metadata": {},
   "outputs": [
    {
     "name": "stdout",
     "output_type": "stream",
     "text": [
      "[45, 45, 6, 7, 8, 9, 20, 67, (167, 78, 89), [167, 78, 89, 45, 56], 56, 89, 67, 5, 56, 89]\n"
     ]
    },
    {
     "ename": "TypeError",
     "evalue": "insert() takes exactly 2 arguments (0 given)",
     "output_type": "error",
     "traceback": [
      "\u001b[1;31m---------------------------------------------------------------------------\u001b[0m",
      "\u001b[1;31mTypeError\u001b[0m                                 Traceback (most recent call last)",
      "\u001b[1;32m~\\AppData\\Local\\Temp\\ipykernel_10532\\2179497642.py\u001b[0m in \u001b[0;36m<module>\u001b[1;34m\u001b[0m\n\u001b[0;32m      1\u001b[0m \u001b[0mprint\u001b[0m\u001b[1;33m(\u001b[0m\u001b[0ms\u001b[0m\u001b[1;33m)\u001b[0m\u001b[1;33m\u001b[0m\u001b[1;33m\u001b[0m\u001b[0m\n\u001b[1;32m----> 2\u001b[1;33m \u001b[0ms\u001b[0m\u001b[1;33m.\u001b[0m\u001b[0minsert\u001b[0m\u001b[1;33m(\u001b[0m\u001b[1;33m)\u001b[0m\u001b[1;33m\u001b[0m\u001b[1;33m\u001b[0m\u001b[0m\n\u001b[0m\u001b[0;32m      3\u001b[0m \u001b[0mprint\u001b[0m\u001b[1;33m(\u001b[0m\u001b[0ms\u001b[0m\u001b[1;33m)\u001b[0m\u001b[1;33m\u001b[0m\u001b[1;33m\u001b[0m\u001b[0m\n",
      "\u001b[1;31mTypeError\u001b[0m: insert() takes exactly 2 arguments (0 given)"
     ]
    }
   ],
   "source": [
    "print(s)\n",
    "s.insert()\n",
    "print(s)"
   ]
  },
  {
   "cell_type": "code",
   "execution_count": 81,
   "id": "7a31a61c",
   "metadata": {},
   "outputs": [
    {
     "name": "stdout",
     "output_type": "stream",
     "text": [
      "[45, 45, 6, 7, 8, 9, 20, 67, (167, 78, 89), [167, 78, 89, 45, 56], 56, 89, 67, 5, 56, 89]\n",
      "[450, 45, 45, 6, 7, 8, 9, 20, 67, (167, 78, 89), [167, 78, 89, 45, 56], 56, 89, 67, 5, 56, 89]\n"
     ]
    }
   ],
   "source": [
    "print(s)\n",
    "s.insert(0,450)\n",
    "print(s)"
   ]
  },
  {
   "cell_type": "code",
   "execution_count": 82,
   "id": "2204f838",
   "metadata": {},
   "outputs": [
    {
     "name": "stdout",
     "output_type": "stream",
     "text": [
      "[450, 45, 45, 6, 7, 8, 9, 20, 67, (167, 78, 89), [167, 78, 89, 45, 56], 56, 89, 67, 5, 56, 89]\n",
      "[[450, 7, 6, 8], 450, 45, 45, 6, 7, 8, 9, 20, 67, (167, 78, 89), [167, 78, 89, 45, 56], 56, 89, 67, 5, 56, 89]\n"
     ]
    }
   ],
   "source": [
    "print(s)\n",
    "s.insert(0,[450,7,6,8])\n",
    "print(s)"
   ]
  },
  {
   "cell_type": "code",
   "execution_count": 83,
   "id": "61da2e74",
   "metadata": {},
   "outputs": [
    {
     "name": "stdout",
     "output_type": "stream",
     "text": [
      "[[450, 7, 6, 8], 450, 45, 45, 6, 7, 8, 9, 20, 67, (167, 78, 89), [167, 78, 89, 45, 56], 56, 89, 67, 5, 56, 89]\n",
      "[[450, 7, 6, 8], 450, 45, 45, 6, 7, 8, 9, 20, 67, (167, 78, 89), [167, 78, 89, 45, 56], 56, 89, 67, 5, 56, 89, 900]\n"
     ]
    }
   ],
   "source": [
    "print(s)\n",
    "s.insert(100,900)\n",
    "print(s)"
   ]
  },
  {
   "cell_type": "code",
   "execution_count": 84,
   "id": "1005c210",
   "metadata": {},
   "outputs": [
    {
     "name": "stdout",
     "output_type": "stream",
     "text": [
      "[[450, 7, 6, 8], 450, 45, 45, 6, 7, 8, 9, 20, 67, (167, 78, 89), [167, 78, 89, 45, 56], 56, 89, 67, 5, 56, 89, 900]\n",
      "[[450, 7, 6, 8], 450, 45, 45, 6, 7, 8, 9, 20, 67, (167, 78, 89), [167, 78, 89, 45, 56], 56, 89, 67, 5, 56, 89]\n"
     ]
    }
   ],
   "source": [
    "print(s)\n",
    "s.pop()\n",
    "print(s)"
   ]
  },
  {
   "cell_type": "code",
   "execution_count": 85,
   "id": "25b3979f",
   "metadata": {},
   "outputs": [
    {
     "name": "stdout",
     "output_type": "stream",
     "text": [
      "[[450, 7, 6, 8], 450, 45, 45, 6, 7, 8, 9, 20, 67, (167, 78, 89), [167, 78, 89, 45, 56], 56, 89, 67, 5, 56, 89]\n"
     ]
    },
    {
     "ename": "IndexError",
     "evalue": "pop index out of range",
     "output_type": "error",
     "traceback": [
      "\u001b[1;31m---------------------------------------------------------------------------\u001b[0m",
      "\u001b[1;31mIndexError\u001b[0m                                Traceback (most recent call last)",
      "\u001b[1;32m~\\AppData\\Local\\Temp\\ipykernel_10532\\952818268.py\u001b[0m in \u001b[0;36m<module>\u001b[1;34m\u001b[0m\n\u001b[0;32m      1\u001b[0m \u001b[0mprint\u001b[0m\u001b[1;33m(\u001b[0m\u001b[0ms\u001b[0m\u001b[1;33m)\u001b[0m\u001b[1;33m\u001b[0m\u001b[1;33m\u001b[0m\u001b[0m\n\u001b[1;32m----> 2\u001b[1;33m \u001b[0ms\u001b[0m\u001b[1;33m.\u001b[0m\u001b[0mpop\u001b[0m\u001b[1;33m(\u001b[0m\u001b[1;36m45\u001b[0m\u001b[1;33m)\u001b[0m\u001b[1;33m\u001b[0m\u001b[1;33m\u001b[0m\u001b[0m\n\u001b[0m\u001b[0;32m      3\u001b[0m \u001b[0mprint\u001b[0m\u001b[1;33m(\u001b[0m\u001b[0ms\u001b[0m\u001b[1;33m)\u001b[0m\u001b[1;33m\u001b[0m\u001b[1;33m\u001b[0m\u001b[0m\n",
      "\u001b[1;31mIndexError\u001b[0m: pop index out of range"
     ]
    }
   ],
   "source": [
    "print(s)\n",
    "s.pop(45)\n",
    "print(s)"
   ]
  },
  {
   "cell_type": "code",
   "execution_count": 86,
   "id": "c0f26382",
   "metadata": {},
   "outputs": [
    {
     "name": "stdout",
     "output_type": "stream",
     "text": [
      "[[450, 7, 6, 8], 450, 45, 45, 6, 7, 8, 9, 20, 67, (167, 78, 89), [167, 78, 89, 45, 56], 56, 89, 67, 5, 56, 89]\n",
      "[450, 45, 45, 6, 7, 8, 9, 20, 67, (167, 78, 89), [167, 78, 89, 45, 56], 56, 89, 67, 5, 56, 89]\n"
     ]
    }
   ],
   "source": [
    "print(s)\n",
    "s.pop(0)\n",
    "print(s)"
   ]
  },
  {
   "cell_type": "code",
   "execution_count": 87,
   "id": "4171ea8f",
   "metadata": {},
   "outputs": [
    {
     "name": "stdout",
     "output_type": "stream",
     "text": [
      "[450, 45, 45, 6, 7, 8, 9, 20, 67, (167, 78, 89), [167, 78, 89, 45, 56], 56, 89, 67, 5, 56, 89]\n"
     ]
    },
    {
     "ename": "TypeError",
     "evalue": "remove() takes exactly one argument (0 given)",
     "output_type": "error",
     "traceback": [
      "\u001b[1;31m---------------------------------------------------------------------------\u001b[0m",
      "\u001b[1;31mTypeError\u001b[0m                                 Traceback (most recent call last)",
      "\u001b[1;32m~\\AppData\\Local\\Temp\\ipykernel_10532\\302438974.py\u001b[0m in \u001b[0;36m<module>\u001b[1;34m\u001b[0m\n\u001b[0;32m      1\u001b[0m \u001b[0mprint\u001b[0m\u001b[1;33m(\u001b[0m\u001b[0ms\u001b[0m\u001b[1;33m)\u001b[0m\u001b[1;33m\u001b[0m\u001b[1;33m\u001b[0m\u001b[0m\n\u001b[1;32m----> 2\u001b[1;33m \u001b[0ms\u001b[0m\u001b[1;33m.\u001b[0m\u001b[0mremove\u001b[0m\u001b[1;33m(\u001b[0m\u001b[1;33m)\u001b[0m\u001b[1;33m\u001b[0m\u001b[1;33m\u001b[0m\u001b[0m\n\u001b[0m\u001b[0;32m      3\u001b[0m \u001b[0mprint\u001b[0m\u001b[1;33m(\u001b[0m\u001b[0ms\u001b[0m\u001b[1;33m)\u001b[0m\u001b[1;33m\u001b[0m\u001b[1;33m\u001b[0m\u001b[0m\n",
      "\u001b[1;31mTypeError\u001b[0m: remove() takes exactly one argument (0 given)"
     ]
    }
   ],
   "source": [
    "print(s)\n",
    "s.remove()\n",
    "print(s)"
   ]
  },
  {
   "cell_type": "code",
   "execution_count": 88,
   "id": "3762d123",
   "metadata": {},
   "outputs": [
    {
     "name": "stdout",
     "output_type": "stream",
     "text": [
      "[450, 45, 45, 6, 7, 8, 9, 20, 67, (167, 78, 89), [167, 78, 89, 45, 56], 56, 89, 67, 5, 56, 89]\n",
      "[450, 45, 6, 7, 8, 9, 20, 67, (167, 78, 89), [167, 78, 89, 45, 56], 56, 89, 67, 5, 56, 89]\n"
     ]
    }
   ],
   "source": [
    "print(s)\n",
    "s.remove(45)\n",
    "print(s)"
   ]
  },
  {
   "cell_type": "code",
   "execution_count": 89,
   "id": "5097be93",
   "metadata": {},
   "outputs": [
    {
     "name": "stdout",
     "output_type": "stream",
     "text": [
      "[450, 45, 6, 7, 8, 9, 20, 67, (167, 78, 89), [167, 78, 89, 45, 56], 56, 89, 67, 5, 56, 89]\n"
     ]
    },
    {
     "ename": "ValueError",
     "evalue": "list.remove(x): x not in list",
     "output_type": "error",
     "traceback": [
      "\u001b[1;31m---------------------------------------------------------------------------\u001b[0m",
      "\u001b[1;31mValueError\u001b[0m                                Traceback (most recent call last)",
      "\u001b[1;32m~\\AppData\\Local\\Temp\\ipykernel_10532\\4269463471.py\u001b[0m in \u001b[0;36m<module>\u001b[1;34m\u001b[0m\n\u001b[0;32m      1\u001b[0m \u001b[0mprint\u001b[0m\u001b[1;33m(\u001b[0m\u001b[0ms\u001b[0m\u001b[1;33m)\u001b[0m\u001b[1;33m\u001b[0m\u001b[1;33m\u001b[0m\u001b[0m\n\u001b[1;32m----> 2\u001b[1;33m \u001b[0ms\u001b[0m\u001b[1;33m.\u001b[0m\u001b[0mremove\u001b[0m\u001b[1;33m(\u001b[0m\u001b[1;33m-\u001b[0m\u001b[1;36m90\u001b[0m\u001b[1;33m)\u001b[0m\u001b[1;33m\u001b[0m\u001b[1;33m\u001b[0m\u001b[0m\n\u001b[0m\u001b[0;32m      3\u001b[0m \u001b[0mprint\u001b[0m\u001b[1;33m(\u001b[0m\u001b[0ms\u001b[0m\u001b[1;33m)\u001b[0m\u001b[1;33m\u001b[0m\u001b[1;33m\u001b[0m\u001b[0m\n",
      "\u001b[1;31mValueError\u001b[0m: list.remove(x): x not in list"
     ]
    }
   ],
   "source": [
    "print(s)\n",
    "s.remove(-90)\n",
    "print(s)"
   ]
  },
  {
   "cell_type": "code",
   "execution_count": 90,
   "id": "6fbcfc7a",
   "metadata": {},
   "outputs": [
    {
     "name": "stdout",
     "output_type": "stream",
     "text": [
      "[450, 45, 6, 7, 8, 9, 20, 67, (167, 78, 89), [167, 78, 89, 45, 56], 56, 89, 67, 5, 56, 89]\n"
     ]
    },
    {
     "ename": "TypeError",
     "evalue": "index() takes at least 1 argument (0 given)",
     "output_type": "error",
     "traceback": [
      "\u001b[1;31m---------------------------------------------------------------------------\u001b[0m",
      "\u001b[1;31mTypeError\u001b[0m                                 Traceback (most recent call last)",
      "\u001b[1;32m~\\AppData\\Local\\Temp\\ipykernel_10532\\3815513581.py\u001b[0m in \u001b[0;36m<module>\u001b[1;34m\u001b[0m\n\u001b[0;32m      1\u001b[0m \u001b[0mprint\u001b[0m\u001b[1;33m(\u001b[0m\u001b[0ms\u001b[0m\u001b[1;33m)\u001b[0m\u001b[1;33m\u001b[0m\u001b[1;33m\u001b[0m\u001b[0m\n\u001b[1;32m----> 2\u001b[1;33m \u001b[0ms\u001b[0m\u001b[1;33m.\u001b[0m\u001b[0mindex\u001b[0m\u001b[1;33m(\u001b[0m\u001b[1;33m)\u001b[0m\u001b[1;33m\u001b[0m\u001b[1;33m\u001b[0m\u001b[0m\n\u001b[0m\u001b[0;32m      3\u001b[0m \u001b[0mprint\u001b[0m\u001b[1;33m(\u001b[0m\u001b[0ms\u001b[0m\u001b[1;33m)\u001b[0m\u001b[1;33m\u001b[0m\u001b[1;33m\u001b[0m\u001b[0m\n",
      "\u001b[1;31mTypeError\u001b[0m: index() takes at least 1 argument (0 given)"
     ]
    }
   ],
   "source": [
    "print(s)\n",
    "s.index()\n",
    "print(s)"
   ]
  },
  {
   "cell_type": "code",
   "execution_count": 92,
   "id": "08f08c7b",
   "metadata": {},
   "outputs": [
    {
     "name": "stdout",
     "output_type": "stream",
     "text": [
      "[450, 45, 6, 7, 8, 9, 20, 67, (167, 78, 89), [167, 78, 89, 45, 56], 56, 89, 67, 5, 56, 89]\n",
      "13\n"
     ]
    }
   ],
   "source": [
    "print(s)\n",
    "print(s.index(5))"
   ]
  },
  {
   "cell_type": "code",
   "execution_count": 93,
   "id": "a2d83071",
   "metadata": {},
   "outputs": [
    {
     "name": "stdout",
     "output_type": "stream",
     "text": [
      "[450, 45, 6, 7, 8, 9, 20, 67, (167, 78, 89), [167, 78, 89, 45, 56], 56, 89, 67, 5, 56, 89]\n"
     ]
    },
    {
     "ename": "ValueError",
     "evalue": "100 is not in list",
     "output_type": "error",
     "traceback": [
      "\u001b[1;31m---------------------------------------------------------------------------\u001b[0m",
      "\u001b[1;31mValueError\u001b[0m                                Traceback (most recent call last)",
      "\u001b[1;32m~\\AppData\\Local\\Temp\\ipykernel_10532\\1625031642.py\u001b[0m in \u001b[0;36m<module>\u001b[1;34m\u001b[0m\n\u001b[0;32m      1\u001b[0m \u001b[0mprint\u001b[0m\u001b[1;33m(\u001b[0m\u001b[0ms\u001b[0m\u001b[1;33m)\u001b[0m\u001b[1;33m\u001b[0m\u001b[1;33m\u001b[0m\u001b[0m\n\u001b[1;32m----> 2\u001b[1;33m \u001b[0mprint\u001b[0m\u001b[1;33m(\u001b[0m\u001b[0ms\u001b[0m\u001b[1;33m.\u001b[0m\u001b[0mindex\u001b[0m\u001b[1;33m(\u001b[0m\u001b[1;36m100\u001b[0m\u001b[1;33m)\u001b[0m\u001b[1;33m)\u001b[0m\u001b[1;33m\u001b[0m\u001b[1;33m\u001b[0m\u001b[0m\n\u001b[0m",
      "\u001b[1;31mValueError\u001b[0m: 100 is not in list"
     ]
    }
   ],
   "source": [
    "print(s)\n",
    "print(s.index(100))"
   ]
  },
  {
   "cell_type": "code",
   "execution_count": 94,
   "id": "e2bb65f2",
   "metadata": {},
   "outputs": [
    {
     "name": "stdout",
     "output_type": "stream",
     "text": [
      "[450, 45, 6, 7, 8, 9, 20, 67, (167, 78, 89), [167, 78, 89, 45, 56], 56, 89, 67, 5, 56, 89]\n",
      "2\n"
     ]
    }
   ],
   "source": [
    "print(s)\n",
    "print(s.count(67))"
   ]
  },
  {
   "cell_type": "code",
   "execution_count": 95,
   "id": "55c040e6",
   "metadata": {},
   "outputs": [
    {
     "name": "stdout",
     "output_type": "stream",
     "text": [
      "[450, 45, 6, 7, 8, 9, 20, 67, (167, 78, 89), [167, 78, 89, 45, 56], 56, 89, 67, 5, 56, 89]\n",
      "0\n"
     ]
    }
   ],
   "source": [
    "print(s)\n",
    "print(s.count(-900))"
   ]
  },
  {
   "cell_type": "code",
   "execution_count": 96,
   "id": "c9642e67",
   "metadata": {},
   "outputs": [
    {
     "name": "stdout",
     "output_type": "stream",
     "text": [
      "[450, 45, 6, 7, 8, 9, 20, 67, (167, 78, 89), [167, 78, 89, 45, 56], 56, 89, 67, 5, 56, 89]\n",
      "[450, 45, 6, 7, 8, 9, 20, 67, [167, 78, 89, 45, 56], 56, 89, 67, 5, 56, 89]\n"
     ]
    }
   ],
   "source": [
    "print(s)\n",
    "s.pop(8)\n",
    "print(s)"
   ]
  },
  {
   "cell_type": "code",
   "execution_count": 97,
   "id": "8a4e9586",
   "metadata": {},
   "outputs": [
    {
     "name": "stdout",
     "output_type": "stream",
     "text": [
      "[450, 45, 6, 7, 8, 9, 20, 67, [167, 78, 89, 45, 56], 56, 89, 67, 5, 56, 89]\n",
      "[450, 45, 6, 7, 8, 9, 20, 67, 56, 89, 67, 5, 56, 89]\n"
     ]
    }
   ],
   "source": [
    "print(s)\n",
    "s.pop(8)\n",
    "print(s)"
   ]
  },
  {
   "cell_type": "code",
   "execution_count": 99,
   "id": "88768f02",
   "metadata": {},
   "outputs": [
    {
     "name": "stdout",
     "output_type": "stream",
     "text": [
      "[89, 56, 5, 67, 89, 56, 67, 20, 9, 8, 7, 6, 45, 450]\n",
      "[450, 45, 6, 7, 8, 9, 20, 67, 56, 89, 67, 5, 56, 89]\n"
     ]
    }
   ],
   "source": [
    "print(s)\n",
    "s.reverse()\n",
    "print(s)"
   ]
  },
  {
   "cell_type": "code",
   "execution_count": 100,
   "id": "4cc973bc",
   "metadata": {},
   "outputs": [
    {
     "name": "stdout",
     "output_type": "stream",
     "text": [
      "[450, 45, 6, 7, 8, 9, 20, 67, 56, 89, 67, 5, 56, 89]\n",
      "[5, 6, 7, 8, 9, 20, 45, 56, 56, 67, 67, 89, 89, 450]\n"
     ]
    }
   ],
   "source": [
    "print(s)\n",
    "s.sort()\n",
    "print(s)"
   ]
  },
  {
   "cell_type": "code",
   "execution_count": 102,
   "id": "0edc4bc9",
   "metadata": {},
   "outputs": [
    {
     "name": "stdout",
     "output_type": "stream",
     "text": [
      "[5, 6, 7, 8, 9, 20, 45, 56, 56, 67, 67, 89, 89, 450]\n",
      "[450, 89, 89, 67, 67, 56, 56, 45, 20, 9, 8, 7, 6, 5]\n"
     ]
    }
   ],
   "source": [
    "print(s)\n",
    "s.sort(reverse=True)\n",
    "print(s)"
   ]
  },
  {
   "cell_type": "code",
   "execution_count": 103,
   "id": "dae5b454",
   "metadata": {},
   "outputs": [
    {
     "name": "stdout",
     "output_type": "stream",
     "text": [
      "[450, 89, 89, 67, 67, 56, 56, 45, 20, 9, 8, 7, 6, 5]\n",
      "[450, 89, 89, 67, 67, 56, 56, 45, 20, 9, 8, 7, 6, 5]\n"
     ]
    }
   ],
   "source": [
    "t = s.copy()\n",
    "print(t)\n",
    "print(s)"
   ]
  },
  {
   "cell_type": "code",
   "execution_count": 104,
   "id": "091db242",
   "metadata": {},
   "outputs": [
    {
     "name": "stdout",
     "output_type": "stream",
     "text": [
      "[450, 89, 89, 67, 67, 56, 56, 45, 20, 9, 8, 7, 6, 5]\n",
      "[450, 89, 89, 67, 67, 56, 56, 45, 20, 9, 8, 7, 6, 5]\n",
      "[450, 89, 89, 67, 67, 56, 56, 45, 20, 9, 8, 7, 6, 5]\n",
      "[]\n"
     ]
    }
   ],
   "source": [
    "print(t)\n",
    "print(s)\n",
    "s.clear()\n",
    "print(t)\n",
    "print(s)"
   ]
  },
  {
   "cell_type": "code",
   "execution_count": 105,
   "id": "64370c47",
   "metadata": {},
   "outputs": [
    {
     "name": "stdout",
     "output_type": "stream",
     "text": [
      "[450, 89, 89, 67, 67, 56, 56, 45, 20, 9, 8, 7, 6, 5]\n"
     ]
    },
    {
     "ename": "NameError",
     "evalue": "name 't' is not defined",
     "output_type": "error",
     "traceback": [
      "\u001b[1;31m---------------------------------------------------------------------------\u001b[0m",
      "\u001b[1;31mNameError\u001b[0m                                 Traceback (most recent call last)",
      "\u001b[1;32m~\\AppData\\Local\\Temp\\ipykernel_10532\\610190639.py\u001b[0m in \u001b[0;36m<module>\u001b[1;34m\u001b[0m\n\u001b[0;32m      1\u001b[0m \u001b[0mprint\u001b[0m\u001b[1;33m(\u001b[0m\u001b[0mt\u001b[0m\u001b[1;33m)\u001b[0m\u001b[1;33m\u001b[0m\u001b[1;33m\u001b[0m\u001b[0m\n\u001b[0;32m      2\u001b[0m \u001b[1;32mdel\u001b[0m \u001b[0mt\u001b[0m\u001b[1;33m\u001b[0m\u001b[1;33m\u001b[0m\u001b[0m\n\u001b[1;32m----> 3\u001b[1;33m \u001b[0mprint\u001b[0m\u001b[1;33m(\u001b[0m\u001b[0mt\u001b[0m\u001b[1;33m)\u001b[0m\u001b[1;33m\u001b[0m\u001b[1;33m\u001b[0m\u001b[0m\n\u001b[0m",
      "\u001b[1;31mNameError\u001b[0m: name 't' is not defined"
     ]
    }
   ],
   "source": [
    "print(t)\n",
    "del t\n",
    "print(t)"
   ]
  },
  {
   "cell_type": "code",
   "execution_count": 114,
   "id": "b16303de",
   "metadata": {},
   "outputs": [
    {
     "name": "stdout",
     "output_type": "stream",
     "text": [
      "9\n",
      "weird\n"
     ]
    }
   ],
   "source": [
    "a = int(input())\n",
    "if a%2!=0:\n",
    "    print(\"weird\")\n",
    "elif a%2 == 0 and 2<= a <=5:\n",
    "    print(\"not weird\")\n",
    "elif a%2 == 0 and 6<= a <=20:\n",
    "    print(\"weird\")\n",
    "else:\n",
    "    print(\"not weird\")\n",
    "\n",
    "\n",
    "    "
   ]
  },
  {
   "cell_type": "code",
   "execution_count": 117,
   "id": "b21ac4f2",
   "metadata": {},
   "outputs": [
    {
     "name": "stdout",
     "output_type": "stream",
     "text": [
      "56\n",
      "Not Weird\n"
     ]
    }
   ],
   "source": [
    "n = int(input())\n",
    "if n%2!=0:\n",
    "    print(\"Weird\")\n",
    "else:\n",
    "    if n>=2 and n<=5:\n",
    "        print(\"Not Weird\")\n",
    "    elif n>=6 and n<=20:\n",
    "        print(\"Weird\")\n",
    "    else:\n",
    "        print(\"Not Weird\")"
   ]
  },
  {
   "cell_type": "code",
   "execution_count": 118,
   "id": "d9c8e2c5",
   "metadata": {},
   "outputs": [
    {
     "name": "stdout",
     "output_type": "stream",
     "text": [
      "34\n",
      "Not Weird\n"
     ]
    }
   ],
   "source": [
    "n = int(input())\n",
    "if n>20 and n%2==0:\n",
    "    print(\"Not Weird\")\n",
    "elif n%2==0 and (n>=2 and n<=5):\n",
    "    print(\"Not Weird\")\n",
    "elif n%2==0 and (n>=6 and n<=20):\n",
    "    print(\"Weird\")\n",
    "else:\n",
    "    print(\"Weird\")"
   ]
  },
  {
   "cell_type": "code",
   "execution_count": 120,
   "id": "73a4c1cb",
   "metadata": {},
   "outputs": [
    {
     "name": "stdout",
     "output_type": "stream",
     "text": [
      "56 78 34 5 6 7 90 "
     ]
    }
   ],
   "source": [
    "y = [56,78,34,5,6,7,90]\n",
    "for i in range(len(y)):\n",
    "    print(y[i],end=\" \")"
   ]
  },
  {
   "cell_type": "code",
   "execution_count": 121,
   "id": "c6e008f5",
   "metadata": {},
   "outputs": [
    {
     "name": "stdout",
     "output_type": "stream",
     "text": [
      "56 78 34 5 6 7 90 "
     ]
    }
   ],
   "source": [
    "for i in y:\n",
    "    print(i,end=\" \")"
   ]
  },
  {
   "cell_type": "code",
   "execution_count": 123,
   "id": "3ab2bce4",
   "metadata": {},
   "outputs": [
    {
     "name": "stdout",
     "output_type": "stream",
     "text": [
      "3\n",
      "23\n",
      "45\n",
      "6\n",
      "[6]\n"
     ]
    }
   ],
   "source": [
    "n = int(input())\n",
    "y = []\n",
    "for i in range(1,n+1):\n",
    "    k = int(input())\n",
    "    if k%2==0:\n",
    "        y.append(k)\n",
    "print(y)"
   ]
  },
  {
   "cell_type": "markdown",
   "id": "3e4d8f82",
   "metadata": {},
   "source": [
    "# Tuple:\n",
    "    - It can be represented as \"()\"\n",
    "    - It cant changes the values in a tuple\n",
    "    - It stores the data in order format\n",
    "    - It allows duplicate values\n",
    "    - It can be typecasted as tuple()\n",
    "    - Slicing can be done because of index\n",
    "    - Items can be seperated by comma(,)\n",
    "    - It can stores all data type values"
   ]
  },
  {
   "cell_type": "code",
   "execution_count": 124,
   "id": "fdb4ed84",
   "metadata": {},
   "outputs": [
    {
     "name": "stdout",
     "output_type": "stream",
     "text": [
      "(34, 98.9878, 'lalitha', True, None, '67', 34, 34) <class 'tuple'>\n"
     ]
    }
   ],
   "source": [
    "f = (34,98.9878,\"lalitha\",True,None,'67',34,34)\n",
    "print(f,type(f))"
   ]
  },
  {
   "cell_type": "code",
   "execution_count": 125,
   "id": "59496839",
   "metadata": {},
   "outputs": [
    {
     "name": "stdout",
     "output_type": "stream",
     "text": [
      "34 98.9878 lalitha True None 67 34 34 "
     ]
    }
   ],
   "source": [
    "for i in range(len(f)):\n",
    "    print(f[i],end=\" \")"
   ]
  },
  {
   "cell_type": "code",
   "execution_count": 126,
   "id": "2f5987ee",
   "metadata": {},
   "outputs": [
    {
     "name": "stdout",
     "output_type": "stream",
     "text": [
      "34 98.9878 lalitha True None 67 34 34 "
     ]
    }
   ],
   "source": [
    "for i in f:\n",
    "    print(i,end=\" \")"
   ]
  },
  {
   "cell_type": "code",
   "execution_count": 127,
   "id": "524c6876",
   "metadata": {},
   "outputs": [
    {
     "name": "stdout",
     "output_type": "stream",
     "text": [
      "['__add__', '__class__', '__contains__', '__delattr__', '__dir__', '__doc__', '__eq__', '__format__', '__ge__', '__getattribute__', '__getitem__', '__getnewargs__', '__gt__', '__hash__', '__init__', '__init_subclass__', '__iter__', '__le__', '__len__', '__lt__', '__mul__', '__ne__', '__new__', '__reduce__', '__reduce_ex__', '__repr__', '__rmul__', '__setattr__', '__sizeof__', '__str__', '__subclasshook__', 'count', 'index']\n"
     ]
    }
   ],
   "source": [
    "print(dir(tuple))"
   ]
  },
  {
   "cell_type": "code",
   "execution_count": 129,
   "id": "84a8ad2c",
   "metadata": {},
   "outputs": [
    {
     "name": "stdout",
     "output_type": "stream",
     "text": [
      "(34, 98.9878, 'lalitha', True, None, '67', 34, 34)\n",
      "0\n"
     ]
    }
   ],
   "source": [
    "print(f)\n",
    "print(f.count(345))"
   ]
  },
  {
   "cell_type": "code",
   "execution_count": 130,
   "id": "79551389",
   "metadata": {},
   "outputs": [
    {
     "name": "stdout",
     "output_type": "stream",
     "text": [
      "(34, 98.9878, 'lalitha', True, None, '67', 34, 34)\n",
      "3\n"
     ]
    }
   ],
   "source": [
    "print(f)\n",
    "print(f.count(34))"
   ]
  },
  {
   "cell_type": "code",
   "execution_count": 131,
   "id": "332b7938",
   "metadata": {},
   "outputs": [
    {
     "name": "stdout",
     "output_type": "stream",
     "text": [
      "(34, 98.9878, 'lalitha', True, None, '67', 34, 34)\n"
     ]
    },
    {
     "ename": "ValueError",
     "evalue": "tuple.index(x): x not in tuple",
     "output_type": "error",
     "traceback": [
      "\u001b[1;31m---------------------------------------------------------------------------\u001b[0m",
      "\u001b[1;31mValueError\u001b[0m                                Traceback (most recent call last)",
      "\u001b[1;32m~\\AppData\\Local\\Temp\\ipykernel_10532\\168567474.py\u001b[0m in \u001b[0;36m<module>\u001b[1;34m\u001b[0m\n\u001b[0;32m      1\u001b[0m \u001b[0mprint\u001b[0m\u001b[1;33m(\u001b[0m\u001b[0mf\u001b[0m\u001b[1;33m)\u001b[0m\u001b[1;33m\u001b[0m\u001b[1;33m\u001b[0m\u001b[0m\n\u001b[1;32m----> 2\u001b[1;33m \u001b[0mprint\u001b[0m\u001b[1;33m(\u001b[0m\u001b[0mf\u001b[0m\u001b[1;33m.\u001b[0m\u001b[0mindex\u001b[0m\u001b[1;33m(\u001b[0m\u001b[1;36m45\u001b[0m\u001b[1;33m)\u001b[0m\u001b[1;33m)\u001b[0m\u001b[1;33m\u001b[0m\u001b[1;33m\u001b[0m\u001b[0m\n\u001b[0m",
      "\u001b[1;31mValueError\u001b[0m: tuple.index(x): x not in tuple"
     ]
    }
   ],
   "source": [
    "print(f)\n",
    "print(f.index(45))"
   ]
  },
  {
   "cell_type": "code",
   "execution_count": 132,
   "id": "a4b6800b",
   "metadata": {},
   "outputs": [
    {
     "name": "stdout",
     "output_type": "stream",
     "text": [
      "(34, 98.9878, 'lalitha', True, None, '67', 34, 34)\n",
      "1\n"
     ]
    }
   ],
   "source": [
    "print(f)\n",
    "print(f.index(98.9878))"
   ]
  },
  {
   "cell_type": "code",
   "execution_count": 136,
   "id": "f88dce78",
   "metadata": {},
   "outputs": [
    {
     "name": "stdout",
     "output_type": "stream",
     "text": [
      "(78, 34, 56) <class 'tuple'>\n"
     ]
    }
   ],
   "source": [
    "r = (90,78,34,56,67)\n",
    "t = list(r)\n",
    "t = t[1:-1:]\n",
    "y = tuple(t)\n",
    "print(y,type(y))"
   ]
  },
  {
   "cell_type": "code",
   "execution_count": 135,
   "id": "e294d198",
   "metadata": {},
   "outputs": [
    {
     "data": {
      "text/plain": [
       "(78, 34, 56)"
      ]
     },
     "execution_count": 135,
     "metadata": {},
     "output_type": "execute_result"
    }
   ],
   "source": [
    "r[1:-1:]"
   ]
  },
  {
   "cell_type": "markdown",
   "id": "413d81d1",
   "metadata": {},
   "source": [
    "# Dictionary:\n",
    "    - It can be represented as \"{}\" with empty values in it\n",
    "    - It can be typecasted as dict()\n",
    "    - It can stores the data in key and value pairs\n",
    "    - It can stores the duplicate value for values and not for keys\n",
    "    - Pairs can be seperated by comma(,)\n",
    "    - Slicing can be done for values not for keys"
   ]
  },
  {
   "cell_type": "code",
   "execution_count": 137,
   "id": "f705c26b",
   "metadata": {},
   "outputs": [
    {
     "name": "stdout",
     "output_type": "stream",
     "text": [
      "{'name': ['Suresh', 'Prasad'], 'sal': 34000} <class 'dict'>\n"
     ]
    }
   ],
   "source": [
    "c = {'name':[\"Suresh\",\"Prasad\"],\"sal\":34000}\n",
    "print(c,type(c))"
   ]
  },
  {
   "cell_type": "code",
   "execution_count": 138,
   "id": "bafb0e55",
   "metadata": {},
   "outputs": [
    {
     "name": "stdout",
     "output_type": "stream",
     "text": [
      "['__class__', '__contains__', '__delattr__', '__delitem__', '__dir__', '__doc__', '__eq__', '__format__', '__ge__', '__getattribute__', '__getitem__', '__gt__', '__hash__', '__init__', '__init_subclass__', '__iter__', '__le__', '__len__', '__lt__', '__ne__', '__new__', '__reduce__', '__reduce_ex__', '__repr__', '__setattr__', '__setitem__', '__sizeof__', '__str__', '__subclasshook__', 'clear', 'copy', 'fromkeys', 'get', 'items', 'keys', 'pop', 'popitem', 'setdefault', 'update', 'values']\n"
     ]
    }
   ],
   "source": [
    "print(dir(dict))"
   ]
  },
  {
   "cell_type": "code",
   "execution_count": 139,
   "id": "51356f67",
   "metadata": {},
   "outputs": [
    {
     "name": "stdout",
     "output_type": "stream",
     "text": [
      "{'name': ['Suresh', 'Prasad'], 'sal': 34000}\n",
      "{'name': ['Suresh', 'Prasad'], 'sal': 34000, 'age': 34}\n"
     ]
    }
   ],
   "source": [
    "print(c)\n",
    "c['age'] = 34\n",
    "print(c)"
   ]
  },
  {
   "cell_type": "code",
   "execution_count": 140,
   "id": "ef39f4ff",
   "metadata": {},
   "outputs": [
    {
     "name": "stdout",
     "output_type": "stream",
     "text": [
      "dict_keys(['name', 'sal', 'age'])\n"
     ]
    }
   ],
   "source": [
    "print(c.keys())"
   ]
  },
  {
   "cell_type": "code",
   "execution_count": 141,
   "id": "a35f2882",
   "metadata": {},
   "outputs": [
    {
     "name": "stdout",
     "output_type": "stream",
     "text": [
      "dict_values([['Suresh', 'Prasad'], 34000, 34])\n"
     ]
    }
   ],
   "source": [
    "print(c.values())"
   ]
  },
  {
   "cell_type": "code",
   "execution_count": 142,
   "id": "381ef5f7",
   "metadata": {},
   "outputs": [
    {
     "name": "stdout",
     "output_type": "stream",
     "text": [
      "dict_items([('name', ['Suresh', 'Prasad']), ('sal', 34000), ('age', 34)])\n"
     ]
    }
   ],
   "source": [
    "print(c.items())"
   ]
  },
  {
   "cell_type": "code",
   "execution_count": 143,
   "id": "f7775b0c",
   "metadata": {},
   "outputs": [
    {
     "name": "stdout",
     "output_type": "stream",
     "text": [
      "{'name': ['Suresh', 'Prasad'], 'sal': 34000, 'age': 34}\n",
      "{'name': ['Suresh', 'Prasad'], 'sal': 34000, 'age': 89}\n"
     ]
    }
   ],
   "source": [
    "print(c)\n",
    "c['age'] = 89\n",
    "print(c)"
   ]
  },
  {
   "cell_type": "code",
   "execution_count": 145,
   "id": "cbb8c3cb",
   "metadata": {},
   "outputs": [
    {
     "name": "stdout",
     "output_type": "stream",
     "text": [
      "89\n",
      "89\n"
     ]
    }
   ],
   "source": [
    "print(c['age'])\n",
    "print(c.get('age'))"
   ]
  },
  {
   "cell_type": "code",
   "execution_count": 147,
   "id": "092dcca0",
   "metadata": {},
   "outputs": [
    {
     "name": "stdout",
     "output_type": "stream",
     "text": [
      "{'name': ['Suresh', 'Prasad'], 'sal': 34000, 'age': 89}\n",
      "{'name': ['Suresh', 'Prasad'], 'sal': 34000, 'age': 89, 'addr': None}\n"
     ]
    }
   ],
   "source": [
    "print(c)\n",
    "c.setdefault('addr')\n",
    "print(c)"
   ]
  },
  {
   "cell_type": "code",
   "execution_count": 148,
   "id": "471abce2",
   "metadata": {},
   "outputs": [
    {
     "name": "stdout",
     "output_type": "stream",
     "text": [
      "{'name': ['Suresh', 'Prasad'], 'sal': 34000, 'age': 89, 'addr': None}\n",
      "{'name': ['Suresh', 'Prasad'], 'sal': 34000, 'age': 35, 'addr': None}\n"
     ]
    }
   ],
   "source": [
    "print(c)\n",
    "c['age'] = 35\n",
    "print(c)"
   ]
  },
  {
   "cell_type": "code",
   "execution_count": 149,
   "id": "07b47227",
   "metadata": {},
   "outputs": [
    {
     "name": "stdout",
     "output_type": "stream",
     "text": [
      "{'name': ['Suresh', 'Prasad'], 'sal': 34000, 'age': 35, 'addr': None}\n",
      "{'name': ['Suresh', 'Prasad'], 'sal': 34000, 'age': 35, 'addr': 'Hyd'}\n"
     ]
    }
   ],
   "source": [
    "print(c)\n",
    "c.update({'addr':'Hyd'})\n",
    "print(c)"
   ]
  },
  {
   "cell_type": "code",
   "execution_count": 150,
   "id": "48f85b5a",
   "metadata": {},
   "outputs": [
    {
     "name": "stdout",
     "output_type": "stream",
     "text": [
      "{'name': ['Suresh', 'Prasad'], 'sal': 34000, 'age': 35, 'addr': 'Hyd'}\n"
     ]
    },
    {
     "ename": "TypeError",
     "evalue": "pop expected at least 1 arguments, got 0",
     "output_type": "error",
     "traceback": [
      "\u001b[1;31m---------------------------------------------------------------------------\u001b[0m",
      "\u001b[1;31mTypeError\u001b[0m                                 Traceback (most recent call last)",
      "\u001b[1;32m~\\AppData\\Local\\Temp\\ipykernel_10532\\2848845696.py\u001b[0m in \u001b[0;36m<module>\u001b[1;34m\u001b[0m\n\u001b[0;32m      1\u001b[0m \u001b[0mprint\u001b[0m\u001b[1;33m(\u001b[0m\u001b[0mc\u001b[0m\u001b[1;33m)\u001b[0m\u001b[1;33m\u001b[0m\u001b[1;33m\u001b[0m\u001b[0m\n\u001b[1;32m----> 2\u001b[1;33m \u001b[0mc\u001b[0m\u001b[1;33m.\u001b[0m\u001b[0mpop\u001b[0m\u001b[1;33m(\u001b[0m\u001b[1;33m)\u001b[0m\u001b[1;33m\u001b[0m\u001b[1;33m\u001b[0m\u001b[0m\n\u001b[0m\u001b[0;32m      3\u001b[0m \u001b[0mprint\u001b[0m\u001b[1;33m(\u001b[0m\u001b[0mc\u001b[0m\u001b[1;33m)\u001b[0m\u001b[1;33m\u001b[0m\u001b[1;33m\u001b[0m\u001b[0m\n",
      "\u001b[1;31mTypeError\u001b[0m: pop expected at least 1 arguments, got 0"
     ]
    }
   ],
   "source": [
    "print(c)\n",
    "c.pop()\n",
    "print(c)"
   ]
  },
  {
   "cell_type": "code",
   "execution_count": 151,
   "id": "76c538b6",
   "metadata": {},
   "outputs": [
    {
     "name": "stdout",
     "output_type": "stream",
     "text": [
      "{'name': ['Suresh', 'Prasad'], 'sal': 34000, 'age': 35, 'addr': 'Hyd'}\n",
      "{'name': ['Suresh', 'Prasad'], 'sal': 34000, 'addr': 'Hyd'}\n"
     ]
    }
   ],
   "source": [
    "print(c)\n",
    "c.pop('age')\n",
    "print(c)"
   ]
  },
  {
   "cell_type": "code",
   "execution_count": 152,
   "id": "d081fc2d",
   "metadata": {},
   "outputs": [
    {
     "name": "stdout",
     "output_type": "stream",
     "text": [
      "{'name': ['Suresh', 'Prasad'], 'sal': 34000, 'addr': 'Hyd'}\n",
      "{'name': ['Suresh', 'Prasad'], 'sal': 34000}\n"
     ]
    }
   ],
   "source": [
    "print(c)\n",
    "c.popitem()\n",
    "print(c)"
   ]
  },
  {
   "cell_type": "code",
   "execution_count": 153,
   "id": "43e9fab5",
   "metadata": {},
   "outputs": [
    {
     "name": "stdout",
     "output_type": "stream",
     "text": [
      "{'name': ['Suresh', 'Prasad'], 'sal': 34000}\n"
     ]
    },
    {
     "ename": "TypeError",
     "evalue": "popitem() takes no arguments (1 given)",
     "output_type": "error",
     "traceback": [
      "\u001b[1;31m---------------------------------------------------------------------------\u001b[0m",
      "\u001b[1;31mTypeError\u001b[0m                                 Traceback (most recent call last)",
      "\u001b[1;32m~\\AppData\\Local\\Temp\\ipykernel_10532\\1271179346.py\u001b[0m in \u001b[0;36m<module>\u001b[1;34m\u001b[0m\n\u001b[0;32m      1\u001b[0m \u001b[0mprint\u001b[0m\u001b[1;33m(\u001b[0m\u001b[0mc\u001b[0m\u001b[1;33m)\u001b[0m\u001b[1;33m\u001b[0m\u001b[1;33m\u001b[0m\u001b[0m\n\u001b[1;32m----> 2\u001b[1;33m \u001b[0mc\u001b[0m\u001b[1;33m.\u001b[0m\u001b[0mpopitem\u001b[0m\u001b[1;33m(\u001b[0m\u001b[1;34m'addr'\u001b[0m\u001b[1;33m)\u001b[0m\u001b[1;33m\u001b[0m\u001b[1;33m\u001b[0m\u001b[0m\n\u001b[0m\u001b[0;32m      3\u001b[0m \u001b[0mprint\u001b[0m\u001b[1;33m(\u001b[0m\u001b[0mc\u001b[0m\u001b[1;33m)\u001b[0m\u001b[1;33m\u001b[0m\u001b[1;33m\u001b[0m\u001b[0m\n",
      "\u001b[1;31mTypeError\u001b[0m: popitem() takes no arguments (1 given)"
     ]
    }
   ],
   "source": [
    "print(c)\n",
    "c.popitem('addr')\n",
    "print(c)"
   ]
  },
  {
   "cell_type": "code",
   "execution_count": 154,
   "id": "21b1e22b",
   "metadata": {},
   "outputs": [
    {
     "name": "stdout",
     "output_type": "stream",
     "text": [
      "{'name': ['Suresh', 'Prasad'], 'sal': 34000}\n"
     ]
    },
    {
     "ename": "TypeError",
     "evalue": "popitem() takes no arguments (1 given)",
     "output_type": "error",
     "traceback": [
      "\u001b[1;31m---------------------------------------------------------------------------\u001b[0m",
      "\u001b[1;31mTypeError\u001b[0m                                 Traceback (most recent call last)",
      "\u001b[1;32m~\\AppData\\Local\\Temp\\ipykernel_10532\\3060061238.py\u001b[0m in \u001b[0;36m<module>\u001b[1;34m\u001b[0m\n\u001b[0;32m      1\u001b[0m \u001b[0mprint\u001b[0m\u001b[1;33m(\u001b[0m\u001b[0mc\u001b[0m\u001b[1;33m)\u001b[0m\u001b[1;33m\u001b[0m\u001b[1;33m\u001b[0m\u001b[0m\n\u001b[1;32m----> 2\u001b[1;33m \u001b[0mc\u001b[0m\u001b[1;33m.\u001b[0m\u001b[0mpopitem\u001b[0m\u001b[1;33m(\u001b[0m\u001b[1;34m'name'\u001b[0m\u001b[1;33m)\u001b[0m\u001b[1;33m\u001b[0m\u001b[1;33m\u001b[0m\u001b[0m\n\u001b[0m\u001b[0;32m      3\u001b[0m \u001b[0mprint\u001b[0m\u001b[1;33m(\u001b[0m\u001b[0mc\u001b[0m\u001b[1;33m)\u001b[0m\u001b[1;33m\u001b[0m\u001b[1;33m\u001b[0m\u001b[0m\n",
      "\u001b[1;31mTypeError\u001b[0m: popitem() takes no arguments (1 given)"
     ]
    }
   ],
   "source": [
    "print(c)\n",
    "c.popitem('name')\n",
    "print(c)"
   ]
  },
  {
   "cell_type": "code",
   "execution_count": 156,
   "id": "23bde7ab",
   "metadata": {},
   "outputs": [
    {
     "name": "stdout",
     "output_type": "stream",
     "text": [
      "{9: None, 0: None, 8: None}\n"
     ]
    }
   ],
   "source": [
    "t = [9,0,8]\n",
    "h = [5,6,7]\n",
    "s = {}\n",
    "z = s.fromkeys(t)\n",
    "print(z)"
   ]
  },
  {
   "cell_type": "code",
   "execution_count": 157,
   "id": "c198ec1b",
   "metadata": {},
   "outputs": [
    {
     "name": "stdout",
     "output_type": "stream",
     "text": [
      "{'name': ['Suresh', 'Prasad'], 'sal': 34000}\n"
     ]
    }
   ],
   "source": [
    "print(c)"
   ]
  },
  {
   "cell_type": "code",
   "execution_count": 159,
   "id": "11728a3d",
   "metadata": {},
   "outputs": [
    {
     "name": "stdout",
     "output_type": "stream",
     "text": [
      "name sal "
     ]
    }
   ],
   "source": [
    "for i in c:\n",
    "    print(i,end=\" \")"
   ]
  },
  {
   "cell_type": "code",
   "execution_count": 160,
   "id": "a2d6e173",
   "metadata": {},
   "outputs": [
    {
     "name": "stdout",
     "output_type": "stream",
     "text": [
      "('name', ['Suresh', 'Prasad']) ('sal', 34000) "
     ]
    }
   ],
   "source": [
    "for i in c.items():\n",
    "    print(i,end=\" \")"
   ]
  },
  {
   "cell_type": "code",
   "execution_count": 161,
   "id": "1da3251a",
   "metadata": {},
   "outputs": [
    {
     "name": "stdout",
     "output_type": "stream",
     "text": [
      "name sal "
     ]
    }
   ],
   "source": [
    "for i in c.keys():\n",
    "    print(i,end=\" \")"
   ]
  },
  {
   "cell_type": "code",
   "execution_count": 162,
   "id": "aa1ab2ad",
   "metadata": {},
   "outputs": [
    {
     "name": "stdout",
     "output_type": "stream",
     "text": [
      "['Suresh', 'Prasad'] 34000 "
     ]
    }
   ],
   "source": [
    "for i in c.values():\n",
    "    print(i,end=\" \")"
   ]
  },
  {
   "cell_type": "code",
   "execution_count": 170,
   "id": "b86780d3",
   "metadata": {},
   "outputs": [],
   "source": [
    "cnt={}"
   ]
  },
  {
   "cell_type": "code",
   "execution_count": 171,
   "id": "6ad7cec7",
   "metadata": {},
   "outputs": [
    {
     "name": "stdout",
     "output_type": "stream",
     "text": [
      "enter a name: somu\n",
      "enter mobile number: 9890989878\n",
      "enter your age: 23\n",
      "{'somu': ['9890989878', 23]}\n"
     ]
    }
   ],
   "source": [
    "name = input(\"enter a name: \")\n",
    "if name not in cnt:\n",
    "    mb = input(\"enter mobile number: \")\n",
    "    age = int(input(\"enter your age: \"))\n",
    "    cnt[name] = [mb,age]\n",
    "else:\n",
    "    print(f\"{name} Already Exists\")\n",
    "print(cnt)"
   ]
  },
  {
   "cell_type": "code",
   "execution_count": null,
   "id": "c437d385",
   "metadata": {},
   "outputs": [],
   "source": []
  }
 ],
 "metadata": {
  "kernelspec": {
   "display_name": "Python 3 (ipykernel)",
   "language": "python",
   "name": "python3"
  },
  "language_info": {
   "codemirror_mode": {
    "name": "ipython",
    "version": 3
   },
   "file_extension": ".py",
   "mimetype": "text/x-python",
   "name": "python",
   "nbconvert_exporter": "python",
   "pygments_lexer": "ipython3",
   "version": "3.7.5"
  }
 },
 "nbformat": 4,
 "nbformat_minor": 5
}
