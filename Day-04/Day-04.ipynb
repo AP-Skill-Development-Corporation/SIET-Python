{
 "cells": [
  {
   "cell_type": "code",
   "execution_count": 1,
   "id": "bfa7924e",
   "metadata": {},
   "outputs": [
    {
     "name": "stdout",
     "output_type": "stream",
     "text": [
      "10\n",
      "10 9 8 7 6 5 4 3 2 1 "
     ]
    }
   ],
   "source": [
    "# While infinity Loop\n",
    "n = int(input())\n",
    "while n!=0:\n",
    "    print(n,end=\" \")\n",
    "    n -=1"
   ]
  },
  {
   "cell_type": "code",
   "execution_count": 2,
   "id": "56eeeaf6",
   "metadata": {},
   "outputs": [
    {
     "data": {
      "text/plain": [
       "7"
      ]
     },
     "execution_count": 2,
     "metadata": {},
     "output_type": "execute_result"
    }
   ],
   "source": [
    "7%10"
   ]
  },
  {
   "cell_type": "code",
   "execution_count": 4,
   "id": "816343da",
   "metadata": {},
   "outputs": [
    {
     "data": {
      "text/plain": [
       "7.0"
      ]
     },
     "execution_count": 4,
     "metadata": {},
     "output_type": "execute_result"
    }
   ],
   "source": [
    "7/10*10"
   ]
  },
  {
   "cell_type": "code",
   "execution_count": 12,
   "id": "37ea7dda",
   "metadata": {},
   "outputs": [
    {
     "name": "stdout",
     "output_type": "stream",
     "text": [
      "12846192678145012346982140268950172458735345245\n",
      "Given number is: 12846192678145012346982140268950172458735345245 and its reverse is: 54254353785427105986204128964321054187629164821\n",
      "Length of 12846192678145012346982140268950172458735345245 is: 47\n"
     ]
    }
   ],
   "source": [
    "n,r,le = int(input()),0,0\n",
    "k = n\n",
    "while n!=0:\n",
    "    r = r*10+n%10\n",
    "    n //= 10\n",
    "    le+=1\n",
    "print(f\"Given number is: {k} and its reverse is: {r}\")\n",
    "print(f\"Length of {k} is: {le}\")"
   ]
  },
  {
   "cell_type": "markdown",
   "id": "f17cdad7",
   "metadata": {},
   "source": [
    "```\n",
    "Input:\n",
    "    175632\n",
    "Output:\n",
    "    Even numbers are: 2 6\n",
    "    Odd numbers are: 3 5 7 1\n",
    "    Sum of Even numbers is: 8\n",
    "    Sum of Odd numbers is: 16\n",
    "    Length of Even numbers is: 2\n",
    "    Length of Odd numbers is: 4\n",
    "```"
   ]
  },
  {
   "cell_type": "markdown",
   "id": "b8f043bd",
   "metadata": {},
   "source": [
    "```\n",
    "Input:\n",
    "    175632\n",
    "Output:\n",
    "    Right half reverse is: 175236\n",
    "    Light half reverse is: 571632\n",
    "    Even numbers First half is:261357\n",
    "    Odd numbers First Half reverse is: 753126\n",
    "\n",
    "Input:\n",
    "    1750632\n",
    "Output:\n",
    "    Right half reverse is: 1750236\n",
    "    Light half reverse is: 5710632\n",
    "    Even numbers First half is:0261357\n",
    "    Odd numbers First Half reverse is: 7531026\n",
    "```"
   ]
  },
  {
   "cell_type": "code",
   "execution_count": 7,
   "id": "0a2a79ab",
   "metadata": {},
   "outputs": [
    {
     "name": "stdout",
     "output_type": "stream",
     "text": [
      "1234\n",
      "Even numbers are: 4 2 \n",
      "Odd numbers are: 3 1 \n",
      "Sum of Even numbers are: 6\n",
      "Sum of Odd numbers are: 4\n",
      "Length of Even numbers are: 2\n",
      "Length of Odd numbers are: 2\n"
     ]
    }
   ],
   "source": [
    "n,esu,osu,el,ol = int(input()),0,0,0,0\n",
    "es,os = '',''\n",
    "while n!=0:\n",
    "    k = n%10\n",
    "    if k%2==0:\n",
    "        es += str(k)+\" \"\n",
    "        esu += k\n",
    "        el +=1\n",
    "    else:\n",
    "        os += str(k)+\" \"\n",
    "        osu += k\n",
    "        ol += 1\n",
    "    n//=10\n",
    "print(f\"Even numbers are: {es}\")\n",
    "print(f\"Odd numbers are: {os}\")\n",
    "print(f\"Sum of Even numbers are: {esu}\")\n",
    "print(f\"Sum of Odd numbers are: {osu}\")\n",
    "print(f\"Length of Even numbers are: {el}\")\n",
    "print(f\"Length of Odd numbers are: {ol}\")"
   ]
  },
  {
   "cell_type": "code",
   "execution_count": 11,
   "id": "ce88b74a",
   "metadata": {},
   "outputs": [
    {
     "name": "stdout",
     "output_type": "stream",
     "text": [
      "Enter a fixed number: 6\n",
      "Enter a guess number: 23\n",
      "Enter a guess number: 5\n",
      "Enter a guess number: 7\n",
      "Enter a guess number: 122\n",
      "Enter a guess number: 6\n",
      "Win a game\n"
     ]
    }
   ],
   "source": [
    "p = int(input(\"Enter a fixed number: \"))\n",
    "while True:\n",
    "    n = int(input(\"Enter a guess number: \"))\n",
    "    if n == p:\n",
    "        print(\"Win a game\")\n",
    "        break"
   ]
  },
  {
   "cell_type": "markdown",
   "id": "8fc43238",
   "metadata": {},
   "source": [
    "# Jumping Statements:\n",
    "    - To exit or to skip a value from a loop\n",
    "    - break => exit from a loop\n",
    "    - continue => skips a value from a loop\n",
    "    - pass => it doesnt do anything it acts like continue but it is for further enhancement improvements\n",
    "    - return => it return single or multiple values from a function by using data structures"
   ]
  },
  {
   "cell_type": "code",
   "execution_count": 12,
   "id": "e10c4a77",
   "metadata": {},
   "outputs": [
    {
     "name": "stdout",
     "output_type": "stream",
     "text": [
      "Enter a number: 20\n",
      "0 1 2 3 4 5 6 7 8 9 "
     ]
    }
   ],
   "source": [
    "n = int(input(\"Enter a number: \"))\n",
    "for i in range(n):\n",
    "    if i == 10:\n",
    "        break\n",
    "    else:\n",
    "        print(i,end=\" \")"
   ]
  },
  {
   "cell_type": "code",
   "execution_count": 13,
   "id": "33696c75",
   "metadata": {},
   "outputs": [
    {
     "name": "stdout",
     "output_type": "stream",
     "text": [
      "Enter a number: 20\n",
      "0 1 2 3 4 5 6 7 8 9 11 12 13 14 15 16 17 18 19 "
     ]
    }
   ],
   "source": [
    "n = int(input(\"Enter a number: \"))\n",
    "for i in range(n):\n",
    "    if i == 10:\n",
    "        continue\n",
    "    else:\n",
    "        print(i,end=\" \")"
   ]
  },
  {
   "cell_type": "code",
   "execution_count": 14,
   "id": "ecb221dd",
   "metadata": {},
   "outputs": [
    {
     "name": "stdout",
     "output_type": "stream",
     "text": [
      "Enter a number: 35\n",
      "0 1 2 3 4 5 6 7 8 9 11 12 13 14 15 16 17 18 19 20 21 22 23 24 25 26 27 28 29 30 31 32 33 34 "
     ]
    }
   ],
   "source": [
    "n = int(input(\"Enter a number: \"))\n",
    "for i in range(n):\n",
    "    if i == 10:\n",
    "        pass\n",
    "    else:\n",
    "        print(i,end=\" \")"
   ]
  },
  {
   "cell_type": "code",
   "execution_count": 15,
   "id": "a5fbbad7",
   "metadata": {},
   "outputs": [
    {
     "name": "stdout",
     "output_type": "stream",
     "text": [
      "Enter a number: 34\n"
     ]
    },
    {
     "ename": "SyntaxError",
     "evalue": "'return' outside function (1668334106.py, line 4)",
     "output_type": "error",
     "traceback": [
      "\u001b[1;36m  File \u001b[1;32m\"C:\\Users\\pc14\\AppData\\Local\\Temp\\ipykernel_8892\\1668334106.py\"\u001b[1;36m, line \u001b[1;32m4\u001b[0m\n\u001b[1;33m    return\u001b[0m\n\u001b[1;37m    ^\u001b[0m\n\u001b[1;31mSyntaxError\u001b[0m\u001b[1;31m:\u001b[0m 'return' outside function\n"
     ]
    }
   ],
   "source": [
    "n = int(input(\"Enter a number: \"))\n",
    "for i in range(n):\n",
    "    if i == 10:\n",
    "        return\n",
    "    else:\n",
    "        print(i,end=\" \")"
   ]
  },
  {
   "cell_type": "markdown",
   "id": "5ea28fa3",
   "metadata": {},
   "source": [
    "# Inner Loops:\n",
    "    - Loop within a loop\n",
    "    - Snytax:\n",
    "        loop:\n",
    "            loop:\n",
    "   "
   ]
  },
  {
   "cell_type": "code",
   "execution_count": 20,
   "id": "90997bd4",
   "metadata": {},
   "outputs": [
    {
     "name": "stdout",
     "output_type": "stream",
     "text": [
      "3\n",
      "00 01 02 \n",
      "10 11 12 \n",
      "20 21 22 \n"
     ]
    }
   ],
   "source": [
    "n = int(input())\n",
    "for i in range(n):\n",
    "    for j in range(n):\n",
    "        print(f\"{i}{j}\",end=\" \")\n",
    "    print()"
   ]
  },
  {
   "cell_type": "code",
   "execution_count": 22,
   "id": "67bcf509",
   "metadata": {},
   "outputs": [
    {
     "data": {
      "text/plain": [
       "'A'"
      ]
     },
     "execution_count": 22,
     "metadata": {},
     "output_type": "execute_result"
    }
   ],
   "source": [
    "chr(65)"
   ]
  },
  {
   "cell_type": "code",
   "execution_count": 23,
   "id": "109aeab7",
   "metadata": {},
   "outputs": [
    {
     "data": {
      "text/plain": [
       "'A1'"
      ]
     },
     "execution_count": 23,
     "metadata": {},
     "output_type": "execute_result"
    }
   ],
   "source": [
    "chr(65)+str(1)"
   ]
  },
  {
   "cell_type": "code",
   "execution_count": 36,
   "id": "5f62d9cb",
   "metadata": {},
   "outputs": [
    {
     "name": "stdout",
     "output_type": "stream",
     "text": [
      "enter row size: 4\n",
      "enter column size: 6\n",
      "A1 A2 A3 A4 A5 A6 \n",
      "B1 B2 B3 B4 B5 B6 \n",
      "C1 C2 C3 C4 C5 C6 \n",
      "D1 D2 D3 D4 D5 D6 \n"
     ]
    }
   ],
   "source": [
    "n=int(input(\"enter row size: \"))\n",
    "m=int(input(\"enter column size: \"))\n",
    "for i in range(n):\n",
    "    for j in range(m):\n",
    "        print(f\"{chr(65+i)+str(j+1)}\",end=\" \")\n",
    "    print()"
   ]
  },
  {
   "cell_type": "code",
   "execution_count": 50,
   "id": "c064ac87",
   "metadata": {},
   "outputs": [
    {
     "name": "stdout",
     "output_type": "stream",
     "text": [
      "[] || ## ** [] ## [] \n",
      "** || ** [] ## [] ** \n",
      "&& || && && && && && \n",
      "** || ** () ** () ** \n",
      "() || () \n"
     ]
    }
   ],
   "source": [
    "k = 1\n",
    "for i in range(5):\n",
    "    for j in range(7):\n",
    "        if k>=32:\n",
    "            break\n",
    "        elif j == 1:\n",
    "            print(\"||\",end=\" \")\n",
    "        elif i == 2:\n",
    "            print(\"&&\",end=\" \")\n",
    "        elif k%3==0 and k<=20:\n",
    "            print(\"##\",end=\" \")\n",
    "        elif k%2==0:\n",
    "            print(\"**\",end=\" \")\n",
    "        elif k>=21:\n",
    "            print(\"()\",end=\" \")\n",
    "        else:\n",
    "            print(\"[]\",end=\" \")\n",
    "        k+=1\n",
    "    print()"
   ]
  },
  {
   "cell_type": "code",
   "execution_count": 52,
   "id": "26faf546",
   "metadata": {},
   "outputs": [
    {
     "name": "stdout",
     "output_type": "stream",
     "text": [
      "2\n",
      "4\n",
      "Enter 1 person 1 value: 23\n",
      "Enter 1 person 2 value: 45\n",
      "Enter 1 person 3 value: 2\n",
      "Enter 1 person 4 value: 34\n",
      "--------------\n",
      "Enter 2 person 1 value: 34\n",
      "Enter 2 person 2 value: 56\n",
      "Enter 2 person 3 value: 34\n",
      "Enter 2 person 4 value: 5\n",
      "--------------\n"
     ]
    }
   ],
   "source": [
    "n,m = int(input()),int(input())\n",
    "for i in range(1,n+1):\n",
    "    for j in range(1,m+1):\n",
    "        k = int(input(f\"Enter {i} person {j} value: \"))\n",
    "    print(\"--------------\")"
   ]
  },
  {
   "cell_type": "markdown",
   "id": "a2250578",
   "metadata": {},
   "source": [
    "```\n",
    "Input:\n",
    "        2\n",
    "        3\n",
    "        3\n",
    "        5\n",
    "        7\n",
    "        Even sum of 1st person: 0\n",
    "        5\n",
    "        6\n",
    "        0\n",
    "        Even sum of 2nd person: 6\n",
    "```"
   ]
  },
  {
   "cell_type": "markdown",
   "id": "b16337d4",
   "metadata": {},
   "source": [
    "# Functions:\n",
    "    - To perform a specific task\n",
    "        - user defined\n",
    "            - with returntype and with arguments\n",
    "            - with returntype and without arguments\n",
    "            - without returntype and with arguments\n",
    "            - without returntype and without arguments\n",
    "        - predefined\n",
    "       \n",
    "       Syntax:\n",
    "           def functionname(arguments):\n",
    "               return return_value"
   ]
  },
  {
   "cell_type": "code",
   "execution_count": 53,
   "id": "cf233c9e",
   "metadata": {},
   "outputs": [
    {
     "name": "stdout",
     "output_type": "stream",
     "text": [
      "4\n",
      "5\n",
      "Addition of 4 and 5 is: 9\n"
     ]
    }
   ],
   "source": [
    "# with returntype and with arguments\n",
    "# Reading => Main\n",
    "# Printing => Main\n",
    "# Logic => function\n",
    "\n",
    "def adtw(a,h):\n",
    "    return a+h\n",
    "\n",
    "n,m = int(input()),int(input())\n",
    "print(f\"Addition of {n} and {m} is: {adtw(n,m)}\")"
   ]
  },
  {
   "cell_type": "code",
   "execution_count": 55,
   "id": "900316b2",
   "metadata": {},
   "outputs": [
    {
     "name": "stdout",
     "output_type": "stream",
     "text": [
      "3\n",
      "2\n",
      "Addition of 3 and 2 is:  5\n"
     ]
    }
   ],
   "source": [
    "# with returntype and without arguments\n",
    "# Reading => function\n",
    "# Printing => Main\n",
    "# Logic => function\n",
    "\n",
    "def adtw():\n",
    "    a,h = int(input()),int(input())\n",
    "    print(f\"Addition of {a} and {h} is: \",end=\" \")\n",
    "    return a+h\n",
    "\n",
    "print(adtw())"
   ]
  },
  {
   "cell_type": "code",
   "execution_count": 57,
   "id": "3faac2d7",
   "metadata": {},
   "outputs": [
    {
     "name": "stdout",
     "output_type": "stream",
     "text": [
      "3\n",
      "8\n",
      "Addition of 3 and 8 is: 11\n"
     ]
    }
   ],
   "source": [
    "# without returntype and with arguments\n",
    "# Reading => Main\n",
    "# Printing => function\n",
    "# Logic => function\n",
    "\n",
    "def adtw(a,h):\n",
    "    print(f\"Addition of {a} and {h} is: {a+h}\")\n",
    "    return \n",
    "\n",
    "n,m = int(input()),int(input())\n",
    "adtw(n,m)"
   ]
  },
  {
   "cell_type": "code",
   "execution_count": 58,
   "id": "e8b45d03",
   "metadata": {},
   "outputs": [
    {
     "name": "stdout",
     "output_type": "stream",
     "text": [
      "6\n",
      "7\n",
      "Addition of 6 and 7 is: 13\n"
     ]
    }
   ],
   "source": [
    "# without returntype and without arguments\n",
    "# Reading => function\n",
    "# Printing => function\n",
    "# Logic => function\n",
    "\n",
    "def adtw():\n",
    "    n,m = int(input()),int(input())\n",
    "    print(f\"Addition of {n} and {m} is: {n+m}\")\n",
    "    return \n",
    "\n",
    "adtw()"
   ]
  },
  {
   "cell_type": "markdown",
   "id": "7806e01c",
   "metadata": {},
   "source": []
  }
 ],
 "metadata": {
  "kernelspec": {
   "display_name": "Python 3 (ipykernel)",
   "language": "python",
   "name": "python3"
  },
  "language_info": {
   "codemirror_mode": {
    "name": "ipython",
    "version": 3
   },
   "file_extension": ".py",
   "mimetype": "text/x-python",
   "name": "python",
   "nbconvert_exporter": "python",
   "pygments_lexer": "ipython3",
   "version": "3.7.5"
  }
 },
 "nbformat": 4,
 "nbformat_minor": 5
}
